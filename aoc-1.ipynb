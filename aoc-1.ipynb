{
 "cells": [
  {
   "cell_type": "markdown",
   "id": "0b9c36bc",
   "metadata": {
    "papermill": {
     "duration": 0.005632,
     "end_time": "2023-12-01T11:40:24.168576",
     "exception": false,
     "start_time": "2023-12-01T11:40:24.162944",
     "status": "completed"
    },
    "tags": []
   },
   "source": [
    "# **Data Prep**"
   ]
  },
  {
   "cell_type": "code",
   "execution_count": 1,
   "id": "cef802a8",
   "metadata": {
    "execution": {
     "iopub.execute_input": "2023-12-01T11:40:24.183100Z",
     "iopub.status.busy": "2023-12-01T11:40:24.182633Z",
     "iopub.status.idle": "2023-12-01T11:40:24.211497Z",
     "shell.execute_reply": "2023-12-01T11:40:24.210143Z"
    },
    "papermill": {
     "duration": 0.038459,
     "end_time": "2023-12-01T11:40:24.214438",
     "exception": false,
     "start_time": "2023-12-01T11:40:24.175979",
     "status": "completed"
    },
    "tags": []
   },
   "outputs": [],
   "source": [
    "with open('/kaggle/input/aoc-1-1-fh/input_1.txt', 'r') as file:\n",
    "    # Read the lines and store them in an array\n",
    "    lines = file.readlines()"
   ]
  },
  {
   "cell_type": "code",
   "execution_count": 2,
   "id": "4d0c4366",
   "metadata": {
    "execution": {
     "iopub.execute_input": "2023-12-01T11:40:24.227354Z",
     "iopub.status.busy": "2023-12-01T11:40:24.226889Z",
     "iopub.status.idle": "2023-12-01T11:40:24.232447Z",
     "shell.execute_reply": "2023-12-01T11:40:24.231241Z"
    },
    "papermill": {
     "duration": 0.014784,
     "end_time": "2023-12-01T11:40:24.234947",
     "exception": false,
     "start_time": "2023-12-01T11:40:24.220163",
     "status": "completed"
    },
    "tags": []
   },
   "outputs": [],
   "source": [
    "lines = [s.rstrip('\\n') for s in lines]"
   ]
  },
  {
   "cell_type": "code",
   "execution_count": 3,
   "id": "4e79e8c1",
   "metadata": {
    "execution": {
     "iopub.execute_input": "2023-12-01T11:40:24.247504Z",
     "iopub.status.busy": "2023-12-01T11:40:24.247086Z",
     "iopub.status.idle": "2023-12-01T11:40:24.254778Z",
     "shell.execute_reply": "2023-12-01T11:40:24.253832Z"
    },
    "papermill": {
     "duration": 0.016689,
     "end_time": "2023-12-01T11:40:24.257053",
     "exception": false,
     "start_time": "2023-12-01T11:40:24.240364",
     "status": "completed"
    },
    "tags": []
   },
   "outputs": [
    {
     "data": {
      "text/plain": [
       "['sq5fivetwothree1', 'six5gc', 'txb3qfzsbzbxlzslfourone1vqxgfive']"
      ]
     },
     "execution_count": 3,
     "metadata": {},
     "output_type": "execute_result"
    }
   ],
   "source": [
    "lines[:3]"
   ]
  },
  {
   "cell_type": "markdown",
   "id": "c337039d",
   "metadata": {
    "papermill": {
     "duration": 0.005186,
     "end_time": "2023-12-01T11:40:24.267881",
     "exception": false,
     "start_time": "2023-12-01T11:40:24.262695",
     "status": "completed"
    },
    "tags": []
   },
   "source": [
    "# **PART 1**"
   ]
  },
  {
   "cell_type": "code",
   "execution_count": 4,
   "id": "6127e979",
   "metadata": {
    "execution": {
     "iopub.execute_input": "2023-12-01T11:40:24.281158Z",
     "iopub.status.busy": "2023-12-01T11:40:24.280690Z",
     "iopub.status.idle": "2023-12-01T11:40:24.291705Z",
     "shell.execute_reply": "2023-12-01T11:40:24.290539Z"
    },
    "papermill": {
     "duration": 0.020717,
     "end_time": "2023-12-01T11:40:24.294206",
     "exception": false,
     "start_time": "2023-12-01T11:40:24.273489",
     "status": "completed"
    },
    "tags": []
   },
   "outputs": [],
   "source": [
    "import re\n",
    "\n",
    "numbers = []\n",
    "for l in lines:\n",
    "    matches = re.findall(r'[0-9]', l)\n",
    "    if matches:\n",
    "        first_number = matches[0]\n",
    "        last_number = matches[-1]\n",
    "    else:\n",
    "        print(\"No number found in the string.\")\n",
    "    \n",
    "    numbers.append(int(str(first_number)+str(last_number)))"
   ]
  },
  {
   "cell_type": "code",
   "execution_count": 5,
   "id": "ad7f90ee",
   "metadata": {
    "execution": {
     "iopub.execute_input": "2023-12-01T11:40:24.307909Z",
     "iopub.status.busy": "2023-12-01T11:40:24.307034Z",
     "iopub.status.idle": "2023-12-01T11:40:24.313601Z",
     "shell.execute_reply": "2023-12-01T11:40:24.312749Z"
    },
    "papermill": {
     "duration": 0.015817,
     "end_time": "2023-12-01T11:40:24.315915",
     "exception": false,
     "start_time": "2023-12-01T11:40:24.300098",
     "status": "completed"
    },
    "tags": []
   },
   "outputs": [
    {
     "data": {
      "text/plain": [
       "[51, 55, 31]"
      ]
     },
     "execution_count": 5,
     "metadata": {},
     "output_type": "execute_result"
    }
   ],
   "source": [
    "numbers[:3]"
   ]
  },
  {
   "cell_type": "code",
   "execution_count": 6,
   "id": "19f2d190",
   "metadata": {
    "execution": {
     "iopub.execute_input": "2023-12-01T11:40:24.329275Z",
     "iopub.status.busy": "2023-12-01T11:40:24.328826Z",
     "iopub.status.idle": "2023-12-01T11:40:24.335628Z",
     "shell.execute_reply": "2023-12-01T11:40:24.334473Z"
    },
    "papermill": {
     "duration": 0.016597,
     "end_time": "2023-12-01T11:40:24.338266",
     "exception": false,
     "start_time": "2023-12-01T11:40:24.321669",
     "status": "completed"
    },
    "tags": []
   },
   "outputs": [
    {
     "data": {
      "text/plain": [
       "54331"
      ]
     },
     "execution_count": 6,
     "metadata": {},
     "output_type": "execute_result"
    }
   ],
   "source": [
    "sum(numbers)"
   ]
  },
  {
   "cell_type": "markdown",
   "id": "84e35342",
   "metadata": {
    "papermill": {
     "duration": 0.005593,
     "end_time": "2023-12-01T11:40:24.350134",
     "exception": false,
     "start_time": "2023-12-01T11:40:24.344541",
     "status": "completed"
    },
    "tags": []
   },
   "source": [
    "# **PART 2**"
   ]
  },
  {
   "cell_type": "code",
   "execution_count": 7,
   "id": "9dd1e833",
   "metadata": {
    "execution": {
     "iopub.execute_input": "2023-12-01T11:40:24.363617Z",
     "iopub.status.busy": "2023-12-01T11:40:24.363163Z",
     "iopub.status.idle": "2023-12-01T11:40:24.368927Z",
     "shell.execute_reply": "2023-12-01T11:40:24.367896Z"
    },
    "papermill": {
     "duration": 0.015471,
     "end_time": "2023-12-01T11:40:24.371407",
     "exception": false,
     "start_time": "2023-12-01T11:40:24.355936",
     "status": "completed"
    },
    "tags": []
   },
   "outputs": [],
   "source": [
    "word_to_number = {\n",
    "    'one': 1,\n",
    "    'two': 2,\n",
    "    'three': 3,\n",
    "    'four': 4,\n",
    "    'five': 5,\n",
    "    'six': 6,\n",
    "    'seven': 7,\n",
    "    'eight': 8,\n",
    "    'nine': 9\n",
    "}"
   ]
  },
  {
   "cell_type": "code",
   "execution_count": 8,
   "id": "89bb9a95",
   "metadata": {
    "execution": {
     "iopub.execute_input": "2023-12-01T11:40:24.386392Z",
     "iopub.status.busy": "2023-12-01T11:40:24.385204Z",
     "iopub.status.idle": "2023-12-01T11:40:24.391684Z",
     "shell.execute_reply": "2023-12-01T11:40:24.390805Z"
    },
    "papermill": {
     "duration": 0.01671,
     "end_time": "2023-12-01T11:40:24.394137",
     "exception": false,
     "start_time": "2023-12-01T11:40:24.377427",
     "status": "completed"
    },
    "tags": []
   },
   "outputs": [],
   "source": [
    "def garantie_int(value):\n",
    "    if value[10]:  # Check if number is found\n",
    "        return int(value[len(value)-1])\n",
    "    else:  # Check if word is found\n",
    "        value = list(filter(None, value))\n",
    "        if value[0] in word_to_number:\n",
    "            return word_to_number[value[0]]"
   ]
  },
  {
   "cell_type": "code",
   "execution_count": 9,
   "id": "64a760f9",
   "metadata": {
    "execution": {
     "iopub.execute_input": "2023-12-01T11:40:24.409813Z",
     "iopub.status.busy": "2023-12-01T11:40:24.407796Z",
     "iopub.status.idle": "2023-12-01T11:40:24.452868Z",
     "shell.execute_reply": "2023-12-01T11:40:24.451821Z"
    },
    "papermill": {
     "duration": 0.055366,
     "end_time": "2023-12-01T11:40:24.455572",
     "exception": false,
     "start_time": "2023-12-01T11:40:24.400206",
     "status": "completed"
    },
    "tags": []
   },
   "outputs": [],
   "source": [
    "numbers_2 = []\n",
    "values_to_search = list(word_to_number.keys())\n",
    "value_pattern = '|'.join(f'(?=({re.escape(word)}))' for word in values_to_search)\n",
    "number_pattern = r'[0-9]'  # Pattern to find numbers\n",
    "combined_pattern = f'({value_pattern})|({number_pattern})'\n",
    "\n",
    "\n",
    "for l in lines:\n",
    "    matches = re.findall(combined_pattern, l)\n",
    "    if matches:\n",
    "        first_number = garantie_int(matches[0])\n",
    "        last_number =garantie_int(matches[-1])\n",
    "    else:\n",
    "        print(\"No number found in the string.\")\n",
    "    \n",
    "    numbers_2.append(int(str(first_number)+str(last_number)))"
   ]
  },
  {
   "cell_type": "code",
   "execution_count": 10,
   "id": "cae6e2d2",
   "metadata": {
    "execution": {
     "iopub.execute_input": "2023-12-01T11:40:24.471491Z",
     "iopub.status.busy": "2023-12-01T11:40:24.469520Z",
     "iopub.status.idle": "2023-12-01T11:40:24.478285Z",
     "shell.execute_reply": "2023-12-01T11:40:24.477118Z"
    },
    "papermill": {
     "duration": 0.018673,
     "end_time": "2023-12-01T11:40:24.480767",
     "exception": false,
     "start_time": "2023-12-01T11:40:24.462094",
     "status": "completed"
    },
    "tags": []
   },
   "outputs": [
    {
     "data": {
      "text/plain": [
       "[51, 65, 35, 33, 75, 24, 35, 34, 76, 15]"
      ]
     },
     "execution_count": 10,
     "metadata": {},
     "output_type": "execute_result"
    }
   ],
   "source": [
    "numbers_2[:10]"
   ]
  },
  {
   "cell_type": "code",
   "execution_count": 11,
   "id": "089a96bb",
   "metadata": {
    "execution": {
     "iopub.execute_input": "2023-12-01T11:40:24.495179Z",
     "iopub.status.busy": "2023-12-01T11:40:24.494394Z",
     "iopub.status.idle": "2023-12-01T11:40:24.500410Z",
     "shell.execute_reply": "2023-12-01T11:40:24.499537Z"
    },
    "papermill": {
     "duration": 0.015825,
     "end_time": "2023-12-01T11:40:24.502668",
     "exception": false,
     "start_time": "2023-12-01T11:40:24.486843",
     "status": "completed"
    },
    "tags": []
   },
   "outputs": [
    {
     "data": {
      "text/plain": [
       "54518"
      ]
     },
     "execution_count": 11,
     "metadata": {},
     "output_type": "execute_result"
    }
   ],
   "source": [
    "sum(numbers_2)"
   ]
  }
 ],
 "metadata": {
  "kaggle": {
   "accelerator": "none",
   "dataSources": [
    {
     "datasetId": 4089597,
     "sourceId": 7095944,
     "sourceType": "datasetVersion"
    }
   ],
   "dockerImageVersionId": 30587,
   "isGpuEnabled": false,
   "isInternetEnabled": true,
   "language": "python",
   "sourceType": "notebook"
  },
  "kernelspec": {
   "display_name": "Python 3",
   "language": "python",
   "name": "python3"
  },
  "language_info": {
   "codemirror_mode": {
    "name": "ipython",
    "version": 3
   },
   "file_extension": ".py",
   "mimetype": "text/x-python",
   "name": "python",
   "nbconvert_exporter": "python",
   "pygments_lexer": "ipython3",
   "version": "3.10.12"
  },
  "papermill": {
   "default_parameters": {},
   "duration": 4.382656,
   "end_time": "2023-12-01T11:40:24.929479",
   "environment_variables": {},
   "exception": null,
   "input_path": "__notebook__.ipynb",
   "output_path": "__notebook__.ipynb",
   "parameters": {},
   "start_time": "2023-12-01T11:40:20.546823",
   "version": "2.4.0"
  }
 },
 "nbformat": 4,
 "nbformat_minor": 5
}
