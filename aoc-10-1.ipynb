{
 "cells": [
  {
   "cell_type": "code",
   "execution_count": 1,
   "id": "985f7d06",
   "metadata": {
    "_cell_guid": "b1076dfc-b9ad-4769-8c92-a6c4dae69d19",
    "_uuid": "8f2839f25d086af736a60e9eeb907d3b93b6e0e5",
    "execution": {
     "iopub.execute_input": "2023-12-10T09:58:45.610763Z",
     "iopub.status.busy": "2023-12-10T09:58:45.609962Z",
     "iopub.status.idle": "2023-12-10T09:58:45.629182Z",
     "shell.execute_reply": "2023-12-10T09:58:45.628010Z"
    },
    "papermill": {
     "duration": 0.025574,
     "end_time": "2023-12-10T09:58:45.631448",
     "exception": false,
     "start_time": "2023-12-10T09:58:45.605874",
     "status": "completed"
    },
    "tags": []
   },
   "outputs": [],
   "source": [
    "with open('/kaggle/input/aoc-10-1-fh/aoc_10_input.txt', 'r') as file:\n",
    "    # Read the lines and store them in an array\n",
    "    lines = file.readlines()\n",
    "lines = [s.rstrip('\\n') for s in lines]"
   ]
  },
  {
   "cell_type": "code",
   "execution_count": 2,
   "id": "2678a131",
   "metadata": {
    "execution": {
     "iopub.execute_input": "2023-12-10T09:58:45.637905Z",
     "iopub.status.busy": "2023-12-10T09:58:45.637251Z",
     "iopub.status.idle": "2023-12-10T09:58:45.642620Z",
     "shell.execute_reply": "2023-12-10T09:58:45.641198Z"
    },
    "papermill": {
     "duration": 0.011177,
     "end_time": "2023-12-10T09:58:45.644994",
     "exception": false,
     "start_time": "2023-12-10T09:58:45.633817",
     "status": "completed"
    },
    "tags": []
   },
   "outputs": [],
   "source": [
    "pipe_map = []\n",
    "for line in lines:\n",
    "    #line_numbers = [num for num in line.split()]\n",
    "    pipe_map.append(line)"
   ]
  },
  {
   "cell_type": "code",
   "execution_count": 3,
   "id": "a1693b17",
   "metadata": {
    "execution": {
     "iopub.execute_input": "2023-12-10T09:58:45.650874Z",
     "iopub.status.busy": "2023-12-10T09:58:45.650513Z",
     "iopub.status.idle": "2023-12-10T09:58:45.683144Z",
     "shell.execute_reply": "2023-12-10T09:58:45.682443Z"
    },
    "papermill": {
     "duration": 0.037914,
     "end_time": "2023-12-10T09:58:45.685093",
     "exception": false,
     "start_time": "2023-12-10T09:58:45.647179",
     "status": "completed"
    },
    "tags": []
   },
   "outputs": [
    {
     "name": "stdout",
     "output_type": "stream",
     "text": [
      "Steps: 13846\n",
      "Result: 6923.0\n"
     ]
    }
   ],
   "source": [
    "current_pipe = ''\n",
    "cpos = [23, 114]\n",
    "cdir = [1, 0]\n",
    "pipe = ''\n",
    "steps = 0\n",
    "\n",
    "while(current_pipe != 'S'):\n",
    "    current_pipe = pipe_map[cpos[0]][cpos[1]]\n",
    "    if(cdir == [1, 0]):\n",
    "        if(current_pipe == '|'):\n",
    "            cdir = cdir\n",
    "        elif(current_pipe == 'L'):\n",
    "            cdir = [0, 1]\n",
    "        elif(current_pipe == 'J'):\n",
    "            cdir = [0, -1]\n",
    "\n",
    "    elif(cdir == [-1, 0]):\n",
    "        if(current_pipe == '|'):\n",
    "            cdir = cdir\n",
    "        elif(current_pipe == 'F'):\n",
    "            cdir = [0, 1]\n",
    "        elif(current_pipe == '7'):\n",
    "            cdir = [0, -1]\n",
    "\n",
    "    elif(cdir == [0, 1]):\n",
    "        if(current_pipe == '-'):\n",
    "            cdir = cdir\n",
    "        elif(current_pipe == 'J'):\n",
    "            cdir = [-1, 0]\n",
    "        elif(current_pipe == '7'):\n",
    "            cdir = [1, 0]\n",
    "\n",
    "    else:\n",
    "        if(current_pipe == '-'):\n",
    "            cdir = cdir\n",
    "        elif(current_pipe == 'L'):\n",
    "            cdir = [-1, 0]\n",
    "        elif(current_pipe == 'F'):\n",
    "            cdir = [1, 0]\n",
    "\n",
    "    cpos = [x + y for x, y in zip(cpos, cdir)]    \n",
    "\n",
    "\n",
    "    steps += 1\n",
    "    pipe += current_pipe\n",
    "\n",
    "print('Steps:', steps)\n",
    "print('Result:', steps/2)"
   ]
  },
  {
   "cell_type": "markdown",
   "id": "c669afeb",
   "metadata": {
    "papermill": {
     "duration": 0.001874,
     "end_time": "2023-12-10T09:58:45.689155",
     "exception": false,
     "start_time": "2023-12-10T09:58:45.687281",
     "status": "completed"
    },
    "tags": []
   },
   "source": [
    "# **PART 2**"
   ]
  },
  {
   "cell_type": "code",
   "execution_count": 4,
   "id": "cc0d4a43",
   "metadata": {
    "execution": {
     "iopub.execute_input": "2023-12-10T09:58:45.695164Z",
     "iopub.status.busy": "2023-12-10T09:58:45.694150Z",
     "iopub.status.idle": "2023-12-10T09:58:45.774722Z",
     "shell.execute_reply": "2023-12-10T09:58:45.773331Z"
    },
    "papermill": {
     "duration": 0.086374,
     "end_time": "2023-12-10T09:58:45.777416",
     "exception": false,
     "start_time": "2023-12-10T09:58:45.691042",
     "status": "completed"
    },
    "tags": []
   },
   "outputs": [
    {
     "name": "stdout",
     "output_type": "stream",
     "text": [
      "6923\n",
      "529\n"
     ]
    }
   ],
   "source": [
    "pipe_types = {\n",
    "    \"|\": [\"n\", \"s\"],\n",
    "    \"-\": [\"w\", \"e\"],\n",
    "    \"L\": [\"n\", \"e\"],\n",
    "    \"J\": [\"n\", \"w\"],\n",
    "    \"7\": [\"s\", \"w\"],\n",
    "    \"F\": [\"s\", \"e\"],\n",
    "    'S': [\"n\", \"s\", \"w\", \"e\"],\n",
    "}\n",
    "\n",
    "directions = {\n",
    "    \"n\": (-1, 0, \"s\"),\n",
    "    \"s\": (1, 0, \"n\"),\n",
    "    \"w\": (0, -1, \"e\"),\n",
    "    \"e\": (0, 1, \"w\"),\n",
    "}\n",
    "\n",
    "map = [[c for c in line.strip()] for line in lines]\n",
    "\n",
    "start = (22, 114)\n",
    "\n",
    "encountered_places = dict()\n",
    "\n",
    "search_queue = [(start, 0)]\n",
    "while len(search_queue) > 0:\n",
    "    current, distance = search_queue.pop(0)\n",
    "    if current in encountered_places:\n",
    "        continue\n",
    "    encountered_places[current] = distance\n",
    "    i, j = current\n",
    "    available_directions = pipe_types[map[i][j]]\n",
    "    for direction in available_directions:\n",
    "        di, dj, opposite = directions[direction]\n",
    "        new = (i + di, j + dj)\n",
    "        if i + di < 0 or i + di >= len(map):\n",
    "            continue\n",
    "        if j + dj < 0 or j + dj >= len(map[i + di]):\n",
    "            continue\n",
    "        target = map[i + di][j + dj]\n",
    "        if target not in pipe_types:\n",
    "            continue\n",
    "        target_directions = pipe_types[target]\n",
    "        if opposite in target_directions:\n",
    "            search_queue.append((new, distance + 1))\n",
    "\n",
    "max_distance = max(encountered_places.values())\n",
    "\n",
    "\n",
    "print(max_distance)\n",
    "\n",
    "def get_piece_type(i, j):\n",
    "    reachable_directions = []\n",
    "    for direction in directions:\n",
    "        di, dj, opposite = directions[direction]\n",
    "        if i + di < 0 or i + di >= len(map):\n",
    "            continue\n",
    "        if j + dj < 0 or j + dj >= len(map[i + di]):\n",
    "            continue\n",
    "        if (i + di, j + dj) not in encountered_places:\n",
    "            continue\n",
    "        target = map[i + di][j + dj]\n",
    "        if target not in pipe_types:\n",
    "            continue\n",
    "        target_directions = pipe_types[target]\n",
    "        if opposite not in target_directions:\n",
    "            continue\n",
    "        reachable_directions.append(direction)\n",
    "    for piece_type in pipe_types:\n",
    "        if len(reachable_directions) == len(pipe_types[piece_type]):\n",
    "            if all([direction in pipe_types[piece_type] for direction in reachable_directions]):\n",
    "                return piece_type\n",
    "    return None\n",
    "\n",
    "map[start[0]][start[1]] = get_piece_type(start[0], start[1])\n",
    "\n",
    "for i in range(len(map)):\n",
    "    norths = 0\n",
    "    for j in range(len(map[i])):\n",
    "        place = map[i][j]\n",
    "        if (i,j) in encountered_places:\n",
    "            pipe_directions = pipe_types[place]\n",
    "            if \"n\" in pipe_directions:\n",
    "                norths += 1\n",
    "            continue\n",
    "        if norths % 2 == 0:\n",
    "            map[i][j] = \"O\"\n",
    "        else:\n",
    "            map[i][j] = \"I\"\n",
    "\n",
    "\n",
    "inside_count = \"\\n\".join([\"\".join(line) for line in map]).count(\"I\")\n",
    "print(inside_count)"
   ]
  }
 ],
 "metadata": {
  "kaggle": {
   "accelerator": "none",
   "dataSources": [
    {
     "datasetId": 4139852,
     "sourceId": 7166355,
     "sourceType": "datasetVersion"
    }
   ],
   "dockerImageVersionId": 30615,
   "isGpuEnabled": false,
   "isInternetEnabled": true,
   "language": "python",
   "sourceType": "notebook"
  },
  "kernelspec": {
   "display_name": "Python 3",
   "language": "python",
   "name": "python3"
  },
  "language_info": {
   "codemirror_mode": {
    "name": "ipython",
    "version": 3
   },
   "file_extension": ".py",
   "mimetype": "text/x-python",
   "name": "python",
   "nbconvert_exporter": "python",
   "pygments_lexer": "ipython3",
   "version": "3.10.12"
  },
  "papermill": {
   "default_parameters": {},
   "duration": 3.135491,
   "end_time": "2023-12-10T09:58:46.100712",
   "environment_variables": {},
   "exception": null,
   "input_path": "__notebook__.ipynb",
   "output_path": "__notebook__.ipynb",
   "parameters": {},
   "start_time": "2023-12-10T09:58:42.965221",
   "version": "2.4.0"
  }
 },
 "nbformat": 4,
 "nbformat_minor": 5
}
