{
 "cells": [
  {
   "cell_type": "markdown",
   "id": "96349268",
   "metadata": {
    "papermill": {
     "duration": 0.004545,
     "end_time": "2023-12-13T09:06:32.098498",
     "exception": false,
     "start_time": "2023-12-13T09:06:32.093953",
     "status": "completed"
    },
    "tags": []
   },
   "source": [
    "# **GET DATA INTO THE RIGHT FORM**"
   ]
  },
  {
   "cell_type": "code",
   "execution_count": 1,
   "id": "d09da309",
   "metadata": {
    "execution": {
     "iopub.execute_input": "2023-12-13T09:06:32.109133Z",
     "iopub.status.busy": "2023-12-13T09:06:32.108400Z",
     "iopub.status.idle": "2023-12-13T09:06:32.118943Z",
     "shell.execute_reply": "2023-12-13T09:06:32.118276Z"
    },
    "papermill": {
     "duration": 0.018216,
     "end_time": "2023-12-13T09:06:32.120966",
     "exception": false,
     "start_time": "2023-12-13T09:06:32.102750",
     "status": "completed"
    },
    "tags": []
   },
   "outputs": [],
   "source": [
    "import re\n",
    "\n",
    "def parse_map(map_str):\n",
    "    lines = map_str.split('\\n')\n",
    "    return list(lines)"
   ]
  },
  {
   "cell_type": "code",
   "execution_count": 2,
   "id": "d9be9425",
   "metadata": {
    "execution": {
     "iopub.execute_input": "2023-12-13T09:06:32.130747Z",
     "iopub.status.busy": "2023-12-13T09:06:32.130071Z",
     "iopub.status.idle": "2023-12-13T09:06:32.140950Z",
     "shell.execute_reply": "2023-12-13T09:06:32.139999Z"
    },
    "papermill": {
     "duration": 0.017923,
     "end_time": "2023-12-13T09:06:32.142937",
     "exception": false,
     "start_time": "2023-12-13T09:06:32.125014",
     "status": "completed"
    },
    "tags": []
   },
   "outputs": [
    {
     "data": {
      "text/plain": [
       "100"
      ]
     },
     "execution_count": 2,
     "metadata": {},
     "output_type": "execute_result"
    }
   ],
   "source": [
    "blobs = open(\"/kaggle/input/aoc-13-1-fh/input_13.txt\", \"r\").read().split('\\n\\n')\n",
    "len(blobs)"
   ]
  },
  {
   "cell_type": "code",
   "execution_count": 3,
   "id": "c65f0834",
   "metadata": {
    "execution": {
     "iopub.execute_input": "2023-12-13T09:06:32.153093Z",
     "iopub.status.busy": "2023-12-13T09:06:32.152472Z",
     "iopub.status.idle": "2023-12-13T09:06:32.156923Z",
     "shell.execute_reply": "2023-12-13T09:06:32.156283Z"
    },
    "papermill": {
     "duration": 0.011651,
     "end_time": "2023-12-13T09:06:32.158860",
     "exception": false,
     "start_time": "2023-12-13T09:06:32.147209",
     "status": "completed"
    },
    "tags": []
   },
   "outputs": [],
   "source": [
    "grids = list(map(parse_map, blobs))"
   ]
  },
  {
   "cell_type": "markdown",
   "id": "2d0640ab",
   "metadata": {
    "papermill": {
     "duration": 0.003752,
     "end_time": "2023-12-13T09:06:32.166699",
     "exception": false,
     "start_time": "2023-12-13T09:06:32.162947",
     "status": "completed"
    },
    "tags": []
   },
   "source": [
    "# **PART 1**"
   ]
  },
  {
   "cell_type": "code",
   "execution_count": 4,
   "id": "9062a650",
   "metadata": {
    "execution": {
     "iopub.execute_input": "2023-12-13T09:06:32.176601Z",
     "iopub.status.busy": "2023-12-13T09:06:32.175944Z",
     "iopub.status.idle": "2023-12-13T09:06:32.182961Z",
     "shell.execute_reply": "2023-12-13T09:06:32.182296Z"
    },
    "papermill": {
     "duration": 0.014124,
     "end_time": "2023-12-13T09:06:32.184875",
     "exception": false,
     "start_time": "2023-12-13T09:06:32.170751",
     "status": "completed"
    },
    "tags": []
   },
   "outputs": [],
   "source": [
    "counter = 0\n",
    "clist = []\n",
    "result = 0\n",
    "for grid in grids: \n",
    "    counter +=1\n",
    "    # Check for matching rows\n",
    "    for i in range(len(grid)-1):\n",
    "        symetrie = 1\n",
    "        if grid[i] == grid[i + 1]:\n",
    "            #print(f\"Row {i + 1} matches Row {i + 2}\")\n",
    "            #print(grid[i-(j+1)], grid[i+2+j])\n",
    "            for j in range(min(len(grid)-(i+2), i)):\n",
    "                #print(j, len(grid)-(i+2), i)\n",
    "                if(grid[i-(j+1)] != grid[i+2+j]):\n",
    "                    symetrie = 0\n",
    "                    break\n",
    "            if(symetrie == 1):\n",
    "                result += (i+1) * 100\n",
    "                clist.append(counter)"
   ]
  },
  {
   "cell_type": "code",
   "execution_count": 5,
   "id": "1ef6d516",
   "metadata": {
    "execution": {
     "iopub.execute_input": "2023-12-13T09:06:32.194506Z",
     "iopub.status.busy": "2023-12-13T09:06:32.193970Z",
     "iopub.status.idle": "2023-12-13T09:06:32.200096Z",
     "shell.execute_reply": "2023-12-13T09:06:32.199057Z"
    },
    "papermill": {
     "duration": 0.013168,
     "end_time": "2023-12-13T09:06:32.202084",
     "exception": false,
     "start_time": "2023-12-13T09:06:32.188916",
     "status": "completed"
    },
    "tags": []
   },
   "outputs": [
    {
     "data": {
      "text/plain": [
       "35000"
      ]
     },
     "execution_count": 5,
     "metadata": {},
     "output_type": "execute_result"
    }
   ],
   "source": [
    "result"
   ]
  },
  {
   "cell_type": "code",
   "execution_count": 6,
   "id": "32761c0f",
   "metadata": {
    "execution": {
     "iopub.execute_input": "2023-12-13T09:06:32.212215Z",
     "iopub.status.busy": "2023-12-13T09:06:32.211592Z",
     "iopub.status.idle": "2023-12-13T09:06:32.217451Z",
     "shell.execute_reply": "2023-12-13T09:06:32.216678Z"
    },
    "papermill": {
     "duration": 0.013051,
     "end_time": "2023-12-13T09:06:32.219378",
     "exception": false,
     "start_time": "2023-12-13T09:06:32.206327",
     "status": "completed"
    },
    "tags": []
   },
   "outputs": [
    {
     "data": {
      "text/plain": [
       "54"
      ]
     },
     "execution_count": 6,
     "metadata": {},
     "output_type": "execute_result"
    }
   ],
   "source": [
    "len(clist)"
   ]
  },
  {
   "cell_type": "code",
   "execution_count": 7,
   "id": "822b8c67",
   "metadata": {
    "execution": {
     "iopub.execute_input": "2023-12-13T09:06:32.229586Z",
     "iopub.status.busy": "2023-12-13T09:06:32.228954Z",
     "iopub.status.idle": "2023-12-13T09:06:32.236795Z",
     "shell.execute_reply": "2023-12-13T09:06:32.236095Z"
    },
    "papermill": {
     "duration": 0.015216,
     "end_time": "2023-12-13T09:06:32.238811",
     "exception": false,
     "start_time": "2023-12-13T09:06:32.223595",
     "status": "completed"
    },
    "tags": []
   },
   "outputs": [],
   "source": [
    "counter = 0\n",
    "clist2 = []\n",
    "\n",
    "for grid in grids:\n",
    "    counter += 1\n",
    "    grid = [''.join(row) for row in zip(*grid)]\n",
    "    # Check for matching rows\n",
    "    for i in range(len(grid)-1):\n",
    "        symetrie = 1\n",
    "        if grid[i] == grid[i + 1]:\n",
    "            for j in range(min(len(grid)-1-i, i+1)):\n",
    "                if(grid[i-j] != grid[i+1+j]):\n",
    "                    symetrie = 0\n",
    "                    break\n",
    "            if(symetrie == 1):\n",
    "                result += (i+1)\n",
    "                clist2.append(counter)"
   ]
  },
  {
   "cell_type": "code",
   "execution_count": 8,
   "id": "44b1c93b",
   "metadata": {
    "execution": {
     "iopub.execute_input": "2023-12-13T09:06:32.249220Z",
     "iopub.status.busy": "2023-12-13T09:06:32.248606Z",
     "iopub.status.idle": "2023-12-13T09:06:32.254381Z",
     "shell.execute_reply": "2023-12-13T09:06:32.253620Z"
    },
    "papermill": {
     "duration": 0.013093,
     "end_time": "2023-12-13T09:06:32.256345",
     "exception": false,
     "start_time": "2023-12-13T09:06:32.243252",
     "status": "completed"
    },
    "tags": []
   },
   "outputs": [
    {
     "data": {
      "text/plain": [
       "35360"
      ]
     },
     "execution_count": 8,
     "metadata": {},
     "output_type": "execute_result"
    }
   ],
   "source": [
    "result"
   ]
  },
  {
   "cell_type": "code",
   "execution_count": 9,
   "id": "add2c6e4",
   "metadata": {
    "execution": {
     "iopub.execute_input": "2023-12-13T09:06:32.266812Z",
     "iopub.status.busy": "2023-12-13T09:06:32.266152Z",
     "iopub.status.idle": "2023-12-13T09:06:32.272149Z",
     "shell.execute_reply": "2023-12-13T09:06:32.271388Z"
    },
    "papermill": {
     "duration": 0.013471,
     "end_time": "2023-12-13T09:06:32.274147",
     "exception": false,
     "start_time": "2023-12-13T09:06:32.260676",
     "status": "completed"
    },
    "tags": []
   },
   "outputs": [
    {
     "data": {
      "text/plain": [
       "46"
      ]
     },
     "execution_count": 9,
     "metadata": {},
     "output_type": "execute_result"
    }
   ],
   "source": [
    "len(clist2)"
   ]
  },
  {
   "cell_type": "code",
   "execution_count": 10,
   "id": "dd32c737",
   "metadata": {
    "execution": {
     "iopub.execute_input": "2023-12-13T09:06:32.285127Z",
     "iopub.status.busy": "2023-12-13T09:06:32.284480Z",
     "iopub.status.idle": "2023-12-13T09:06:32.290941Z",
     "shell.execute_reply": "2023-12-13T09:06:32.289714Z"
    },
    "papermill": {
     "duration": 0.014209,
     "end_time": "2023-12-13T09:06:32.292932",
     "exception": false,
     "start_time": "2023-12-13T09:06:32.278723",
     "status": "completed"
    },
    "tags": []
   },
   "outputs": [
    {
     "name": "stdout",
     "output_type": "stream",
     "text": [
      "set()\n"
     ]
    }
   ],
   "source": [
    "set1 = set(clist)\n",
    "set2 = set(clist2)\n",
    "\n",
    "# Find numbers not in either list from 1 to 100\n",
    "missing_numbers = set(range(1, 101)) - set1 - set2\n",
    "doubled_numbers = set1 & set2\n",
    "print(doubled_numbers)"
   ]
  },
  {
   "cell_type": "code",
   "execution_count": 11,
   "id": "73076950",
   "metadata": {
    "execution": {
     "iopub.execute_input": "2023-12-13T09:06:32.303282Z",
     "iopub.status.busy": "2023-12-13T09:06:32.302958Z",
     "iopub.status.idle": "2023-12-13T09:06:32.308885Z",
     "shell.execute_reply": "2023-12-13T09:06:32.307903Z"
    },
    "papermill": {
     "duration": 0.013327,
     "end_time": "2023-12-13T09:06:32.310843",
     "exception": false,
     "start_time": "2023-12-13T09:06:32.297516",
     "status": "completed"
    },
    "tags": []
   },
   "outputs": [
    {
     "data": {
      "text/plain": [
       "set()"
      ]
     },
     "execution_count": 11,
     "metadata": {},
     "output_type": "execute_result"
    }
   ],
   "source": [
    "missing_numbers"
   ]
  },
  {
   "cell_type": "code",
   "execution_count": 12,
   "id": "608d61ba",
   "metadata": {
    "execution": {
     "iopub.execute_input": "2023-12-13T09:06:32.321921Z",
     "iopub.status.busy": "2023-12-13T09:06:32.321109Z",
     "iopub.status.idle": "2023-12-13T09:06:32.326009Z",
     "shell.execute_reply": "2023-12-13T09:06:32.325313Z"
    },
    "papermill": {
     "duration": 0.012144,
     "end_time": "2023-12-13T09:06:32.327734",
     "exception": false,
     "start_time": "2023-12-13T09:06:32.315590",
     "status": "completed"
    },
    "tags": []
   },
   "outputs": [
    {
     "data": {
      "text/plain": [
       "35360"
      ]
     },
     "execution_count": 12,
     "metadata": {},
     "output_type": "execute_result"
    }
   ],
   "source": [
    "result"
   ]
  },
  {
   "cell_type": "code",
   "execution_count": 13,
   "id": "ce233e59",
   "metadata": {
    "execution": {
     "iopub.execute_input": "2023-12-13T09:06:32.338629Z",
     "iopub.status.busy": "2023-12-13T09:06:32.338137Z",
     "iopub.status.idle": "2023-12-13T09:06:32.442306Z",
     "shell.execute_reply": "2023-12-13T09:06:32.441244Z"
    },
    "papermill": {
     "duration": 0.112442,
     "end_time": "2023-12-13T09:06:32.444846",
     "exception": false,
     "start_time": "2023-12-13T09:06:32.332404",
     "status": "completed"
    },
    "tags": []
   },
   "outputs": [
    {
     "name": "stdout",
     "output_type": "stream",
     "text": [
      "35360\n",
      "36755\n"
     ]
    }
   ],
   "source": [
    "import sys\n",
    "import re\n",
    "from copy import deepcopy\n",
    "from math import gcd\n",
    "from collections import defaultdict, Counter, deque\n",
    "D = open(\"/kaggle/input/aoc-13-1-fh/input_13.txt\", \"r\").read().strip()\n",
    "L = D.split('\\n')\n",
    "G = [[c for c in row] for row in L]\n",
    "\n",
    "for part2 in [False, True]:\n",
    "  ans = 0\n",
    "  for grid in D.split('\\n\\n'):\n",
    "    G = [[c for c in row] for row in grid.split('\\n')]\n",
    "    R = len(G)\n",
    "    C = len(G[0])\n",
    "    # vertical symmetry\n",
    "    for c in range(C-1):\n",
    "      badness = 0\n",
    "      for dc in range(C):\n",
    "        left = c-dc\n",
    "        right = c+1+dc\n",
    "        if 0<=left<right<C:\n",
    "          for r in range(R):\n",
    "            if G[r][left] != G[r][right]:\n",
    "              badness += 1\n",
    "      if badness == (1 if part2 else 0):\n",
    "        ans += c+1\n",
    "    for r in range(R-1):\n",
    "      badness = 0\n",
    "      for dr in range(R):\n",
    "        up = r-dr\n",
    "        down = r+1+dr\n",
    "        if 0<=up<down<R:\n",
    "          for c in range(C):\n",
    "            if G[up][c] != G[down][c]:\n",
    "              badness += 1\n",
    "      if badness == (1 if part2 else 0):\n",
    "        ans += 100*(r+1)\n",
    "  print(ans)"
   ]
  },
  {
   "cell_type": "code",
   "execution_count": 14,
   "id": "46ffd1bf",
   "metadata": {
    "execution": {
     "iopub.execute_input": "2023-12-13T09:06:32.456340Z",
     "iopub.status.busy": "2023-12-13T09:06:32.455958Z",
     "iopub.status.idle": "2023-12-13T09:06:32.462709Z",
     "shell.execute_reply": "2023-12-13T09:06:32.461918Z"
    },
    "papermill": {
     "duration": 0.01485,
     "end_time": "2023-12-13T09:06:32.464753",
     "exception": false,
     "start_time": "2023-12-13T09:06:32.449903",
     "status": "completed"
    },
    "tags": []
   },
   "outputs": [
    {
     "data": {
      "text/plain": [
       "35798"
      ]
     },
     "execution_count": 14,
     "metadata": {},
     "output_type": "execute_result"
    }
   ],
   "source": [
    "35798"
   ]
  }
 ],
 "metadata": {
  "kaggle": {
   "accelerator": "none",
   "dataSources": [
    {
     "datasetId": 4156580,
     "sourceId": 7189171,
     "sourceType": "datasetVersion"
    }
   ],
   "dockerImageVersionId": 30615,
   "isGpuEnabled": false,
   "isInternetEnabled": true,
   "language": "python",
   "sourceType": "notebook"
  },
  "kernelspec": {
   "display_name": "Python 3",
   "language": "python",
   "name": "python3"
  },
  "language_info": {
   "codemirror_mode": {
    "name": "ipython",
    "version": 3
   },
   "file_extension": ".py",
   "mimetype": "text/x-python",
   "name": "python",
   "nbconvert_exporter": "python",
   "pygments_lexer": "ipython3",
   "version": "3.10.12"
  },
  "papermill": {
   "default_parameters": {},
   "duration": 3.574821,
   "end_time": "2023-12-13T09:06:32.788889",
   "environment_variables": {},
   "exception": null,
   "input_path": "__notebook__.ipynb",
   "output_path": "__notebook__.ipynb",
   "parameters": {},
   "start_time": "2023-12-13T09:06:29.214068",
   "version": "2.4.0"
  }
 },
 "nbformat": 4,
 "nbformat_minor": 5
}
