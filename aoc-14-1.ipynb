{
 "cells": [
  {
   "cell_type": "code",
   "execution_count": 1,
   "id": "906d75c3",
   "metadata": {
    "_cell_guid": "b1076dfc-b9ad-4769-8c92-a6c4dae69d19",
    "_uuid": "8f2839f25d086af736a60e9eeb907d3b93b6e0e5",
    "execution": {
     "iopub.execute_input": "2023-12-15T08:44:50.670863Z",
     "iopub.status.busy": "2023-12-15T08:44:50.670372Z",
     "iopub.status.idle": "2023-12-15T08:44:50.692844Z",
     "shell.execute_reply": "2023-12-15T08:44:50.691653Z"
    },
    "papermill": {
     "duration": 0.0357,
     "end_time": "2023-12-15T08:44:50.695964",
     "exception": false,
     "start_time": "2023-12-15T08:44:50.660264",
     "status": "completed"
    },
    "tags": []
   },
   "outputs": [],
   "source": [
    "with open('/kaggle/input/aoc-14-1-fh/test_14.txt', 'r') as file:\n",
    "    # Read the lines and store them in an array\n",
    "    grid = file.readlines()\n",
    "grid = [s.rstrip('\\n') for s in grid]"
   ]
  },
  {
   "cell_type": "code",
   "execution_count": 2,
   "id": "c9201ccf",
   "metadata": {
    "execution": {
     "iopub.execute_input": "2023-12-15T08:44:50.709250Z",
     "iopub.status.busy": "2023-12-15T08:44:50.708595Z",
     "iopub.status.idle": "2023-12-15T08:44:50.714746Z",
     "shell.execute_reply": "2023-12-15T08:44:50.713285Z"
    },
    "papermill": {
     "duration": 0.016148,
     "end_time": "2023-12-15T08:44:50.717940",
     "exception": false,
     "start_time": "2023-12-15T08:44:50.701792",
     "status": "completed"
    },
    "tags": []
   },
   "outputs": [],
   "source": [
    "grid = [''.join(row) for row in zip(*grid)]"
   ]
  },
  {
   "cell_type": "code",
   "execution_count": 3,
   "id": "4fe53f8d",
   "metadata": {
    "execution": {
     "iopub.execute_input": "2023-12-15T08:44:50.734639Z",
     "iopub.status.busy": "2023-12-15T08:44:50.734193Z",
     "iopub.status.idle": "2023-12-15T08:44:50.741515Z",
     "shell.execute_reply": "2023-12-15T08:44:50.740393Z"
    },
    "papermill": {
     "duration": 0.018952,
     "end_time": "2023-12-15T08:44:50.744397",
     "exception": false,
     "start_time": "2023-12-15T08:44:50.725445",
     "status": "completed"
    },
    "tags": []
   },
   "outputs": [],
   "source": [
    "def move_O_left(string):\n",
    "    string = list(string)\n",
    "    for i in range(len(string)):\n",
    "        if string[i] == 'O':\n",
    "            j = i - 1\n",
    "            while j >= 0 and string[j] == '.':\n",
    "                string[j], string[j + 1] = string[j + 1], string[j]\n",
    "                j -= 1\n",
    "                if j >= 0 and string[j] == '#':\n",
    "                    break\n",
    "    return ''.join(string)"
   ]
  },
  {
   "cell_type": "code",
   "execution_count": 4,
   "id": "4230e5e7",
   "metadata": {
    "execution": {
     "iopub.execute_input": "2023-12-15T08:44:50.759376Z",
     "iopub.status.busy": "2023-12-15T08:44:50.758403Z",
     "iopub.status.idle": "2023-12-15T08:44:50.765370Z",
     "shell.execute_reply": "2023-12-15T08:44:50.764314Z"
    },
    "papermill": {
     "duration": 0.016579,
     "end_time": "2023-12-15T08:44:50.767957",
     "exception": false,
     "start_time": "2023-12-15T08:44:50.751378",
     "status": "completed"
    },
    "tags": []
   },
   "outputs": [],
   "source": [
    "result = 0\n",
    "for line in grid:\n",
    "    line = move_O_left(line)\n",
    "    counter = len(line)\n",
    "    for char in line:\n",
    "        if(char == 'O'):\n",
    "            result += counter\n",
    "        counter -= 1"
   ]
  },
  {
   "cell_type": "code",
   "execution_count": 5,
   "id": "9505135a",
   "metadata": {
    "execution": {
     "iopub.execute_input": "2023-12-15T08:44:50.780879Z",
     "iopub.status.busy": "2023-12-15T08:44:50.779967Z",
     "iopub.status.idle": "2023-12-15T08:44:50.788516Z",
     "shell.execute_reply": "2023-12-15T08:44:50.787492Z"
    },
    "papermill": {
     "duration": 0.017784,
     "end_time": "2023-12-15T08:44:50.790957",
     "exception": false,
     "start_time": "2023-12-15T08:44:50.773173",
     "status": "completed"
    },
    "tags": []
   },
   "outputs": [
    {
     "data": {
      "text/plain": [
       "136"
      ]
     },
     "execution_count": 5,
     "metadata": {},
     "output_type": "execute_result"
    }
   ],
   "source": [
    "result"
   ]
  },
  {
   "cell_type": "markdown",
   "id": "04eef4f6",
   "metadata": {
    "papermill": {
     "duration": 0.004968,
     "end_time": "2023-12-15T08:44:50.801303",
     "exception": false,
     "start_time": "2023-12-15T08:44:50.796335",
     "status": "completed"
    },
    "tags": []
   },
   "source": [
    "# **PART 2**"
   ]
  },
  {
   "cell_type": "code",
   "execution_count": 6,
   "id": "294dbe0a",
   "metadata": {
    "execution": {
     "iopub.execute_input": "2023-12-15T08:44:50.814455Z",
     "iopub.status.busy": "2023-12-15T08:44:50.813496Z",
     "iopub.status.idle": "2023-12-15T08:44:50.827022Z",
     "shell.execute_reply": "2023-12-15T08:44:50.825878Z"
    },
    "papermill": {
     "duration": 0.0231,
     "end_time": "2023-12-15T08:44:50.829684",
     "exception": false,
     "start_time": "2023-12-15T08:44:50.806584",
     "status": "completed"
    },
    "tags": []
   },
   "outputs": [],
   "source": [
    "with open('/kaggle/input/aoc-14-1-fh/input_14.txt', 'r') as file:\n",
    "    # Read the lines and store them in an array\n",
    "    grid = file.readlines()\n",
    "grid = [s.rstrip('\\n') for s in grid]\n",
    "grid = [list(string) for string in grid]"
   ]
  },
  {
   "cell_type": "code",
   "execution_count": 7,
   "id": "4bc77119",
   "metadata": {
    "execution": {
     "iopub.execute_input": "2023-12-15T08:44:50.843181Z",
     "iopub.status.busy": "2023-12-15T08:44:50.842197Z",
     "iopub.status.idle": "2023-12-15T08:44:50.862981Z",
     "shell.execute_reply": "2023-12-15T08:44:50.861821Z"
    },
    "papermill": {
     "duration": 0.030859,
     "end_time": "2023-12-15T08:44:50.865895",
     "exception": false,
     "start_time": "2023-12-15T08:44:50.835036",
     "status": "completed"
    },
    "tags": []
   },
   "outputs": [],
   "source": [
    "def move_O_circular(grid):\n",
    "    height = len(grid)\n",
    "    width = len(grid[0]) if height > 0 else 0\n",
    "\n",
    "    def move_north():\n",
    "        moved = True\n",
    "        while moved:\n",
    "            moved = False\n",
    "            for col in range(width):\n",
    "                for row in range(1, height):\n",
    "                    if grid[row][col] == 'O' and grid[row - 1][col] == '.':\n",
    "                        grid[row - 1][col], grid[row][col] = grid[row][col], grid[row - 1][col]\n",
    "                        moved = True\n",
    "\n",
    "    def move_west():\n",
    "        moved = True\n",
    "        while moved:\n",
    "            moved = False\n",
    "            for row in range(height):\n",
    "                for col in range(1, width):\n",
    "                    if grid[row][col] == 'O' and grid[row][col - 1] == '.':\n",
    "                        grid[row][col - 1], grid[row][col] = grid[row][col], grid[row][col - 1]\n",
    "                        moved = True\n",
    "\n",
    "    def move_south():\n",
    "        moved = True\n",
    "        while moved:\n",
    "            moved = False\n",
    "            for col in range(width):\n",
    "                for row in range(height - 2, -1, -1):\n",
    "                    if grid[row][col] == 'O' and grid[row + 1][col] == '.':\n",
    "                        grid[row + 1][col], grid[row][col] = grid[row][col], grid[row + 1][col]\n",
    "                        moved = True\n",
    "\n",
    "    def move_east():\n",
    "        moved = True\n",
    "        while moved:\n",
    "            moved = False\n",
    "            for row in range(height):\n",
    "                for col in range(width - 2, -1, -1):\n",
    "                    if grid[row][col] == 'O' and grid[row][col + 1] == '.':\n",
    "                        grid[row][col + 1], grid[row][col] = grid[row][col], grid[row][col + 1]\n",
    "                        moved = True\n",
    "                        \n",
    "    #for _ in range(4):  # Perform four movements (north, west, south, east)\n",
    "    move_north()\n",
    "    #print(\"North Grid:\")\n",
    "    #for row in grid:\n",
    "    #    print(' '.join(row))\n",
    "    move_west()\n",
    "    #print(\"West Grid:\")\n",
    "    #for row in grid:\n",
    "    #    print(' '.join(row))\n",
    "    move_south()\n",
    "    #print(\"South Grid:\")\n",
    "    #for row in grid:\n",
    "    #    print(' '.join(row))\n",
    "    move_east()\n",
    "    #print(\"East Grid:\")\n",
    "    #for row in grid:\n",
    "    #    print(' '.join(row))"
   ]
  },
  {
   "cell_type": "code",
   "execution_count": 8,
   "id": "2cf2f244",
   "metadata": {
    "execution": {
     "iopub.execute_input": "2023-12-15T08:44:50.878815Z",
     "iopub.status.busy": "2023-12-15T08:44:50.878015Z",
     "iopub.status.idle": "2023-12-15T08:44:50.885550Z",
     "shell.execute_reply": "2023-12-15T08:44:50.884251Z"
    },
    "papermill": {
     "duration": 0.01674,
     "end_time": "2023-12-15T08:44:50.887999",
     "exception": false,
     "start_time": "2023-12-15T08:44:50.871259",
     "status": "completed"
    },
    "tags": []
   },
   "outputs": [],
   "source": [
    "def find_cycle(grid):\n",
    "    states = []  # List to store grid states\n",
    "    for _ in range(1000):  # Run for a few cycles to identify any repeating pattern\n",
    "        grid_state = tuple(map(tuple, grid))\n",
    "        if grid_state in states:  # Check for repeating pattern\n",
    "            cycle_length = len(states) - states.index(grid_state)\n",
    "            return states, cycle_length\n",
    "        states.append(grid_state)\n",
    "        move_O_circular(grid)\n",
    "    return states, -1  # No cycle found within the given iterations\n"
   ]
  },
  {
   "cell_type": "code",
   "execution_count": 9,
   "id": "0f363fe7",
   "metadata": {
    "execution": {
     "iopub.execute_input": "2023-12-15T08:44:50.900921Z",
     "iopub.status.busy": "2023-12-15T08:44:50.900474Z",
     "iopub.status.idle": "2023-12-15T08:45:22.795606Z",
     "shell.execute_reply": "2023-12-15T08:45:22.794625Z"
    },
    "papermill": {
     "duration": 31.904931,
     "end_time": "2023-12-15T08:45:22.798359",
     "exception": false,
     "start_time": "2023-12-15T08:44:50.893428",
     "status": "completed"
    },
    "tags": []
   },
   "outputs": [],
   "source": [
    "states, cycle_length = find_cycle(grid)"
   ]
  },
  {
   "cell_type": "code",
   "execution_count": 10,
   "id": "0a607396",
   "metadata": {
    "execution": {
     "iopub.execute_input": "2023-12-15T08:45:22.810969Z",
     "iopub.status.busy": "2023-12-15T08:45:22.810527Z",
     "iopub.status.idle": "2023-12-15T08:45:22.817521Z",
     "shell.execute_reply": "2023-12-15T08:45:22.816375Z"
    },
    "papermill": {
     "duration": 0.01726,
     "end_time": "2023-12-15T08:45:22.821070",
     "exception": false,
     "start_time": "2023-12-15T08:45:22.803810",
     "status": "completed"
    },
    "tags": []
   },
   "outputs": [
    {
     "name": "stdout",
     "output_type": "stream",
     "text": [
      "118\n"
     ]
    }
   ],
   "source": [
    "start = len(states)-1\n",
    "\n",
    "x = (1000000000 - start) // cycle_length\n",
    "1000000000 - (start + cycle_length * x)\n",
    "\n",
    "final = (len(states)-1)-cycle_length+1000000000 - (start + cycle_length * x)\n",
    "print(final)\n",
    "\n",
    "final_state = states[final]\n",
    "\n",
    "#print(\"Grid after 1,000,000,000 cycles:\")\n",
    "#for row in final_state:\n",
    "#    print(' '.join(row))"
   ]
  },
  {
   "cell_type": "code",
   "execution_count": 11,
   "id": "4565e67c",
   "metadata": {
    "execution": {
     "iopub.execute_input": "2023-12-15T08:45:22.833621Z",
     "iopub.status.busy": "2023-12-15T08:45:22.833206Z",
     "iopub.status.idle": "2023-12-15T08:45:22.841828Z",
     "shell.execute_reply": "2023-12-15T08:45:22.840472Z"
    },
    "papermill": {
     "duration": 0.018113,
     "end_time": "2023-12-15T08:45:22.844638",
     "exception": false,
     "start_time": "2023-12-15T08:45:22.826525",
     "status": "completed"
    },
    "tags": []
   },
   "outputs": [
    {
     "name": "stdout",
     "output_type": "stream",
     "text": [
      "-87675\n"
     ]
    }
   ],
   "source": [
    "result = 0\n",
    "counter = len(line)\n",
    "for line in final_state:\n",
    "    #print(line, counter)\n",
    "    for char in line:\n",
    "        if(char == 'O'):\n",
    "            result += counter\n",
    "    counter -= 1\n",
    "print(result)"
   ]
  },
  {
   "cell_type": "code",
   "execution_count": 12,
   "id": "aa57a50e",
   "metadata": {
    "execution": {
     "iopub.execute_input": "2023-12-15T08:45:22.857798Z",
     "iopub.status.busy": "2023-12-15T08:45:22.857359Z",
     "iopub.status.idle": "2023-12-15T08:45:22.863246Z",
     "shell.execute_reply": "2023-12-15T08:45:22.862139Z"
    },
    "papermill": {
     "duration": 0.015322,
     "end_time": "2023-12-15T08:45:22.865467",
     "exception": false,
     "start_time": "2023-12-15T08:45:22.850145",
     "status": "completed"
    },
    "tags": []
   },
   "outputs": [],
   "source": [
    "if cycle_length != -1:  # If a cycle was found\n",
    "    remaining_cycles = 1000000000 % cycle_length  # Calculate remaining cycles\n",
    "    final_state = states[-1]  # Final state after 1,000,000,000 cycles\n",
    "    #print(\"Grid after 1,000,000,000 cycles:\")\n",
    "    #for row in final_state:\n",
    "    #    print(' '.join(row))\n",
    "else:\n",
    "    print(\"No repeating pattern found within the given iterations.\")"
   ]
  }
 ],
 "metadata": {
  "kaggle": {
   "accelerator": "none",
   "dataSources": [
    {
     "datasetId": 4164723,
     "sourceId": 7200245,
     "sourceType": "datasetVersion"
    }
   ],
   "dockerImageVersionId": 30626,
   "isGpuEnabled": false,
   "isInternetEnabled": true,
   "language": "python",
   "sourceType": "notebook"
  },
  "kernelspec": {
   "display_name": "Python 3",
   "language": "python",
   "name": "python3"
  },
  "language_info": {
   "codemirror_mode": {
    "name": "ipython",
    "version": 3
   },
   "file_extension": ".py",
   "mimetype": "text/x-python",
   "name": "python",
   "nbconvert_exporter": "python",
   "pygments_lexer": "ipython3",
   "version": "3.10.12"
  },
  "papermill": {
   "default_parameters": {},
   "duration": 36.290561,
   "end_time": "2023-12-15T08:45:23.291380",
   "environment_variables": {},
   "exception": null,
   "input_path": "__notebook__.ipynb",
   "output_path": "__notebook__.ipynb",
   "parameters": {},
   "start_time": "2023-12-15T08:44:47.000819",
   "version": "2.4.0"
  }
 },
 "nbformat": 4,
 "nbformat_minor": 5
}
