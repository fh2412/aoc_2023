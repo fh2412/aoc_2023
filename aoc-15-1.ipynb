{
 "cells": [
  {
   "cell_type": "markdown",
   "id": "dc187d24",
   "metadata": {
    "_cell_guid": "b1076dfc-b9ad-4769-8c92-a6c4dae69d19",
    "_uuid": "8f2839f25d086af736a60e9eeb907d3b93b6e0e5",
    "papermill": {
     "duration": 0.004664,
     "end_time": "2023-12-15T08:44:08.568968",
     "exception": false,
     "start_time": "2023-12-15T08:44:08.564304",
     "status": "completed"
    },
    "tags": []
   },
   "source": [
    "# **GET DATA**"
   ]
  },
  {
   "cell_type": "code",
   "execution_count": 1,
   "id": "59554526",
   "metadata": {
    "execution": {
     "iopub.execute_input": "2023-12-15T08:44:08.579676Z",
     "iopub.status.busy": "2023-12-15T08:44:08.579236Z",
     "iopub.status.idle": "2023-12-15T08:44:08.600281Z",
     "shell.execute_reply": "2023-12-15T08:44:08.599144Z"
    },
    "papermill": {
     "duration": 0.02918,
     "end_time": "2023-12-15T08:44:08.602818",
     "exception": false,
     "start_time": "2023-12-15T08:44:08.573638",
     "status": "completed"
    },
    "tags": []
   },
   "outputs": [],
   "source": [
    "with open('/kaggle/input/aoc-15-1-fh/input_15.txt', 'r') as file:\n",
    "    # Read the lines and store them in an array\n",
    "    tohash = file.readlines()\n",
    "tohash = [s.rstrip('\\n') for s in tohash]"
   ]
  },
  {
   "cell_type": "code",
   "execution_count": 2,
   "id": "7984e16b",
   "metadata": {
    "execution": {
     "iopub.execute_input": "2023-12-15T08:44:08.613350Z",
     "iopub.status.busy": "2023-12-15T08:44:08.612642Z",
     "iopub.status.idle": "2023-12-15T08:44:08.618237Z",
     "shell.execute_reply": "2023-12-15T08:44:08.617256Z"
    },
    "papermill": {
     "duration": 0.013375,
     "end_time": "2023-12-15T08:44:08.620508",
     "exception": false,
     "start_time": "2023-12-15T08:44:08.607133",
     "status": "completed"
    },
    "tags": []
   },
   "outputs": [],
   "source": [
    "split_list = []\n",
    "for line in tohash:\n",
    "    split_list.append(line.split(','))\n",
    "tohash = split_list[0]"
   ]
  },
  {
   "cell_type": "markdown",
   "id": "da0961dc",
   "metadata": {
    "papermill": {
     "duration": 0.003855,
     "end_time": "2023-12-15T08:44:08.628701",
     "exception": false,
     "start_time": "2023-12-15T08:44:08.624846",
     "status": "completed"
    },
    "tags": []
   },
   "source": [
    "**HASH ALGORYTM**"
   ]
  },
  {
   "cell_type": "code",
   "execution_count": 3,
   "id": "0a11aa6f",
   "metadata": {
    "execution": {
     "iopub.execute_input": "2023-12-15T08:44:08.638631Z",
     "iopub.status.busy": "2023-12-15T08:44:08.638251Z",
     "iopub.status.idle": "2023-12-15T08:44:08.643325Z",
     "shell.execute_reply": "2023-12-15T08:44:08.642357Z"
    },
    "papermill": {
     "duration": 0.012504,
     "end_time": "2023-12-15T08:44:08.645319",
     "exception": false,
     "start_time": "2023-12-15T08:44:08.632815",
     "status": "completed"
    },
    "tags": []
   },
   "outputs": [],
   "source": [
    "def get_hash(sting):\n",
    "    current_value = 0\n",
    "    for char in sting:\n",
    "        current_value += ord(char)\n",
    "        current_value *= 17\n",
    "        current_value %= 256\n",
    "    return current_value"
   ]
  },
  {
   "cell_type": "code",
   "execution_count": 4,
   "id": "e0da7c30",
   "metadata": {
    "execution": {
     "iopub.execute_input": "2023-12-15T08:44:08.655738Z",
     "iopub.status.busy": "2023-12-15T08:44:08.655009Z",
     "iopub.status.idle": "2023-12-15T08:44:08.660978Z",
     "shell.execute_reply": "2023-12-15T08:44:08.659737Z"
    },
    "papermill": {
     "duration": 0.013621,
     "end_time": "2023-12-15T08:44:08.663177",
     "exception": false,
     "start_time": "2023-12-15T08:44:08.649556",
     "status": "completed"
    },
    "tags": []
   },
   "outputs": [
    {
     "name": "stdout",
     "output_type": "stream",
     "text": [
      "52\n"
     ]
    }
   ],
   "source": [
    "value = get_hash('HASH')\n",
    "print(value)"
   ]
  },
  {
   "cell_type": "markdown",
   "id": "ea981a8c",
   "metadata": {
    "papermill": {
     "duration": 0.00405,
     "end_time": "2023-12-15T08:44:08.671567",
     "exception": false,
     "start_time": "2023-12-15T08:44:08.667517",
     "status": "completed"
    },
    "tags": []
   },
   "source": [
    "# **PART 1**"
   ]
  },
  {
   "cell_type": "code",
   "execution_count": 5,
   "id": "b0f38294",
   "metadata": {
    "execution": {
     "iopub.execute_input": "2023-12-15T08:44:08.681812Z",
     "iopub.status.busy": "2023-12-15T08:44:08.681386Z",
     "iopub.status.idle": "2023-12-15T08:44:08.691445Z",
     "shell.execute_reply": "2023-12-15T08:44:08.690392Z"
    },
    "papermill": {
     "duration": 0.01757,
     "end_time": "2023-12-15T08:44:08.693542",
     "exception": false,
     "start_time": "2023-12-15T08:44:08.675972",
     "status": "completed"
    },
    "tags": []
   },
   "outputs": [],
   "source": [
    "hashes = []\n",
    "for h in tohash:\n",
    "    hashes.append(get_hash(h))"
   ]
  },
  {
   "cell_type": "code",
   "execution_count": 6,
   "id": "5f210510",
   "metadata": {
    "execution": {
     "iopub.execute_input": "2023-12-15T08:44:08.704418Z",
     "iopub.status.busy": "2023-12-15T08:44:08.703619Z",
     "iopub.status.idle": "2023-12-15T08:44:08.711345Z",
     "shell.execute_reply": "2023-12-15T08:44:08.710069Z"
    },
    "papermill": {
     "duration": 0.015417,
     "end_time": "2023-12-15T08:44:08.713385",
     "exception": false,
     "start_time": "2023-12-15T08:44:08.697968",
     "status": "completed"
    },
    "tags": []
   },
   "outputs": [
    {
     "data": {
      "text/plain": [
       "519041"
      ]
     },
     "execution_count": 6,
     "metadata": {},
     "output_type": "execute_result"
    }
   ],
   "source": [
    "sum(hashes)"
   ]
  },
  {
   "cell_type": "markdown",
   "id": "bf012b2e",
   "metadata": {
    "papermill": {
     "duration": 0.004121,
     "end_time": "2023-12-15T08:44:08.722119",
     "exception": false,
     "start_time": "2023-12-15T08:44:08.717998",
     "status": "completed"
    },
    "tags": []
   },
   "source": [
    "# **PART 2**"
   ]
  },
  {
   "cell_type": "code",
   "execution_count": 7,
   "id": "6019a546",
   "metadata": {
    "execution": {
     "iopub.execute_input": "2023-12-15T08:44:08.732806Z",
     "iopub.status.busy": "2023-12-15T08:44:08.732120Z",
     "iopub.status.idle": "2023-12-15T08:44:08.736206Z",
     "shell.execute_reply": "2023-12-15T08:44:08.735182Z"
    },
    "papermill": {
     "duration": 0.011776,
     "end_time": "2023-12-15T08:44:08.738222",
     "exception": false,
     "start_time": "2023-12-15T08:44:08.726446",
     "status": "completed"
    },
    "tags": []
   },
   "outputs": [],
   "source": [
    "HASHMAP = []"
   ]
  },
  {
   "cell_type": "code",
   "execution_count": 8,
   "id": "59997a01",
   "metadata": {
    "execution": {
     "iopub.execute_input": "2023-12-15T08:44:08.749054Z",
     "iopub.status.busy": "2023-12-15T08:44:08.748482Z",
     "iopub.status.idle": "2023-12-15T08:44:08.761373Z",
     "shell.execute_reply": "2023-12-15T08:44:08.760472Z"
    },
    "papermill": {
     "duration": 0.020806,
     "end_time": "2023-12-15T08:44:08.763577",
     "exception": false,
     "start_time": "2023-12-15T08:44:08.742771",
     "status": "completed"
    },
    "tags": []
   },
   "outputs": [],
   "source": [
    "for h in tohash:\n",
    "    if('-' in h):\n",
    "        splitted = h[:-1]\n",
    "        ha = {\"lable\": h[:-1], \"box\": get_hash(h[:-1]), \"operation\": False, \"length\": 0}\n",
    "    else:\n",
    "        splitted = h.split('=')\n",
    "        ha = {\"lable\": splitted[0], \"box\": get_hash(splitted[0]), \"operation\": True, \"length\": splitted[1]}\n",
    "    HASHMAP.append(ha)"
   ]
  },
  {
   "cell_type": "code",
   "execution_count": 9,
   "id": "85054e81",
   "metadata": {
    "execution": {
     "iopub.execute_input": "2023-12-15T08:44:08.774500Z",
     "iopub.status.busy": "2023-12-15T08:44:08.773919Z",
     "iopub.status.idle": "2023-12-15T08:44:08.778403Z",
     "shell.execute_reply": "2023-12-15T08:44:08.777636Z"
    },
    "papermill": {
     "duration": 0.01238,
     "end_time": "2023-12-15T08:44:08.780488",
     "exception": false,
     "start_time": "2023-12-15T08:44:08.768108",
     "status": "completed"
    },
    "tags": []
   },
   "outputs": [],
   "source": [
    "BOX = []\n",
    "lense = []\n",
    "for i in range(256):\n",
    "    box = {\"ID\": i, \"lenses\": [lense]}\n",
    "    BOX.append(box)"
   ]
  },
  {
   "cell_type": "code",
   "execution_count": 10,
   "id": "0e1f0ee2",
   "metadata": {
    "execution": {
     "iopub.execute_input": "2023-12-15T08:44:08.791460Z",
     "iopub.status.busy": "2023-12-15T08:44:08.790897Z",
     "iopub.status.idle": "2023-12-15T08:44:08.800647Z",
     "shell.execute_reply": "2023-12-15T08:44:08.799915Z"
    },
    "papermill": {
     "duration": 0.017678,
     "end_time": "2023-12-15T08:44:08.802791",
     "exception": false,
     "start_time": "2023-12-15T08:44:08.785113",
     "status": "completed"
    },
    "tags": []
   },
   "outputs": [],
   "source": [
    "for h in HASHMAP:\n",
    "    if(h['operation']):\n",
    "        found = 0\n",
    "        for b in BOX[h['box']]['lenses']:\n",
    "            if h['lable'] in b:\n",
    "                index_of_value = b.index(h['lable'])\n",
    "                b[1] = h['length']\n",
    "                found = 1\n",
    "                break\n",
    "        if(found == 0):\n",
    "            new_lense = [h['lable'], h['length']]\n",
    "            BOX[h['box']]['lenses'].append(new_lense)\n",
    "    else:\n",
    "        for b in BOX[h['box']]['lenses']:\n",
    "            if h['lable'] in b:\n",
    "                BOX[h['box']]['lenses'].remove(b)\n",
    "                break"
   ]
  },
  {
   "cell_type": "code",
   "execution_count": 11,
   "id": "8efa8d00",
   "metadata": {
    "execution": {
     "iopub.execute_input": "2023-12-15T08:44:08.813648Z",
     "iopub.status.busy": "2023-12-15T08:44:08.813268Z",
     "iopub.status.idle": "2023-12-15T08:44:08.818588Z",
     "shell.execute_reply": "2023-12-15T08:44:08.817679Z"
    },
    "papermill": {
     "duration": 0.013017,
     "end_time": "2023-12-15T08:44:08.820495",
     "exception": false,
     "start_time": "2023-12-15T08:44:08.807478",
     "status": "completed"
    },
    "tags": []
   },
   "outputs": [],
   "source": [
    "focusing_power = 0\n",
    "box_counter = 0\n",
    "slot_counter = 0\n",
    "for b in BOX:\n",
    "    box_counter += 1\n",
    "    for l in b['lenses']:\n",
    "        if(l):\n",
    "            slot_counter += 1\n",
    "            focusing_power += box_counter * slot_counter * int(l[1])\n",
    "    slot_counter = 0"
   ]
  },
  {
   "cell_type": "code",
   "execution_count": 12,
   "id": "4e6a7ec3",
   "metadata": {
    "execution": {
     "iopub.execute_input": "2023-12-15T08:44:08.831331Z",
     "iopub.status.busy": "2023-12-15T08:44:08.830748Z",
     "iopub.status.idle": "2023-12-15T08:44:08.835883Z",
     "shell.execute_reply": "2023-12-15T08:44:08.834920Z"
    },
    "papermill": {
     "duration": 0.013023,
     "end_time": "2023-12-15T08:44:08.837980",
     "exception": false,
     "start_time": "2023-12-15T08:44:08.824957",
     "status": "completed"
    },
    "tags": []
   },
   "outputs": [
    {
     "data": {
      "text/plain": [
       "260530"
      ]
     },
     "execution_count": 12,
     "metadata": {},
     "output_type": "execute_result"
    }
   ],
   "source": [
    "focusing_power"
   ]
  },
  {
   "cell_type": "code",
   "execution_count": null,
   "id": "2ab2ceb5",
   "metadata": {
    "papermill": {
     "duration": 0.004386,
     "end_time": "2023-12-15T08:44:08.847725",
     "exception": false,
     "start_time": "2023-12-15T08:44:08.843339",
     "status": "completed"
    },
    "tags": []
   },
   "outputs": [],
   "source": []
  }
 ],
 "metadata": {
  "kaggle": {
   "accelerator": "none",
   "dataSources": [
    {
     "datasetId": 4169458,
     "sourceId": 7206911,
     "sourceType": "datasetVersion"
    }
   ],
   "dockerImageVersionId": 30626,
   "isGpuEnabled": false,
   "isInternetEnabled": true,
   "language": "python",
   "sourceType": "notebook"
  },
  "kernelspec": {
   "display_name": "Python 3",
   "language": "python",
   "name": "python3"
  },
  "language_info": {
   "codemirror_mode": {
    "name": "ipython",
    "version": 3
   },
   "file_extension": ".py",
   "mimetype": "text/x-python",
   "name": "python",
   "nbconvert_exporter": "python",
   "pygments_lexer": "ipython3",
   "version": "3.10.12"
  },
  "papermill": {
   "default_parameters": {},
   "duration": 3.762031,
   "end_time": "2023-12-15T08:44:09.271636",
   "environment_variables": {},
   "exception": null,
   "input_path": "__notebook__.ipynb",
   "output_path": "__notebook__.ipynb",
   "parameters": {},
   "start_time": "2023-12-15T08:44:05.509605",
   "version": "2.4.0"
  }
 },
 "nbformat": 4,
 "nbformat_minor": 5
}
