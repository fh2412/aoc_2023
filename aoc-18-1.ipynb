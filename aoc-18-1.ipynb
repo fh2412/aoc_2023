{
 "cells": [
  {
   "cell_type": "code",
   "execution_count": 1,
   "id": "2cff4e7c",
   "metadata": {
    "_cell_guid": "b1076dfc-b9ad-4769-8c92-a6c4dae69d19",
    "_uuid": "8f2839f25d086af736a60e9eeb907d3b93b6e0e5",
    "execution": {
     "iopub.execute_input": "2023-12-19T12:29:57.704294Z",
     "iopub.status.busy": "2023-12-19T12:29:57.703570Z",
     "iopub.status.idle": "2023-12-19T12:29:57.725999Z",
     "shell.execute_reply": "2023-12-19T12:29:57.724986Z"
    },
    "papermill": {
     "duration": 0.036255,
     "end_time": "2023-12-19T12:29:57.729639",
     "exception": false,
     "start_time": "2023-12-19T12:29:57.693384",
     "status": "completed"
    },
    "tags": []
   },
   "outputs": [],
   "source": [
    "with open('/kaggle/input/aoc-18-1-fh/aoc_18_input.txt', 'r') as file:\n",
    "    # Read the lines and store them in an array\n",
    "    digplan = file.readlines()\n",
    "digplan = [s.rstrip('\\n') for s in digplan]"
   ]
  },
  {
   "cell_type": "code",
   "execution_count": 2,
   "id": "1fb41865",
   "metadata": {
    "execution": {
     "iopub.execute_input": "2023-12-19T12:29:57.747136Z",
     "iopub.status.busy": "2023-12-19T12:29:57.746310Z",
     "iopub.status.idle": "2023-12-19T12:29:57.753804Z",
     "shell.execute_reply": "2023-12-19T12:29:57.752930Z"
    },
    "papermill": {
     "duration": 0.018793,
     "end_time": "2023-12-19T12:29:57.756370",
     "exception": false,
     "start_time": "2023-12-19T12:29:57.737577",
     "status": "completed"
    },
    "tags": []
   },
   "outputs": [],
   "source": [
    "dplan = []\n",
    "for d in digplan:\n",
    "    s = d.split(' ')\n",
    "    dp = {'direction': s[0], 'number': int(s[1]), 'HEX': s[2]}\n",
    "    dplan.append(dp)"
   ]
  },
  {
   "cell_type": "code",
   "execution_count": 3,
   "id": "b2342dae",
   "metadata": {
    "execution": {
     "iopub.execute_input": "2023-12-19T12:29:57.768719Z",
     "iopub.status.busy": "2023-12-19T12:29:57.767876Z",
     "iopub.status.idle": "2023-12-19T12:29:57.779200Z",
     "shell.execute_reply": "2023-12-19T12:29:57.778287Z"
    },
    "papermill": {
     "duration": 0.020225,
     "end_time": "2023-12-19T12:29:57.781725",
     "exception": false,
     "start_time": "2023-12-19T12:29:57.761500",
     "status": "completed"
    },
    "tags": []
   },
   "outputs": [],
   "source": [
    "def create_loop(directions, lengths):\n",
    "    size = max(sum(lengths), 1000)  # Adjust the size if needed\n",
    "    array = [['.'] * size for _ in range(size)]\n",
    "\n",
    "    x, y = 500, 500\n",
    "    #x, y = 10, 10\n",
    "    for i in range(len(directions)):\n",
    "        for _ in range(lengths[i]):\n",
    "            if(directions[i] == 'R'):\n",
    "                x += 1\n",
    "            elif(directions[i] == 'L'):\n",
    "                x -= 1\n",
    "            elif(directions[i] == 'U'):\n",
    "                y -= 1\n",
    "            elif(directions[i] == 'D'):\n",
    "                y += 1\n",
    "            array[y][x] = '#'\n",
    "          \n",
    "    rows_to_remove = [row for row in range(len(array)) if all(val == '.' for val in array[row])]\n",
    "    cols_to_remove = [col for col in range(len(array[0])) if all(array[row][col] == '.' for row in range(len(array)))]\n",
    "    # Remove rows and columns containing only '.'\n",
    "    new_array = [\n",
    "        [array[row][col] for col in range(len(array[0])) if col not in cols_to_remove]\n",
    "        for row in range(len(array)) if row not in rows_to_remove\n",
    "    ]\n",
    "    return new_array"
   ]
  },
  {
   "cell_type": "code",
   "execution_count": 4,
   "id": "104a3ae1",
   "metadata": {
    "execution": {
     "iopub.execute_input": "2023-12-19T12:29:57.798625Z",
     "iopub.status.busy": "2023-12-19T12:29:57.797818Z",
     "iopub.status.idle": "2023-12-19T12:29:57.804773Z",
     "shell.execute_reply": "2023-12-19T12:29:57.803914Z"
    },
    "papermill": {
     "duration": 0.020608,
     "end_time": "2023-12-19T12:29:57.807227",
     "exception": false,
     "start_time": "2023-12-19T12:29:57.786619",
     "status": "completed"
    },
    "tags": []
   },
   "outputs": [],
   "source": [
    "def positions_of_hashes(array):\n",
    "    positions_dict = {}\n",
    "\n",
    "    for i, row in enumerate(array):\n",
    "        for j, char in enumerate(row):\n",
    "            if char == '#' or char == '+':\n",
    "                if '#' not in positions_dict:\n",
    "                    positions_dict['#'] = [(i, j)]\n",
    "                else:\n",
    "                    positions_dict['#'].append((i, j))\n",
    "\n",
    "    return positions_dict"
   ]
  },
  {
   "cell_type": "code",
   "execution_count": 5,
   "id": "e83ed7c8",
   "metadata": {
    "execution": {
     "iopub.execute_input": "2023-12-19T12:29:57.819389Z",
     "iopub.status.busy": "2023-12-19T12:29:57.818562Z",
     "iopub.status.idle": "2023-12-19T12:29:57.824744Z",
     "shell.execute_reply": "2023-12-19T12:29:57.823847Z"
    },
    "papermill": {
     "duration": 0.014987,
     "end_time": "2023-12-19T12:29:57.827190",
     "exception": false,
     "start_time": "2023-12-19T12:29:57.812203",
     "status": "completed"
    },
    "tags": []
   },
   "outputs": [],
   "source": [
    "def replace_char(matrix, target_char, replacement_char):\n",
    "    for row_idx, row in enumerate(matrix):\n",
    "        for col_idx, char in enumerate(row):\n",
    "            if char == target_char:\n",
    "                matrix[row_idx][col_idx] = replacement_char"
   ]
  },
  {
   "cell_type": "code",
   "execution_count": 6,
   "id": "b16ff23a",
   "metadata": {
    "execution": {
     "iopub.execute_input": "2023-12-19T12:29:57.839549Z",
     "iopub.status.busy": "2023-12-19T12:29:57.838478Z",
     "iopub.status.idle": "2023-12-19T12:30:15.283700Z",
     "shell.execute_reply": "2023-12-19T12:30:15.282296Z"
    },
    "papermill": {
     "duration": 17.45504,
     "end_time": "2023-12-19T12:30:15.287271",
     "exception": false,
     "start_time": "2023-12-19T12:29:57.832231",
     "status": "completed"
    },
    "tags": []
   },
   "outputs": [],
   "source": [
    "resulting_array = create_loop([item['direction'] for item in dplan], [item['number'] for item in dplan])"
   ]
  },
  {
   "cell_type": "code",
   "execution_count": 7,
   "id": "2c6c7d09",
   "metadata": {
    "execution": {
     "iopub.execute_input": "2023-12-19T12:30:15.302166Z",
     "iopub.status.busy": "2023-12-19T12:30:15.300870Z",
     "iopub.status.idle": "2023-12-19T12:30:15.369663Z",
     "shell.execute_reply": "2023-12-19T12:30:15.368238Z"
    },
    "papermill": {
     "duration": 0.079831,
     "end_time": "2023-12-19T12:30:15.372637",
     "exception": false,
     "start_time": "2023-12-19T12:30:15.292806",
     "status": "completed"
    },
    "tags": []
   },
   "outputs": [],
   "source": [
    "pre_char = '.'\n",
    "chain = False\n",
    "for i in range(len(resulting_array)-1):\n",
    "    ups = 0\n",
    "    for j in range(len(resulting_array[i])-1):\n",
    "        if resulting_array[i][j] == '#':\n",
    "            dir_last = resulting_array[i+1][j]\n",
    "            if(prechar == '#' and chain == False):\n",
    "                chain = True\n",
    "                dir_first = resulting_array[i+1][j-1]\n",
    "            if(resulting_array[i][j+1] != '#'):\n",
    "                if(chain):\n",
    "                    if(dir_first != dir_last):\n",
    "                        ups += 1\n",
    "                else:\n",
    "                    ups += 1\n",
    "            prechar = '#'\n",
    "            continue\n",
    "        else:\n",
    "            prechar = '.'\n",
    "            chain = False\n",
    "        if ups % 2 == 0:\n",
    "            resulting_array[i][j] = \".\"\n",
    "        else:\n",
    "            resulting_array[i][j] = \"I\""
   ]
  },
  {
   "cell_type": "code",
   "execution_count": 8,
   "id": "5408efd5",
   "metadata": {
    "execution": {
     "iopub.execute_input": "2023-12-19T12:30:15.384753Z",
     "iopub.status.busy": "2023-12-19T12:30:15.384271Z",
     "iopub.status.idle": "2023-12-19T12:30:15.404342Z",
     "shell.execute_reply": "2023-12-19T12:30:15.402719Z"
    },
    "papermill": {
     "duration": 0.033932,
     "end_time": "2023-12-19T12:30:15.411660",
     "exception": false,
     "start_time": "2023-12-19T12:30:15.377728",
     "status": "completed"
    },
    "tags": []
   },
   "outputs": [
    {
     "name": "stdout",
     "output_type": "stream",
     "text": [
      "............................................................................######.....................................................................................................................................................................................................................................................................................\n",
      "............................................................................#IIII#.....................................................................................................................................................................................................................................................................................\n",
      "............................................................................#IIII#.....................................................................................................................................................................................................................................................................................\n",
      ".........................................................................####IIII#.....................................................................................................................................................................................................................................................................................\n",
      "..............................................................#####......#IIIIIII#............................................................................................................................................................................#########................................................................................................\n",
      "..............................................................#III#......#IIIIIII#............................................................................................................................................................................#IIIIIII#................................................................................................\n",
      "..............................................................#III#......#IIIIIII#............................................................................................................................................................................#IIIIIII#................................................................................................\n",
      "..............................................................#III#......#IIIIIII#............................................................................................................................................................................#IIIIIII#................................................................................................\n",
      "..............................................................#III#......#IIIIIII#............................................................................................................................................................................#IIIIIII#................................................................................................\n",
      "..............................................................#III#......#IIIIIII#............................................................................................................................................................................#IIIIIII#................................................................................................\n",
      "..............................................................#III########IIIIIII####.........................................................................................................................................................................#IIIIIII#................................................................................................\n",
      "..............................................................#IIIIIIIIIIIIIIIIIIIII#.........................................................................................................................................................................#IIIIIII#................................................................................................\n",
      "..............................................................#IIIIIIIIIIIIIIIIIIIII#.........................................................................................................................................................................#IIIIIII#########........................................................................................\n",
      ".........................................................######IIIIIIIIIIIIIIIIIIIII#######..........................................................................................................................................................##########IIIIIIIIIIIIIII#........................................................................................\n",
      ".........................................................#IIIIIIIIIIIIIIIIIIIIIIIIIIIIIIII#..........................................................................................................................................................#IIIIIIIIIIIIIIIIIIIIIIII#........................................................................................\n",
      ".........................................................#IIIIIIIIIIIIIIIIIIIIIIIIIIIIIIII#..........................................................................................................................................................#IIIIIIIIIIIIIIIIIIIIIIII#........................................................................................\n",
      ".........................................................#IIIIIIIIIIIIIIIIIIIIIIIIIIIIIIII#..........................................................................................................................................................#IIIIIIIIIIIIIIIIIIIIIIII#........................................................................................\n",
      ".........................................................#IIIIIIIIIIIIIIIIIIIIIIIIIIIIIIII#..........................................................................................................................................................######IIIIIIIIIIIIIIIIIII#........................................................................................\n",
      ".........................................................#IIIIIIIIIII#######IIIIIIII#######...............................................................................................................................................................#IIIIIIIIIIIIIIIIIII#........................................................................................\n",
      ".........................................................#IIIIIIIIIII#.....#IIIIIIII#.....................................................................................................................................................................#IIIIIIIIIIIIIIIIIII#######..................................................................................\n",
      ".........................................................######IIIIII#.....#IIIIIIII#.....................................................................................................................................................................#IIIIIIIIIIIIIIIIIIIIIIIII#..................................................................................\n",
      "..............................................................#IIIIII#.....#IIIIIIII#.....................................................................................................................................................................#IIIIIIIIIIIIIIIIIIIIIIIII#..................................................................................\n",
      "..............................................................#IIIIII#.....##########.............................................................................................................########................................................#IIIIIIIIIIIIIIIIIIIIIIIII#..................................................................................\n",
      ".........................................................######IIIIII#............................................................................................................................#IIIIII#................................................#IIIIIIIIIIIIIIIIIIIIIIIII#..................................................................................\n",
      ".........................................................#IIIIIIII####............................................................................................................................#IIIIII#................................................#####IIIIIIIIIIIIIIIIIIIII#..................................................................................\n",
      ".........................................................#IIIIIIII#...............................................................................................................................#IIIIII#....................................................#IIIIIIIIIIIIIIIIIIIII#..................................................................................\n",
      ".........................................................#IIIIIIII#.........................................................................................................................#######IIIIII#....................................................#IIIIIIIIIIIIIIIIIIIII#..................................................................................\n",
      ".........................................................#IIIIIIII#.........................................................................................................................#IIIIIIIIIIII#....................................................#########IIIIIIIIIIIII##########.........................................................................\n",
      ".........................................................#IIIIIIII#.........................................................................................................................#IIIIIIIIIIII#............................................................#IIIIIIIIIIIIIIIIIIIIII#.........................................................................\n",
      ".........................................................#IIIIIIII#.........................................................................................................................#IIIIIIIIIIII#............................................................#IIIIIIIIIIIIIIIIIIIIII#.........................................................................\n",
      ".......................................................###IIIIIIII######....................................................................................................................#IIIIIIIIIIII#########....................................................#IIIIIIIIIIIII##########.........................................................................\n",
      ".......................................................#IIIIIIIIIIIIIII#....................................................................................................................#IIIIIIIIIIIIIIIIIIII#....................................................#IIIIIIIIIIIII#..................................................................................\n",
      ".......................................................#IIIIIIIIIIIIIII#....................................................................................................................#IIIIIIIIIIIIIIIIIIII#....................................................#IIIIIIIIIIIII#..................................................................................\n",
      ".......................................................#IIIIIIIIIIIIIII##########...........................................................................................................#IIIIIIIIIIIIIIIIIIII####.................................................#IIIIIIIIIIIII#..................................................................................\n",
      ".......................................................#IIIIIIIIIIIIIIIIIIIIIIII#...........................................................................................................#IIIIIIIIIIIIIIIIIIIIIII#.............................................#####IIIIIIIIIIIII#..................................................................................\n",
      "..................................................######IIIIIIIIIIIIIIIIIIIIIIII#...........................................................................................................#IIIIIIIIIIIIIIIIIIIIIII#.............................................#IIIIIIIIIIIIIIIII#..................................................................................\n",
      "..................................................#IIIIIIIIIIIIIIIIIIIIIIIIIIIII#...........................................................................................................#IIIIIIIIIIIIIIIIIIIIIII########......................................#IIIIIIIIIIIIIIIII#..................................................................................\n",
      "..................................................#IIIIIIIIIIIIIIIIIIIIIIIIIIIII#...........................................................................................................#####IIIIIIIIIIIIIIIIIIIIIIIIII#......................................#IIIIIIIIIIIIIIIII#######............................................................................\n",
      "..................................................#IIIIIIIIIIIIIIIIIIIIIIIIIIIII#...............................................................................................................#IIIIIIIIIIIIIIIIIIIIIIIIII#......................................#IIIIIIIIIIIIIIIIIIIIIII#............................................................................\n",
      "..................................................#IIIIIIIIIIIIIIIIIIII##########...............................................................................................................#######IIIIIIIIIIIIIIIIIIII#......................................#IIIIIIIIIIIIIIIIIIIIIII#............................................................................\n",
      "..................................................#IIIIIIIIIIIIIIIIIIII#..............................................................................................................................#IIIIIIIIIIIIIIIIIIII#...................................####IIIIIIIIIIIIIIIIIIIIIII#####......######............................................................\n",
      "..................................................#IIIIIIIIIIIIIIIIIIII#..............................................................................................................................#IIIIIIIIIIIIIIIIIIII#...................................#IIIIIIIIIIIIIIIIIIIIIIIIIIIIII#......#IIII#............................................................\n",
      "..................................................#IIIIIIIIIIIIIIIIIIII#..............................................................................................................................#IIIIIIIIIIIIIIIIIIII#####.....................###########IIIIIIIIIIIIIIIIIIIIIIIIIIIIII#......#IIII#............................................................\n",
      "..................................................#IIIIIIIIIIIIIIIIIIII#..............................................................................................................................#IIIIIIIIIIIIIIIIIIIIIIII#.....................#IIIIIIIIIIIIIIIIIIIIIIIIIIIIIIIIIIIIIIII#......#IIII#............................................................\n",
      "..................................................#IIIIIIIIIIIIIIIIIIII#..............................................................................................................................#IIIIIIIIIIIIIIIIIIIIIIII########..............#IIIIIIIIIIIIIIIIIIIIIIIIIIIIIIIIIIIIIIII#......#IIII#............................................................\n",
      "..................................................#IIIIIIIIIIIIIIIIIIII######.........................................................................................................................####IIIIIIIIIIIIIIIIIIIIIIIIIIII#..............############IIIIIIIIIIIIIIIIIIIIIIIIIIIII#......#IIII############.................................................\n",
      ".............................................######IIIIIIIIIIIIIIIIIIIIIIIII#............................................................................................................................#IIIIIIIIIIIIIIIIIIIIIIIIIIII#.........................#IIIIIIIIIIIIIIIIIIIIIIIIIIIII#......#IIIIIIIIIIIIIII#.................................................\n",
      ".............................................#IIIIIIIIIIIIIIIIIIIIIIIIIIIIII#............................................................................................................................#IIIIIIIIIIIIIIIIIIIIIIIIIIII#.........................#IIIIIIIIIIIIIIIIIIIIIIIIIIIII#......#IIIIIIIIIIIIIII#.................................................\n",
      ".............................................#IIIIIIIIIIIIIIIIIIIIIIIIIIIIII#............................................................................................................................#IIIIIIIIIIIIIIIIIIIIIIIIIIII#.........................#IIIIIIIIIIIIIIIIIIIIIIIIIIIII#......#IIIIIIIIIIIIIII#.................................................\n",
      ".............................................#IIIIIIIIIIIIIIIIIIIIIIIIIIIIII#####....#######.............................................................................................................#IIIIIIIIIIIIIIIIIIIIIIIIIIII#.........................#######IIIIIIIIIIIIIIIIIIIIIII####...#IIIIIIIIIIIIIII#.................................................\n",
      ".......................................#######IIIIIIIIIIIIIIIIIIIIIIIIIIIIIIIIII#....#IIIII#.............................................................................................................#IIIIIIIIIIIIIIIIIIIIIIIIIIII#########.......................#IIIIIIIIIIIIIIIIIIIIIIIIII#...#IIIIIIIIIIIIIII###...............................................\n",
      ".......................................#IIIIIIIIIIIIIIIIIIIIIIIIIIIIIIIIIIIIIIII#....#IIIII#.......................................................................................................#######IIIIIIIIIIIIIIIIIIIIIIIIIIIIIIIIIIII#.......................#IIIIIIIIIIIIIIIIIIIIIIIIII#...#IIIIIIIIIIIIIIIII#...............................................\n",
      "..................................######IIIIIIIIIIIIIIIIIIIIIIIIIIIIIIIIIIIIIIII#....#IIIII#.......................................................................................................#IIIIIIIIIIIIIIIIIIIIIIIIIIIIIIIIIIIIIIIIII#####...................#IIIIIIIIIIIIIIIIIIIIIIIIII#...#IIIIIIIIIIIIIIIII#...............................................\n",
      "..................................#IIIIIIIIIIIIIIIIIIIIIIIIIIIIIIIIIIIIIIIIIIIII#....#IIIII#.......................................................................................................#IIIIIIIIIIIIIIIIIIIIIIIIIIIIIIIIIIIIIIIIIIIIII#...................#IIIIIIIIIIIIIIIIIIIIIIIIII#####IIIIIIIIIIIIIIIII#...............................................\n",
      "..................................#IIIIIIIIIIIIIIIIIIIIIIIIIIIIIIIIIIIIIIIIIIIII######IIIII#.......................................................................................................#IIIIIIIIIIIIIIIIIIIIIIIIIIIIIIIIIIIIIIIIIIIIII#...................#IIIIIIIIIIIIIIIIIIIIIIIIIIIIIIIIIIIIIIIIIIIIIIII#####...............########....................\n",
      "..................................#IIIIIIIIIIIIIIIIIIIIIIIIIIIIIIIIIIIIIIIIIIIIIIIIIIIIIIII#................................................................................................########IIIIIIIIIIIIIIIIIIIIIIIIIIIIIIIIIIIIIIIIIIIIII#...................#IIIIIIIIIIIIIIIIIIIIIIIIIIIIIIIIIIIIIIIIIIIIIIIIIIII#...............#IIIIII#....................\n",
      "..................................#IIIIIIIIIIIIIIIIIIIIIIIIIIIIIIIIIIIIIIIIIIIIIIIIIIIIIIII#................................................................................................#IIIIIIIIIIIIIIIIIIIIIIIIIIIIIIIIIIIIIIIIIIIIIIIIIIIII#...................#IIIIIIIIIIIIIIIIIIIIIIIIIIIIIIIIIIIIIIIIIIIIIIIIIIII#############...#IIIIII#....................\n",
      "........#####.....................#IIIIIIIIIIIIIIIIIIIIIIIIIIIIIIIIIIIIIIIIIIIIIIIIIIIIIIII####.............................................................................................#IIIIIIIIIIIIIIIIIIIIIIIIIIIIIIIII###########IIIIIIIII#...................#IIIIIIIIIIIIIIIIIIIIIIIIIIIIIIIIIIIIIIIIIIIIIIIIIIIIIIIIIIIIIIII#...#IIIIII#....................\n",
      "........#III#.....................#IIIIIIIIIIIIIIIIIIIIIIIIIIIIIIIIIIIIIIIIIIIIIIIIIIIIIIIIIII#.............................................................................................#IIIIIIIIIIIIIIIIIIIIIIIIIIIIIIIII#.........#IIIIIIIII#...........#########IIIIIIIIIIIIIIIIIIIIIIIIIIIIIIIIIIIIIIIIIIIIIIIIIIIIIIIIIIIIIIII#...#IIIIII#....................\n",
      "........#III#.....................#IIIIIIIIIIIIIIIIIIIIIIIIIIIIIIII######IIIIIIIIIIIIIIIIIIIII#.............................................................................................#IIIIIIIIIIIIIIIIIIIIIIIIIIIIIIIII#.........#III#######...........#IIIIIIIIIIIIIIIIIIIIIIIIIIIIIIIIIIIIIIIIIIIIIIIIIIIIIIIIIIIIIIIIIIIIIIII#...#IIIIII#....................\n",
      "........#III#.....................#IIIIIIIIIIIIIIIIIIIIIIIIIIIIIIII#....#IIIIIIIIIIIIIIIIIIIII#.............................................................................................#IIIIIIIIIIIIIIIIIIIIIIIIIIIIIIIII#.........#III#.................#IIIIIIIIIIIIIIIIIIIIIIIIIIIIIIIIIIIIIIIIIIIIIIIIIIIIIIIIIIIIIIIIIIIIIIII#####IIIIII#####................\n",
      "........#III#..............########IIIIIIIIIIIIIIIIIIIIIIIIIIIIIIII#....#IIIIIIIIIIIIIIIIIIIII#.............................................................................................#IIIIIIIIIIIIIIIIIIIIIIIIIIII######.........#####.................####IIIIIIIIIIIIIIIIIIIIIIIIIIIIIIIIIIIIIIIIIIIIIIIIIIIIIIIIIIIIIIIIIIIIIIIIIIIIIIIIIIII#................\n",
      "........#III#..............#IIIIIIIIIIIIIIIIIIIIIIIIIIIIIIIIIIIIIII#....#IIIIIII#####IIIIIIIII#.............................................................................................#IIIIIIIIIIIIIIIIIIIIIIIIIIII#.......................................#IIIIIIIIIIIIIIIIIIIIIIIIIIIIIIIIIIIIIIIIIIIIIIIIIIIIIIIIIIIIIIIIIIIIIIIIIIIIIIIIIIII#########........\n",
      "........#III#..............#IIIIIIIIIIIIIIIIIIIIIIIIIIIIIIIIIIII####....####IIII#...#IIIII#####......................................................................................########IIIIIIIIIIIIIIIIIIIIIII######.......................................#IIIIIIIIIIIIIIIIIIIIIIIIIIIIIIIIIIIIIIIIIIIIIIIIIIIIIIIIIIIIIIIIIIIIIIIIIIIIIIIIIIIIIIIIIIII#........\n",
      "........#III#......#########IIIIIIIIIIIIIIIIIIIIIIIIIIIIIIIIIIII#..........#IIII#...#IIIII#..........................................................................................#IIIIIIIIIIIIIIIIIIIIIIIIIIIIII#............................................#IIIIIIIIIIIIIIIIIIIIIIIIIIIIIIIIIIIIIIIIIIIIIIIIIIIIIIIIIIIIIIIIIIIIIIIIIIIIIIIIIIIIIIIIIIII#........\n",
      "........#III###....#IIIIIIIIIIIIIIIIIIIIIIIIIIIIIIIIIIIIIIIIIIII#..........#IIII#...#IIIII#....................####..................................................................#IIIIIIIIIIIIIIIIIIIIIIIIIIIIII#............................................#####IIIIIIIIIIIIIIIIIIIIIIIIIIIIIIIIIIIIIIIIIIIIIIIIIIIIIIIIIIIIIIIIIIIIIIIIIIIIIIIIIIIIIIII#........\n",
      "........#IIIII#....#IIIIIIIIIIIIIIIIIIIIIIIIIIIIIIIIIIIIIIIIIIII#..........#IIII#...#IIIII#....................#II#........................................#######...................#IIIIIIIIIIIIIIIIIIIIIIIIIIIIII#..................####..........................#IIIIIIIIIIIIIIIIIIIIIIIIIIIIIIIIIIIIIIIIIIIIIIIIIIIIIIIIIIIIIIIIIIIIIIIIIIIIIIIIIIIIIIII#........\n",
      "....#####IIIII#....#IIIIIIIIIIIIIIIIIIIIIIIIIIIIIIIIIIIIIIIIIIII#..........#IIII#...#IIIII#....................#II#........................................#IIIII#...................#IIIIIIIIIIIIIIIIIIIIIIIIIIIIII#..................#II#..........................#IIIIIIIIIIIIIIIIIIIIIIIIIIIIIIIIIIIIIIIIIIIIIIIIIIIIIIIIIIIIIIIIIIIIIIIIIIIIIIIIIIIIIIII#........\n",
      "....#IIIIIIIII#....#IIIIIIIIIIIIIIIIIIIIIIIIIIIIIIIIIIIIIIIIIIII#..........#IIII#...#IIIII#....................#II#........................................#IIIII#...................#IIIIIIIIIIIIIIIIIIIIIIIIIIIIII#...........########II#..........................#IIIIIIIIIIIIIIIIIIIIIIIIIIIIIIIIIIIIIIIIIIIIIIIIIIIIIIIIIIIIIIIIIIIIIIIIIIIIIIIIIIIIIIII#........\n",
      "....#IIIIIIIII#....#IIIIIIIIIIIIIIIIIIIIIIIIIIIIIIIIIIII#########..........######...#######....................#II#........................................#IIIII#...................#IIIIIIIIIIIIIIIIIIIIIIIIIIIIII#...........#IIIIIIIII#..........................#IIIIIIIIIIIIIIIIIIIIIIIIIIIIIIIIIIIIIIIIIIIIIIIIIIIIIIIIIIIIIIIIIIIIIIIIIIIIIIIIIIIIIIII#........\n",
      "....#IIIIIIIII#....#IIIIIIIIIIIIIIIIIIIIIIIIIIIIIIIIIIII#......................................................#II#####....................................#IIIII###.................#IIIIIIIIIIIIIIIIIIIIIIIIIIIIII#...........#IIIIIIIII#..........................#IIIIIIIIIIIIIIIIIIIIIIIIIIIIIIIIIIIIIIIIIIIIIIIIIIIIIIIIIIIIIIIIIIIIIIIIIIIIIIIIIIIIIIII#####....\n",
      "#####IIIIIIIII######IIIIIIIIIIIIIIIIIIIIIIIIIIIIIIIIIIII#......................................................#IIIIII#....................................#IIIIIII#.................#IIIIIIIIIIIIIIIIIIIIIIIIIIIIII#######.....#III#######..........................#IIIIIIIIIIIIIIIIIIIIIIIIIIIIIIIIIIIIIIIIIIIIIIIIIIIIIIIIIIIIIIIIIIIIIIIIIIIIIIIIIIIIIIIIIIII#....\n",
      "#IIIIIIIIIIIIIIIIIIIIIIIIIIIIIIIIIIIIIIIIIIIIIIIIIIIIIII#......................................................#IIIIII#....................................#IIIIIII#..........########IIIIIIIIIIIIIIIIIIIIIIIIIIIIIIIIIIII#.....#III#................................###########IIIIIIIIIIIIIIIIIIIIIIIIIIIIIIIIIIIIIIIIIIIIIIIIIIIIIIIIIIIIIIIIIIIIIIIIIIIIIIIIII#....\n",
      "#IIIIIIIIIIIIIIIIIIIIIIIIIIIIIIIIIIIIIIIIIIIIIIIIIIIIIII#......................................................#IIIIII#....................................#IIIIIII#..........#IIIIIIIIIIIIIIIIIIIIIIIIIIIIIIIIIIIIIIIIIII#.....#III#..........................................#IIIIIIIIIIIIIIIIIIIIIIIIIIIIIIIIIIIIIIIIIIIIIIIIIIIIIIIIIIIIIIIIIIIIIIIIIIIIIIIIII#####\n",
      "#IIIIIIIIIIIIIIIIIIIIIIIIIIIIIIIIIIIIIIIIIIIIIIIIIIIIIII#......................................................#IIIIII######...............................#IIIIIII#..........#IIIIIIIIIIIIIIIIIIIIIIIIIIIIIIIIIIIIIIIIIII#.....#III#..........................................#IIIIIIIIIIIIIIIIIIIIIIIIIIIIIIIIIIIIIIIIIIIIIIIIIIIIIIIIIIIIIIIIIIIIIIIIIIIIIIIIIIIIII#\n",
      "#IIIIIIIIIIIIIIIIIIIIIIIIIIIIIIIIIIIIIIIIIIIIIIIIIIIIIII#.................................................######IIIIIIIIIII#...............................#IIIIIII############IIIIIIIIIIIIIIIIIIIIIIIIIIIIIIIIIIIIIIIIIII#######III#..........................................#IIIIIIIIIIIIIIIIIIIIIIIIIIIIIIIIIIIIIIIIIIIIIIIIIIIIIIIIIIIIIIIIIIIIIIIIIIIIIIIIIIIIII#\n",
      "####IIIIIIIIIIIIIIIIIIIIIIIIIIIIIIIIIIIIIIIIIIIIIIIIIIII#.................................................#IIIIIIIIIIIIIIII#..........................######IIIIIIIIIIIIIIIIIIIIIIIIIIIIIIIIIIIIIIIIIIIIIIIIIIIIIIIIIIIIIIIIIIIIIIII#..........................................#IIIIIIIIIIIIIIIIIIIIIIIIIIIIIIIIIIIIIIIIIIIIIIIIIIIIIIIIIIIIIIIIIIIIIIIIIIIIIIIIIIIIII#\n",
      "...#IIIIIIIIIIIIIIIIIIIIIIIIIIIIIIIIIIIIIIIIIIIIIIIIIIII#.................................................#IIIIIIIIIIIIIIII#..........................#IIIIIIIIIIIIIIIIIIIIIIIIIIIIIIIIIIIIIIIIIIIIIIIIIIIIIIIIIIIIIIIIIIIIIIIIIIIII#######....................................#IIIIIIIIIIIIIIIIIIIIIIIIIIIIIIIIIIIIIIIIIIIIIIIIIIIIIIIIIIIIIIIIIIIIIIIIIIIIIIIIIIIIII#\n",
      "...#IIIIIIIIIIIIIIIIIIIIIIIIIIIIIIIIIIIIIIIIIIIIII#######.................................................#IIIIIIIIIIIIIIII#..#####..............######IIIIIIIIIIIIIIIIIIIIIIIIIIIIIIIIIIIIIIIIIIIIIIIIIIIIIIIIIIIIIIIIIIIIIIIIIIIIIIIIIII#....................................#IIIIIIIIIIIIIIIIIIIIIIIIIIIIIIIIIIIIIIIIIIIIIIIIIIIIIIIIIIIIIIIIIIIIIIIIIIIIIIIIIIIIII#\n",
      "...#IIIIIIIIIIIIIIIIIIIIIIIIIIIIIIIIIIIIIIIIIIIIII#.......................................................#IIIIIIIIIII######..#III#..............#IIIIIIIIIIIIIIIIIIIIIIIIIIIIIIIIIIIIIIIIIIIIIIIIIIIIIIIIIIIIIIIIIIIIIIIIIIIIIIIIIIIIIIII#....................................#IIIIIIIIIIIIIIIIIIIIIIIIIIIIIIIIIIIIIIIIIIIIIIIIIIIIIIIIIIIIIIIIIIIIIIIIII#############\n",
      "...#IIIIIIIIIIIIIIIIIIIIIIIIIIIIIIIIIIIIIIIIIIIIII#.......................................................#IIIIIIIIIII#.......#III#######........#IIIIIIIIIIIIIIIIIIIIIIIIIIIIIIIIIIIIIIIIIIIIIIIIIIIIIIIIIIIIIIIIIIIIIIIIIIIIIIIIIIIIIIII#######......................#########IIIIIIIIIIIIIIIIIIIIIIIIIIIIIIIIIIIIIIIIIIIIIIIIIIIIIIIIIIIIIIIIIIIIIIIIII#............\n",
      "...#######IIIIIIIIIIIIIIIIIIIIIIIIIIIIIIIIIIIIIIII#.......................................................######IIIIII#.......#IIIIIIIII#........#IIIIIIIIIIIIIIIIIIIIIIIIIIIIIIIIIIIIIIIIIIIIIIIIIIIIIIIIIIIIIIIIIIIIIIIIIIIIIIIIIIIIIIIIIIIIII#......................#IIIIIIIIIIIIIIIIIIIIIIIIIIIIIIIIIIIIIIIIIIIIIIIIIIIIIIIIIIIIIIIIIIIIIIIIIIIIIIIIII#............\n",
      ".........#IIIIIIIIIIIIIIIIIIIIIIIIIIIIIIIIIIIIIIII#............................................................#IIIIII#.......#IIIIIIIII#........#IIIIIIIIIIIIIIIIIIIIIIIIIIIIIIIIIIIIIIIIIIIIIIIIIIIIIIIIIIIIIIIIIIIIIIIIIIIIIIIIIIIIIIIIIIIIII#......................#IIIIIIIIIIIIIIIIIIIIIIIIIIIIIIIIIIIIIIIIIIIIIIIIIIIIIIIIIIIIIIIIIIIIIIIIIIIIIIIIII#............\n",
      ".........#IIIIIIIIIIIIIIIIIIIIIIIIIIIIIIIIIIIIIIII#............................................................#IIIIII#.......#III#######........#IIIIIIIIIIIIIIIIIIIIIIIIIIIIIIIIIIIIIIIIIIIIIIIIIIIIIIIIIIIIIIIIIIIIIIIIIIIIIIIIIIIIIIIIIIIIII#.................######IIIIIIIIIIIIIIIIIIIIIIIIIIIIIIIIIIIIIIIIIIIIIIIIIIIIIIIIIIIIIIIIIIIIIIIIIIIIIIIIII#............\n",
      ".........#IIIIIIIIIIIIIIIIIIIIIIIIIIIIIIIIIIIIIIII#............................................................#IIIIII######..#III#..............#IIIIIIIIIIIIIIIIIIIIIIIIIIIIIIIIIIIIIIIIIIIIIIIIIIIIIIIIIIIIIIIIIIIIIIIIIIIIIIIIIIIIIIIIIIIIII#.................#IIIIIIIIIIIIIIIIIIIIIIIIIIIIIIIIIIIIIIIIIIIIIIIIIIIIIIIIIIIIIIIIIIIIIIIIIIIIIIIIIIIIIII#............\n",
      ".........####IIIIIIIIIIIIIIIIIIIIIIIIIIIIIIIIIIIII#............................................................#IIIIIIIIIII#..#III#..............#IIIIIIIIIIIIIIIIIIIIIIIIIIIIIIIIIIIIIIIIIIIIIIIIIIIIIIIIIIIIIIIIIIIIIIIIIIIIIIIIIIIII##########.................#IIIIIIIIIIIIIIIIIIIIIIIIIIIIIIIIIIIIIIIIIIIIIIIIIIIIIIIIIIIIIIIIIIIIIIIIIIIIIIIIIIII####............\n",
      "............#IIIIIIIIIIIIIIIIIIIIIIIIIIIIIII#######............................................................#IIIIIIIIIII#..#III#............###IIIIIIIIIIIIIIIIIIIIIIIIIIIIIIIIIIIIIIIIIIIIIIIIIIIIIIIIIIIIIIIIIIIIIIIIIIIIIIIIIIIII#......................#####IIIIIIIIIIIIIIIIIIIIIIIIIIIIIIIIIIIIIIIIIIIIIIIIIIIIIIIIIIIIIIIIIIIIIIIIIIIIIIIIIIII#...............\n",
      "............#######IIIIIIIIIIIIIIIIIIIIIIIII#................................................................###IIIIIIIIIII#..#III#............#IIIIIIIIIIIIIIIIIIIIIIIIIIIIIIIIIIIIIIIIIIIIIIIIIIIIIIIIIIIIIIIIIIIIIIIIIIIIIIIIIIIIIII#......................#IIIIIIIIIIIIIIIIIIIIIIIIIIIIIIIIIIIIIIIIIIIIIIIIIIIIIIIIIIIIIIIIIIIIIIIIIIIIIIIIIIIIIIII#...............\n",
      "..................#IIIIIIIIIIIIIIIIIIIIIIIII#................................................................#IIIIIIIIIIIII#..#III#............#IIIIIIIIIIIIIIIIIIIIIIIIIIIIIIIIIIIIIIIIIIIIIIIIIIIIIIIIIIIIIIIIIIIIIIIIIIIIIIIIIIII####......................#IIIIIIIIIIIIIIIIIIIIIIIIIIIIIIIIIIIIIIIIIIIIIIIIIIIIIIIIIIIIIIIIIIIIIIIIIIIIIIIIIIIIIIII#...............\n",
      "..................#IIIIIIIIIIIIIIIIIIIIIIIII#................................................................#IIIIIIIIIIIII#..#III#########....#IIIIIIIIIIIIIIIIIIIIIIIIIIIIIIIIIIIIIIIIIIIIIIIIIIIIIIIIIIIIIIIIIIIIIIIIIIIIIIIIIIII#.........................#IIIIIIIIIIIIIIIIIIIIIIIIIIIIIIIIIIIIIIIIIIIIIIIIIIIIIIIIIIIIIIIIIIIIIIIIIIIIIIIIIIIIIIII#...............\n",
      "..................#IIIIIIIIIIIIIIIIIIIIIIIII#................................................................#IIIIIIIIIIIII#..#IIIIIIIIIII#....#IIIIIIIIIIIIIIIIIIIIIIIIIIIIIIIIIIIIIIIIIIIIIIIIIIIIIIIIIIIIIIIIIIIIIIIIIIIIIIIIIIII#.........................#IIIIIIIIIIIIIIIIIIIIIIIIIIIIIIIIIIIIIIIIIIIIIIIIIIIIIIIIIIIIIIIIIIIIIIIIIIIIIIIIIIIIIIII#...............\n",
      "..................#IIIIIIIIIIIIIIIIIIIIIIIII#................................................................#IIIIIIIIIIIII#..#IIIIIIIIIII#....#########IIIIIIIIIIIIIIIIIIIIIIIIIIIIIIIIIIIIIIIIIIIIIIIIIIIIIIIIIIIIIIIIIIIIIIIIIIII#.........................#IIIIIIIIIIIIIIIIIIIIIIIIIIIIIIIIIIIIIIIIIIIIIIIIIII#######IIIIIIIIIIIIIIIIIIIIII#########...............\n",
      "..................#IIIIIIIIIIIIIIIIIIIIIIIII#...........................................................######IIIIIIIIIIIII####IIIIIIIIIII#............#IIIIIIIIIIIIIIIIIIIIIIIIIIIIIIIIIIIIIIIIIIIIIIIIIIIIIIIIIIIIIIIIIIIIIIIIIIII#.........................#IIIIIIIIIIIIIIIIIIIIIIIIIIIIIIIIIIIIIIIIIIIIIIIIIII#.....#IIIIIIIIIIIIIIIIIIIIII#.......................\n",
      "..................###IIIIIIIIIIIIIIIIIIIIIII#####.................................#########.............#IIIIIIIIIIIIIIIIIIIIIIIIIIIIIIIII#............#######IIIIIIIIIIIIIIIIIIIIIIIIIIIIIIIIIIIIIIIIIIIIIIIIIIIIIIIIIIIIIIIIIIIIII#.........................#IIIIIIIIIIIIIIIIIIIIIIIIIIIIIIIIIIIIIIIIIIIIIIIIIII#.....#IIIIIIIIIIIIIIIIIIIIII#.......................\n",
      "....................#IIIIIIIIIIIIIIIIIIIIIIIIIII#.................................#IIIIIII#...........###IIIIIIIIIIIIIIIIIIIIIIIII#########..................#IIIIIIIIIIIIIIIIIIIIIIIIIIIIIIIIIIIIIIIIIIIIIIIIIIIIIIIIIIIIIIIIIIIIII#.....................#####IIIIIIIIIIIIIIIIIIIIIIIIIIIIIIIIIIIIIIIIIIIIIIIIIII#.....#IIIIIIIIIIIIIIIIIIIIII#.......................\n",
      "....................#IIIIIIIIIIIIIIIIIIIIIIIIIII#.................................#IIIIIII#...........#IIIIIIIIIIIIIIIIIIIIIIIIIII#..........................#IIIIIIIIIIIIIIIIIIIIIIIIIIIIIIIIIIIIIIIIIIIIIIIIIIIIIIIIIIIIIIIIIIIIII#######...............#IIIIIIIIIIIIIIIIIIIIIIIIIIIIIIIIIIIIIIIIIIIIIIIIIIIIIII#.....#######IIIIIIIIIIII#####.......................\n",
      "....................#IIIIIIIIIIIIIIIIIIIIIIIIIII#.................................#IIIIIII#...........#IIIIIIIIIIIIIIIIIIIIIIIIIII#..........................#IIIIIIIIIIIIIIIIIIIIIIIIIIIIIIIIIIIIIIIIIIIIIIIIIIIIIIIIIIIIIIIIIIIIIIIIIIII#...........#####IIIIIIIIIIIIIIIIIIIIIIIIIIIIIIIIIIIIIIIIIIIIIIIIIIIIIII#...........#IIIIIIIIIIII#...........................\n",
      "....................####IIIIIIIIIIIIIIIIIIIIIIII#..........................########IIIIIII#...........#IIIIIIIIIIIIIIIIIIIIIIIIIII#..........................#IIIIIIIIIIIIIIIIIIIIIIIIIIIIIIIIIIIIIIIIIIIIIIIIIIIIIIIIIIIIIIIIIIIIIIIIIIII#...........#IIIIIIIIIIIIIIIIIIIIIIIIIIIIIIIIIIIIIIIIIIIIIIIIIIIIIIIIIII#...........#IIIIIIIIIIII#...........................\n",
      ".......................#IIIIIIIIIIIIIIIIIIIIIIII#..........................#IIIIIIIIIIIIII#####.......#IIIIIIIIIIIIIIIIIIIIIIIIIII#..........................#IIIIIIIIIIIIIIIIIIIIIIIIIIIIIIIIIIIIIIIIIIIIIIIIIIIIIIIIIIIIIIIIIIIIIIIIIIII#...........#IIIIIIIIIIIIIIIIIIIIIIIIIIIIIIIIIIIIIIIIIIIIIIIIIIIIIIIII###...........#IIIIIIIIIIII#...........................\n",
      ".......................#IIIIIIIIIIIIIIIIIIIIIIII#..........................#IIIIIIIIIIIIIIIIII#.......#IIIIIIIIIIIIIIIIIIIIIIIIIII#######...........##########IIIIIIIIIIIIIIIIIIIIIIIIIIIIIIIIIIIIIIIIIIIIIIIIIIIIIIIIIIIIIIIIIIIIIIIIIIII#...........#IIIIIIIIIIIIIIIIIIIIIIIIIIIIIIIIIIIIIIIIIIIIIIIIIIIIIIIII#.............#IIIIIIIIIIII#...........................\n",
      ".......................#IIIIIIIIIIIIIIIIIIIIIIII#########..................#IIIIIIIIIIIIIIIIII#.......#IIIIIIIIIIIIIIIIIIIIIIIIIIIIIIIII#...........#IIIIIIIIIIIIIIIIIIIIIIIIIIIIIIIIIIIIIIIIIIIIIIIIIIIIIIIIIIIIIIIIIIIIIIIIIIIIIIIIIIIII#...........#IIIIIIIIIIIIIIIIIIIIIIIIIIIIIIIIIIIIIIIIIIIIIIIIIIIIIIIII#.............#IIIIIIIIIIII#...........................\n",
      ".......................#IIIIIIIIIIIIIIIIIIIIIIIIIIIIIIII#..................#IIIIIIIIIIIIIIIIII#.......#IIIIIIIIIIIIIIIIIIIIIIIIIIIIIIIII#......######IIIIIIIIIIIIIIIIIIIIIIIIIIIIIIIIIIIIIIIIIIIIIIIIIIIIIIIIIIIIIIIIIIIIIIIIIIIIIIIIIIIII#...#########IIIIIIIIIIIIIIIIIIIIIIIIIIIIIIIIIIIIIIIIIIIIIIIIIIIIIIIII#.............#IIIIII#######...........................\n",
      ".......................#IIIIIIIIIIIIIIIIIIIIIIIIIIIIIIII#............#######IIIIIIIIIIIIIIIIII#.......#IIIIIIIIIIIIIIIIIIIIIIIIIIIIIIIII#......#IIIIIIIIIIIIIIIIIIIIIIIIIIIIIIIIIIIIIIIIIIIIIIIIIIIIIIIIIIIIIIIIIIIIIIIIIIIIIIIIIIIIIIIIII#...#IIIIIIIIIIIIIIIIIIIIIIIIIIIIIIIIIIIIIIIIIIIIIIIIIIIIIIIIIIIIIIIII#.............####III#.................................\n",
      ".......................#IIIIIIIIIIIIIIIIIIIIIIIIIIIIIIII#............#IIIIIIIIIIIIIIIIIIIIIIII#...#####IIIIIIIIIIIIIIIIIIIIIIIIIIIIIIIII#......#IIIIIIIIIIIIIIIIIIIIIIIIIIIIIIIIIIIIIIIIIIIIIIIIIIIIIIIIIIIIIIIIIIIIIIIIIIIIIIIIIIIIIIIIII#...#IIIIIIIIIIIIIIIIIIIIIIIIIIIIIIIIIIIIIIIIIIIIIIIIIIIIIIIIII########................#III#.................................\n",
      ".......................#IIIIIIIIIIIIIIIIIIIIIIIIIIIIIIII########.....#IIIIIIIIIIIIIIIIIIIIIIII#...#IIIIIIIIIIIIIIIIIIIIIIIIIIIIIIIIIIIII########IIIIIIIIIIIIIIIIIIIIIIIIIIIIIIIIIIIIIIIIIIIIIIIIIIIIIIIIIIIIIIIIIIIIIIIIIIIIIIIIIIIIIIIIII#...#IIIIIIIIIIIIIIIIIIIIIIIIIIIIIIIIIIIIIIIIIIIIIIIIIIIIIIIIII#.......................#III#.................................\n",
      ".......................#IIIIIIIIIIIIIIIIIIIIIIIIIIIIIIIIIIIIIII#.....#IIIIIIIIIIIIIIIIIIIIIIII#...#IIIIIIIIIIIIIIIIIIIIIIIIIIIIIIIIIIIIIIIIIIIIIIIIIIIIIIIIIIIIIIIIIIIIIIIIIIIIIIIIIIIIIIIIIIIIIIIIIIIIIIIIIIIIIIIIIIIIIIIIIIIIIIIIIIIIIII#...#IIIIIIIIIIIIIIIIIIIIIIIIIIIIIIIIIIIIIIIIIIIIIIIIIIIIIIIIII#.......................#III#.................................\n",
      ".......................#IIIIIIIIIIIIIIIIIIIIIIIIIIIIIIIIIIIIIII#.....#IIIIIIIIIIIIIIIIIIIIIIII#####IIIIIIIIIIIIIIIIIIIIIIIIIIIIIIIIIIIIIIIIIIIIIIIIIIIIIIIIIIIIIIIIIIIIIIIIIIIIIIIIIIIIIIIIIIIIIIIIIIIIIIIIIIIIIIIIIIIIIIIIIIIIIIIIIIIIIII#####IIIIIIIIIIIIIIIIIIIIIIIIIIIIIIIIIIIIIIIIIIIIIIIIIIIIIIIIII#.......................#####.................................\n",
      ".......................####IIIIIIIIIIIIIIIIIIIIIIIIIIIIIIIIIIII#.....#IIIIIIIIIIIIIIIIIIIIIIIIIIIIIIIIIIIIIIIIIIIIIIIIIIIIIIIIIIIIIIIIIIIIIIIIIIIIIIIIIIIIIIIIIIIIIIIIIIIIIIIIIIIIIIIIIIIIIIIIIIIIIIIIIIIIIIIIIIIIIIIIIIIIIIIIIIIIIIIIIIIIIIIIIIIIIIIIIIIIIIIIIIIIIIIIIIIIIIIIIIIIIIIIIIIIIIIIIIII########.............................................................\n",
      "..........................#IIIIIIIIIIIIIIIIIIIIIIIIIIIIIIIIIIII#######IIIIIIIIIIIIIIIIIIIIIIIIIIIIIIIIIIIIIIIIIIIIIIIIIIIIIIIIIIIIIIIIIIIIIIIIIIIIIIIIIIIIIIIIIIIIIIIIIIIIIIIIIIIIIIIIIIIIIIIIIIIIIIIIIIIIIIIIIIIIIIIIIIIIIIIIIIIIIIIIIIIIIIIIIIIIIIIIIIIIIIIIIIIIIIIIIIIIIIIIIIIIIIIII####IIIIIII#....................................................................\n",
      "..........................###########IIIIIIIIIIIIIIIIIIIIIIIIIIIIIIIIIIIIIIIIIIIIIIIIIIIIIIIIIIIIIIIIIIIIIIIIIIIIIIIIIIIIIIIIIIIIIIIIIIIIIIIIIIIIIIIIIIIIIIIIIIIIIIIIIIIIIIIIIIIIIIIIIIIIIIIIIIIIIIIIIIIIIIIIIIIIIIIIIIIIIIIIIIIIIIIIIIIIIIIIIIIIIIIIIIIIIIIIIIIIIIIIIIIIIIIIIIIIIIIIII#..#IIIIIII#....................................................................\n",
      "....................................#IIIIIIIIIIIIIIIIIIIIIIIIIIIIIIIIIIIIIIIIIIIIIIIIIIIIIIIIIIIIIIIIIIIIIIIIIIIIIIIIIIIIIIIIIIIIIIIIIIIIIIIIIIIIIIIIIIIIIIIIIIIIIIIIIIIIIIIIIIIIIIIIIIIIIIIIIIIIIIIIIIIIIIIIIIIIIIIIIIIIIIIIIIIIIIIIIIIIIIIIIIIIIIIIIIIIIIIIIIIIIIIIIIIIIIIIIIIIIIIIII#..######II#....................................................................\n",
      "....................................########IIIIIIIIIIIIII#####IIIIIIIIIIIIIIIIIIIIIIIIIIIIIIIIIIIIIIIIIIIIIIIIIIIIIIIIIIIIIIIIIIIIIIIIIIIIIIIIIIIIIIIIIIIIIIIIIIIIIIIIIIIIIIIIIIIIIIIIIIIIIIIIIIIIIIIIIIIIIIIIIIIIIIIIIIIIIIIIIIIIIIIIIIIIIIIIIIIIIIIIIIIIIIIIIIIIIIIIIIIIIIIIIIIIIIII#.......#II##########...........................................................\n",
      "...........................................#IIIIIIIIIIIIII#...#IIIIIIIIIIIIIIIIIIIIIIIIIIIIIIIIIIIIIIIIIIIIIIIIIIIIIIIIIIIIIIIIIIIIIIIIIIIIIIIIIIIIIIIIIIIIIIIIIIIIIIIIIIIIIIIIIIIIIIIIIIIIIIIIIIIIIIIIIIIIIIIIIIIIIIIIIIIIIIIIIIIIIIIIIIIIIIIIIIIIIIIIIIIIIIIIIIIIIIIIIIIIIIIIIIIIIIII#.......#IIIIIIIIIII#...........................................................\n",
      "...........................................#IIIIIIIIIIIIII#...#IIIIIIIIIIIIIIIIIIIIIIIIIIIIIIIIIIIIIIIIIIIIIIIIIIIIIIIIIIIIIIIIIIIIIIIIIIIIIIIIIIIIIIIIIIIIIIIIIIIIIIIIIIIIIIIIIIIIIIIIIIIIIIIIIIIIIIIIIIIIIIIIIIIIIIIIIIIIIIIIIIIIIIIIIIIIIIIIIIIIIIIIIIIIIIIIIIIIIIIIIIIIIIII#########.......#IIIIIIIIIII#...........................................................\n",
      "...........................................#IIIIIIIIIIIIII#...#####IIIIIIIIIIIIIIIIIIIIIIIIIIIIIIIIIIIIIIIIIIIIIIIIIIIIIIIIIIIIIIIIIIIIIIIIIIIIIIIIIIIIIIIIIIIIIIIIIIIIIIIIIIIIIIIIIIIIIIIIIIIIIIIIIIIIIIIIIIIIIIIIIIIIIIIIIIIIIIIIIIIIIIIIIIIIIIIIIIIIIIIIIIIIIIIIIIIIIIIIIIII#...............#IIIIIIIIIII######......................................................\n",
      "...........................................#IIIIIIIIIIIIII#.......#IIIIIIIIIIIIIIIIIIIIIIIIIIIIIIIIIIIIIIIIIIIIIIIIIIIIIIIIIIIIIIIIIIIIIIIIIIIIIIIIIIIIIIIIIIIIIIIIIIIIIIIIIIIIIIIIIIIIIIIIIIIIIIIIIIIIIIIIIIIIIIIIIIIIIIIIIIIIIIIIIIIIIIIIIIIIIIIIIIIIIIIIIIIIIIIIIIIIIIII#####...............#IIIIIIIIIIIIIIII#......................................................\n",
      "...........................................#IIIIIIIIIIII###.......#IIIIIIIIIIIIIIIIIIIIIIIIIIIIIIIIIIIIIIIIIIIIIIIIIIIIIIIIIIIIIIIIIIIIIIIIIIIIIIIIIIIIIIIIIIIIIIIIIIIIIIIIIIIIIIIIIIIIIIIIIIIIIIIIIIIIIIIIIIIIIIIIIIIIIIIIIIIIIIIIIIIIIIIIIIIIIIIIIIIIIIIIIIIIIIIIIIIIIIII#...................#IIIIIIIIIIIIIIII#......................................................\n",
      "...........................................#IIIIIIIIIIII#.........#IIIIIIIIIIIIIIIIIIIIIIIIIIIIIIIIIIIIIIIIIIIIIIIIIIIIIIIIIIIIIIIIIIIIIIIIIIIIIIIIIIIIIIIIIIIIIIIIIIIIIIIIIIIIIIIIIIIIIIIIIIIIIIIIIIIIIIIIIIIIIIIIIIIIIIIIIIIIIIIIIIIIIIIIIIIIIIIIIIIIIIIIIIIIIIIIIIIIIIII#...................#IIIIIIIIIIIIIIII#......................................................\n",
      "...........................................###IIIIIIIIII#.........#IIIIIIIIIIIIIIIIIIIIIIIIIIIIIIIIIIIIIIIIIIIIIIIIIIIIIIIIIIIIIIIIIIIIIIIIIIIIIIIIIIIIIIIIIIIIIIIIIIIIIIIIIIIIIIIIIIIIIIIIIIIIIIIIIIIIIIIIIIIIIIIIIIIIIIIIIIIIIIIIIIIIIIIIIIIIIIIIIIIIIIIIIIIIIIIIIIIIIIII#...................#IIIIIIIIIIIIIIII#......................................................\n",
      ".............................................#IIIIIIIIII#.........#IIIIIIIIIIIIIIIIIIIIIIIIIIIIIIIIIIIIIIIIIIIIIIIIIIIIIIIIIIIIIIIIIIIIIIIIIIIIIIIIIIIIIIIIIIIIIIIIIIIIIIIIIIIIIIIIIIIIIIIIIIIIIIIIIIIIIIIIIIIIIIIIIIIIIIIIIIIIIIIIIIIIIIIIIIIIIIIIIIIIIIIIIIIIIIIIIIIIIIII#...................#IIIIIIIIIIIIIIII#......................................................\n",
      ".............................................#IIIIIIIIII#.........#IIIIIIIIIIIIIIIIIIIIIIIIIIIIIIIIIIIIIIIIIIIIIIIIIIIIIIIIIIIIIIIIIIIIIIIIIIIIIIIIIIIIIIIIIIIIIIIIIIIIIIIIIIIIIIIIIIIIIIIIIIIIIIIIIIIIIIIIIIIIIIIIIIIIIIIIIIIIIIIIIIIIIIIIIIIIIIIIIIIIIIIIIIIIIIIIIIIIIIII#############.......#IIIIIIIIII#######......................................................\n",
      ".............................................#IIIIIIIIII#.........#IIIIIIIIIIIIIIIIIIIIIIIIIIIIIIIIIIIIIIIIIIIIIIIIIIIIIIIIIIIIIIIIIIIIIIIIIIIIIIIIIIIIIIIIIIIIIIIIIIIIIIIIIIIIIIIIIIIIIIIIIIIIIIIIIIIIIIIIIIIIIIIIIIIIIIIIIIIIIIIIIIIIIIIIIIIIIIIIIIIIIIIIIIIIIIIIIIIIIIIIIIIIIIIIIIII#.......#IIIIIIIIII#............................................................\n",
      ".............................................############.........###IIIIIIIIIIIIIIIIIIIIIIIIIIIIIIIIIIIIIIIIIIIIIIIIIIIIIIIIIIIIIIIIIIIIIIIIIIIIIIIIIIIIIIIIIIIIIIIIIIIIIIIIIIIIIIIIIIIIIIIIIIIIIIIIIIIIIIIIIIIIIIIIIIIIIIIIIIIIIIIIIIIIIIIIIIIIIIIIIIIIIIIIIIIIIIIIIIIIIIIIIIIIIIIIII#.......####IIIIIII#............................................................\n",
      "....................................................................#IIIIIIIIIIIIIIIIIIIIIIIIIIIIIIIIIIIIIIIIIIIIIIIIIIIIIIIIIIIIIIIIIIIIIIIIIIIIIIIIIIIIIIIIIIIIIIIIIIIIIIIIIIIIIIIIIIIIIIIIIIIIIIIIIIIIIIIIIIIIIIIIIIIIIIIIIIIIIIIIIIIIIIIIIIIIIIIIIIIIIIIIIIIIIIIIIIIIIIIIIIIII######..........#IIIIIII#............................................................\n",
      "....................................................................#IIIIIIIIIIIIIIIIIIIIIIIIIIIIIIIIIIIIIIIIIIIIIIIIIIIIIIIIIIIIIIIIIIIIIIIIIIIIIIIIIIIIIIIIIIIIIIIIIIIIIIIIIIIIIIIIIIIIIIIIIIIIIIIIIIIIIIIIIIIIIIIIIIIIIIIIIIIIIIIIIIIIIIIIIIIIIIIIIIIIIIIIIIIIIIIIIIIIIIIIIIIII#...............#IIIIIII#............................................................\n",
      "....................................................................#IIIIIIIIIIIIIIIIIIIIIIIIIIIIIIIIIIIIIIIIIIIIIIIIIIIIIIIIIIIIIIIIIIIIIIIIIIIIIIIIIIIIIIIIIIIIIIIIIIIIIIIIIIIIIIIIIIIIIIIIIIIIIIIIIIIIIIIIIIIIIIIIIIIIIIIIIIIIIIIIIIIIIIIIIIIIIIIIIIIIIIIIIIIIIIIIIIIIIIIIIIIII#...............#IIIIIII#............................................................\n",
      "....................................................................#IIIIIIIIIIIIIIIIIIIIIIIIIIIIIIIIIIIIIIIIIIIIIIIIIIIIIIIIIIIIIIIIIIIIIIIIIIIIIIIIIIIIIIIIIIIIIIIIIIIIIIIIIIIIIIIIIIIIIIIIIIIIIIIIIIIIIIIIIIIIIIIIIIIIIIIIIIIIIIIIIIIIIIIIIIIIIIIIIIIIIIIIIIIIIIIIIIIIIIIII#####...............#########............................................................\n",
      "....................................................................########IIIIIIIIIIIIIIIIIIIIIIIIIIIIIIIIIIIIIIIIIIIIIIIIIIIIIIIIIIIIIIIIIIIIIIIIIIIIIIIIIIIIIIIIIIIIIIIIIIIIIIIIIIIIIIIIIIIIIIIIIIIIIIIIIIIIIIIIIIIIIIIIIIIIIIIIIIIIIIIIIIIIIIIIIIIIIIIIIIIIIIIIIIIIIIIIII#........................................................................................\n",
      "...........................................................................#IIIIIIIIIIIIIIIIIIIIIIIIIIIIIIIIIIIIIIIIIIIIIIIIIIIIIIIIIIIIIIIIIIIIIIIIIIIIIIIIIIIIIIIIIIIIIIIIIIIIIIIIIIIIIIIIIIIIIIIIIIIIIIIIIIIIIIIIIIIIIIIIIIIIIIIIIIIIIIIIIIIIIIIIIIIIIIIIIIIIIIIIIIIIIIIIII#........................................................................................\n",
      "...........................................................................#IIIIIIIIIIIIIIIIIIIIIIIIIIIIIIIIIIIIIIIIIIIIIIIIIIIIIIIIIIIIIIIIIIIIIIIIIIIIIIIIIIIIIIIIIIIIIIIIIIIIIIIIIIIIIIIIIIIIIIIIIIIIIIIIIIIIIIIIIIIIIIIIIIIIIIIIIIIIIIIIIIIIIIIIIIIIIIIIIIIIIIIIIIIIIIIIII#........................................................................................\n",
      "...........................................................................######IIIIIIIIIIIIIIIIIIIIIIIIIIIIIIIIIIIIIIIIIIIIIIIIIIIIIIIIIIIIIIIIIIIIIIIIIIIIIIIIIIIIIIIIIIIIIIIIIIIIIIIIIIIIIIIIIIIIIIIIIIIIIIIIIIIIIIIIIIIIIIIIIIIIIIIIIIIIIIIIIIIIIIIIIIIIIIIIIIIIIIIIIIIII##########...................................########....................................\n",
      "................................................................................#IIIIIIIIIIIIIIIIIIIIIIIIIIIIIIIIIIIIIIIIIIIIIIIIIIIIIIIIIIIIIIIIIIIIIIIIIIIIIIIIIIIIIIIIIIIIIIIIIIIIIIIIIIIIIIIIIIIIIIIIIIIIIIIIIIIIIIIIIIIIIIIIIIIIIIIIIIIIIIIIIIIIIIIIIIIIIIIIIIIIIIIIIIIIIIIIIIIIII#...................................#IIIIII#....................................\n",
      "................................................................................#IIIIIIIIIIIIIIIIIIIIIIIIIIIIIIIIIIIIIIIIIIIIIIIIIIIIIIIIIIIIIIIIIIIIIIIIIIIIIIIIIIIIIIIIIIIIIIIIIIIIIIIIIIIIIIIIIIIIIIIIIIIIIIIIIIIIIIIIIIIIIIIIIIIIIIIIIIIIIIIIIIIIIIIIIIIIIIIIIIIIIIIIIIIIIIIIIIIIII#...................................#IIIIII#....................................\n",
      "................................................................................#IIIIIIIIIIIIIIIIIIIIIIIIIIIIIIIIIIIIIIIIIIIIIIIIIIIIIIIIIIIIIIIIIIIIIIIIIIIIIIIIIIIIIIIIIIIIIIIIIIIIIIIIIIIIIIIIIIIIIIIIIIIIIIIIIIIIIIIIIIIIIIIIIIIIIIIIIIIIIIIIIIIIIIIIIIIIIIIIIIIIIIIIIIIIIIIIIIIIII#...................................#IIIIII#....................................\n",
      "................................................................................#IIIIIIIIIIIIIIIIIIIIIIIIIIIIIIIIIIIIIIIIIIIIIIIIIIIIIIIIIIIIIIIIIIIIIIIIIIIIIIIIIIIIIIIIIIIIIIIIIIIIIIIIIIIIIIIIIIIIIIIIIIIIIIIIIIIIIIIIIIIIIIIIIIIIIIIIIIIIIIIIIIIIIIIIIIIIIIIIIIIIIIIIIIIIIIIIIIIIII#...................................#IIIIII##########...........................\n",
      "................................................................................#IIIIIIIIIIIIIIIIIIIIIIIIIIIIIIIIIIIIIIIIIIIIIIIIIIIIIIIIIIIIIIIIIIIIIIIIIIIIIIIIIIIIIIIIIIIIIIIIIIIIIIIIIIIIIIIIIIIIIIIIIIIIIIIIIIIIIIIIIIIIIIIIIIIIIIIIIIIIIIIIIIIIIIIIIIIIIIIIIIIIIIIIIIIIIIIIIIIIII#...................................#IIIIIIIIIIIIIII#...........................\n",
      "................................................................................#IIIIIIIIIIIIIIIIIIIIIIIIIIIIIIIIIIIIIIIIIIIIIIIIIIIIIIIIIIIIIIIIIIIIIIIIIIIIIIIIIIIIIIIIIIIIIIIIIIIIIIIIIIIIIIIIIIIIIIIIIIIIIIIIIIIIIIIIIIIIIIIIIIIIIIIIIIIIIIIIIIIIIIIIIIIIIIIIIIIIIIIIIIIIIIIIIIIIII#...................................#IIIIIIIIIIIIIII#...........................\n",
      "................................................................................#IIIIIIIIIIIIIIIIIIIIIIIIIIIIIIIIIIIIIIIIIIIIIIIIIIIIIIIIIIIIIIIIIIIIIIIIIIIIIIIIIIIIIIIIIIIIIIIIIIIIIIIIIIIIIIIIIIIIIIIIIIIIIIIIIIIIIIIIIIIIIIIIIIIIIIIIIIIIIIIIIIIIIIIIIIIIIIIIIIIIIIIIIIIIIIIIIIIIII####................................#IIIIIIIIIIIIIII#...........................\n",
      "................................................................................#########IIIIIIIIIIIIIIIIIIIIIIIIIIIIIIIIIIIIIIIIIIIIIIIIIIIIIIIIIIIIIIIIIIIIIIIIIIIIIIIIIIIIIIIIIIIIIIIIIIIIIIIIIIIIIIIIIIIIIIIIIIIIIIIIIIIIIIIIIIIIIIIIIIIIIIIIIIIIIIIIIIIIIIIIIIIIIIIIIIIIIIIIIIIIIIIII#................................#IIIIIIIIIIIIIII#...........................\n",
      "........................................................................................#IIIIIIIIIIIIIIIIIIIIIIIIIIIIIIIIIIIIIIIIIIIIIIIIIIIIIIIIIIIIIIIIIIIIIIIIIIIIIIIIIIIIIIIIIIIIIIIIIIIIIIIIIIIIIIIIIIIIIIIIIIIIIIIIIIIIIIIIIIIIIIIIIIIIIIIIIIIIIIIIIIIIIIIIIIIIIIIIIIIIIIIIIIIIIIIII#................................#IIIIIIIIIIIIIII#...........................\n",
      "........................................................................................#IIIIIIIIIIIIIIIIIIIIIIIIIIIIIIIIIIIIIIIIIIIIIIIIIIIIIIIIIIIIIIIIIIIIIIIIIIIIIIIIIIIIIIIIIIIIIIIIIIIIIIIIIIIIIIIIIIIIIIIIIIIIIIIIIIIIIIIIIIIIIIIIIIIIIIIIIIIIIIIIIIIIIIIIIIIIIIIIIIIIIIIIIIIIIIIII#................................#IIIIIIIIIIIIIII########....................\n",
      "........................................................................................#######IIIIIIIIIIIIIIIIIIIIIIIIIIIIIIIIIIIIIIIIIIIIIIIIIIIIIIIIIIIIIIIIIIIIIIIIIIIIIIIIIIIIIIIIIIIIIIIIIIIIIIIIIIIIIIIIIIIIIIIIIIIIIIIIIIIIIIIIIIIIIIIIIIIIIIIIIIIIIIIIIIIIIIIIIIIIIIIIIIIIIIIIIII#########.....................####IIIIIIIIIIIIIIIIIIIIII#....................\n",
      "..............................................................................................#IIIIIIIIIIIIIIIIIIIIIIIIIIIIIIIIIIIIIIIIIIIIIIIIIIIIIIIIIIIIIIIIIIIIIIIIIIIIIIIIIIIIIIIIIIIIIIIIIIIIIIIIIIIIIIIIIIIIIIIIIIIIIIIIIIIIIIIIIIIIIIIIIIIIIIIIIIIIIIIIIIIIIIIIIIIIIIIIIIIIIIIIIIIIIIIIIII#.....................#IIIIIIIIIIIIIIIIIIIIIIIII#....................\n",
      "..............................................................................................#IIIIIIIIIIIIIIIIIIIIIIIIIIIIIIIIIIIIIIIIIIIIIIIIIIIIIIIIIIIIIIIIIIIIIIIIIIIIIIIIIIIIIIIIIIIIIIIIIIIIIIIIIIIIIIIIIIIIIIIIIIIIIIIIIIIIIIIIIIIIIIIIIIIIIIIIIIIIIIIIIIIIIIIIIIIIIIIIIIIIIIIIIIIIIIIIIII#.....................#IIIIIIIIIIIIIIIIIIIIIIIII#....................\n",
      "..............................................................................................#IIIIIIIIIIIIIIIIIIIIIIIIIIIIIIIIIIIIIIIIIIIIIIIIIIIIIIIIIIIIIIIIIIIIIIIIIIIIIIIIIIIIIIIIIIIIIIIIIIIIIIIIIIIIIIIIIIIIIIIIIIIIIIIIIIIIIIIIIIIIIIIIIIIIIIIIIIIIIIIIIIIIIIIIIIIIIIIIIIIIIIIIIIIIIIIIIII#.....................#IIIIIIIIIIIIIIIIIIIIIIIII#....................\n",
      "..............................................................................................#########IIIIIIIIIII#####IIIIIIIIIIIIIIIIIIIIIIIIIIIIIIIIIIIIIIIIIIIIIIIIIIIIIIIIIIIIIIIIIIIIIIIIIIIIIIIIIIIIIIIIIIIIIIIIIIIIIIIIIIIIIIIIIIIIIIIIIIIIIIIIIIIIIIIIIIIIIIIIIIIIIIIIIIIIIIIIIIIIIIIIIII#.....................#IIIIIIIIIIIIIIIIIIIIIIIII#....................\n",
      "......................................................................................................#IIIIIIIIIII#...#IIIIIIIIIIIIIIIIIIIIIIIIIIIIIIIIIIIIIIIIIIIIIIIIIIIIIIIIIIIIIIIIIIIIIIIIIIIIIIIIIIIIIIIIIIIIIIIIIIIIIIIIIIIIIIIIIIIIIIIIIIIIIIIIIIIIIIIIIIIIIIIIIIIIIIIIIIIIIIIIIIIIIII#####.............#########IIIIIIIIIIIIIIIIIIIIIIIII#....................\n",
      "......................................................................................................#IIIIIIIIIII#...#IIIIIIIIIIIIIIIIIIIIIIIIIIIIIIIIIIIIIIIIIIIIIIIIIIIIIIIIIIIIIIIIIIIIIIIIIIIIIIIIIIIIIIIIIIIIIIIIIIIIIIIIIIIIIIIIIIIIIIIIIIIIIIIIIIIIIIIIIIIIIIIIIIIIIIIIIIIIIIIIIIIIIII#.................#IIIIIIIIIIIIIIIIIIIIIIIIIIIIIIIII#########............\n",
      "......................................................................................................#IIIIIIIIIII#...#############IIIIIIIIIIIIIIIIIIIIIIIIIIIIIIIIIIIIIIIIIIIIIIIIIIIIIIIIIIIIIIIIIIIIIIIIIIIIIIIIIIIIIIIIIIIIIIIIIIIIIIIIIIIIIIIIIIIIIIIIIIIIIIIIIIIIIIIIIIIIIIIIII##########.................#IIIIIIIIIIIIIIIIIIIIIIIIIIIIIIIIIIIIIIIII#............\n",
      "......................................................................................................#IIIIIIIIIII#...............#IIIIIIIIIIIIIIIIIIIIIIIIIIIIIIIIIIIIIIIIIIIIIIIIIIIIIIIIIIIIIIIIIIIIIIIIIIIIIIIIIIIIIIIIIIIIIIIIIIIIIIIIIIIIIIIIIIIIIIIIIIIIIIIIIIIIIIIIIIIIIIIIII#..........................#IIIIIIIIIIIIIIIIIIIIIIIIIIIIIIIIIIIIIIIII#............\n",
      "......................................................................................................#IIIIIIIIIII#...............#IIIIIIIIIIIIIIIIIIIIIIIIIIIIIIIIIIIIIIIIIIIIIIIIIIIIIIIIIIIIIIIIIIIIIIIIIIIIIIIIIIIIIIIIIIIIIIIIIIIIIIIIIIIIIIIIIIIIIIIIIIIIIIIIIIIIIIIIIIIIIIIIII#..........................#IIIIIIIIIIIIIIIIIIIIIIIIIIIIIIIIIIII######............\n",
      "......................................................................................................#IIIIIIIIIII#...............#IIIIIIIIIIIIIIIIIIIIIIIIIIIIIIIIIIIIIIIIIIIIIIIIIIIIIIIIIIIIIIIIIIIIIIIIIIIIIIIIIIIIIIIIIIIIIIIIIIIIIIIIIIIIIIIIIIIIIIIIIIIIIIIIIIIIIIIIIIIIIII####..........................#IIIIIIIIIIIIIIIIIIIIIIIIIIIIIIIIIIII#.................\n",
      "......................................................................................................#IIIIIIIIIII#...............#IIIIIIIIIIIIIIIIIIIIIIIIIIIIIIIIIIIIIIIIIIIIIIIIIIIIIIIIIIIIIIIIIIIIIIIIIIIIIIIIIIIIIIIIIIIIIIIIIIIIIIIIIIIIIIIIIIIIIIIIIIIIIIIIIIIIIIIIIIIIIII#.............................#IIIIIIIIIIIIIIIIIIIIIIIIIIIIIIIIIIII#.................\n",
      "......................................................................................................#####III#####...............#IIIIIIIIIIIIIIIIIIIIIIIIIIIIIIIIIIIIIIIIIIIIIIIIIIIIIIIIIIIIIIIIIIIIIIIIIIIIIIIIIIIIIIIIIIIIIIIIIIIIIIIIIIIIIIIIIIIIIIIIIIIIIIIIIIIIIIIIIIIIIII#.............................#IIIIIIIIIIIIIIIIIIIIIIIIIIIIIIIIIIII#.................\n",
      "..........................................................................................................#III#...................######IIIIIIIIIIIIIIIIIIIIIIIIIIIIIIIIIIIIIIIIIIIIIIIIIIIIIIIIIIIIIIIIIIIIIIIIIIIIIIIIIIIIIIIIIIIIIIIIIIIIIIIIIIIIIIIIIIIIIIIIIIIIIIIIIIIIIIIIII#...........................###IIIIIIIIIIIIIIIIIIIIIIIIIIIIIIIIIIII#.................\n",
      "..........................................................................................................#III#........................#IIIIIIIIIIIIIIIIIIIIIIIIIIIIIIIIIIIIIIIIIIIIIIIIIIIIIIIIIIIIIIIIIIIIIIIIIIIIIIIIIIIIIIIIIIIIIIIIIIIIIIIIIIIIIIIIIIIIIIIIIIIIIIIIIIIIIIIIII#...........................#IIIIIIIIIIIIIIIIIIIIIIIIIIIIIIIIIIIIII#.................\n",
      "..........................................................................................................#III#........................#IIIIIIIIIIIIIIIIIIIIIIIIIIIIIIIIIIIIIIIIIIIIIIIIIIIIIIIIIIIIIIIIIIIIIIIIIIIIIIIIIIIIIIIIIIIIIIIIIIIIIIIIIIIIIIIIIIIIIIIIIIIIIIIIIIIIIIIIII#...........................#IIIIIIIIIIIIIIIIIIIIIIIIIIIIIIIIIIIIII#.................\n",
      "..........................................................................................................#####........................###IIIIIIIIIIIIIIIIIIIIIIIIIIIIIIIIIIIIIIIIIIIIIIIIIIIIIIIIIIIIIIIIIIIIIIIIIIIIIIIIIIIIIIIIIIIIIIIIIIIIIIIIIIIIIIIIIIIIIIIIIIIIIIIIIIIIIIII#######....######...........#IIIIIIIIIIIIIIIIIIIIIIIIIIIIIIIIIIIIII#.................\n",
      ".........................................................................................................................................#IIIIIIIIIIIIIIIIIIIIIIIIIIIIIIIIIIIIIIIIIIIIIIIIIIIIIIIIIIIIIIIIIIIIIIIIIIIIIIIIIIIIIIIIIIIIIIIIIIIIIIIIIIIIIIIIIIIIIIIIIIIIIIIIIIIIIIIIIIIIII#....#IIII#...........#IIIIIIIIIIIIIIIIIIIIIIIIIIIIIIIIIIIIII#.................\n",
      ".........................................................................................................................................#IIIIIIIIIIIIIIIIIIIIIIIIIIIIIIIIIIIIIIIIIIIIIIIIIIIIIIIIIIIIIIIIIIIIIIIIIIIIIIIIIIIIIIIIIIIIIIIIIIIIIIIIIIIIIIIIIIIIIIIIIIIIIIIIIIIIIIIIIIIIII#....#IIII#...........#IIIIIIIIIIIIIIIIIIIIIIIIIIIIIIIIIIIIII#.................\n",
      ".........................................................................................................................................#IIIIIIIIIIIIIIIIIIIIIIIIIIIIIIIIIIIIIIIIIIIIIIIIIIIIIIIIIIIIIIIIIIIIIIIIIIIIIIIIIIIIIIIIIIIIIIIIIIIIIIIIIIIIIIIIIIIIIIIIIIIIIIIIIIIIIIIIIIIIII#....#IIII####....#####IIIIIIIIIIIIIIIIIIIIIIIIIIIIIIIIIIIIII#.................\n",
      ".........................................................................................................................................############IIIIIIIIIIIIIIIIIIIIIIIIIIIIIIIIIIIIIIIIIIIIIIIIIIIIIIIIIIIIIIIIIIIIIIIIIIIIIIIIIIIIIIIIIIIIIIIIIIIIIIIIIIIIIIIIIIIIIIIIIIIIIIIIIII######IIIIIII#....#IIIIIIIIIIIIIIIIIIIIIIIIIIIIIIIIIIIIIIIIII#.................\n",
      "....................................................................................................................................................#IIIIIIIIIIIIIIIIIIIIIIIIIIIIIIIIIIIIIIIIIIIIIIIIIIIIIIIIIIIIIIIIIIIIIIIIIIIIIIIIIIIIIIIIIIIIIIIIIIIIIIIIIIIIIIIIIIIIIIIIIIIIIIIIIIIIIIIIIIIIIIII#....#IIIIIIIIIIIIIIIIIIIIIIIIIIIIIIIIIIII#######.................\n",
      "....................................................................................................................................................#IIIIIIIIIIIIIIIIIIIIIIIIIIIIIIIIIIIIIIIIIIIIIIIIIIIIIIIIIIIIIIIIIIIIIIIIIIIIIIIIIIIIIIIIIIIIIIIIIIIIIIIIIIIIIIIIIIIIIIIIIIIIIIIIIIIIIIIIIIIIIIII#....#IIIIIIIIIIIIIIIIIIIIIIIIIIIIIIIIIIII#.......................\n",
      "....................................................................................................................................................####IIIIIIIIIIIIIIIIIIIIIIIIIIIIIIIIIIIIIIIIIIIIIIIIIIIIIIIIIIIIIIIIII####IIIIIIIIIIIIIIIIIIIIIIIIIIIIIIIIIIIIIIIIIIIIIIIIIIIIIIIIIIIIIIIIIIIIIII#....#IIIIIIIIIIIIIIIIIIIIIIIIIIII#########.......................\n",
      ".......................................................................................................................................................#IIIIIIIIIIIIIIIIIIIIIIIIIIIIIIIIIIIIIIIIIIIIIIIIIIIIIIIIIIIIIIIIII#..#IIIIIIIIIIIIIIIIIIIIIIIIIIIIIIIIIIIIIIIIIIIIIIIIIIIIIIIIIIIIIIIIIIIIIII#....#IIIIIIIIIIIIIIIIIIIIIIIIIIII#...............................\n",
      ".......................................................................................................................................................#IIIIIIIIIIIIIIIIIIIIIIIIIIIIIIIIIIIIIIIIIIIIIIIIIIIIIIIIIIIIIIIIII#..#IIIIIIIIIIIIIIIIIIIIIIIIIIIIIIIIIIIIIIIIIIIIIIIIIIIIIIIIIIIIIIIIIIIIIII######IIIIIIIIIIIIIIIIIIIIIIIIIIII#...............................\n",
      ".......................................................................................................................................................#IIIIIIIIIIIIIIIIIIIIIIIIIIIIIIIIIIIIIIIIIIIIIIIIIIIIIIIIIIIIIIIIII#..#IIIIIIIIIIIIIIIIIIIIIIIIIIIIIIIIIIIIIIIIIIIIIIIIIIIIIIIIIIIIIIIIIIIIIIIIIIIIIIIIIIIIIIIIIIIIIIIIIIIIIIIII#...............................\n",
      ".......................................................................................................................................................#IIIIIIIIIIIIIIIIIIIIIIIIIIIIIIIIIIIIIIIIIIIIIIIIIIIIIIIIIIIIIIIIII#..#IIIIIIIIIIIIIIIIIIIIIIIIIIIIIIIIIIIIIIIIIIIIIIIIIIIIIIII########IIIIIIIIIIIIIIIIIIIIIIIIIIIIIIIII#########...............................\n",
      ".......................................................................................................................................................#IIIIIIIIIIIIIIIIIIIIIIIIIIIIIIIIIIIIIIIIIIIIIIIIIIIIIIIIIIIIIIIIII#..#IIIIIIIIIIIIIIIIIIIIIIIIIIIIIIIIIIIIIIIIIIIIIIIIIIIIIIII#......#IIIIIIIIIIIIIIIIIIIIIIIIIIIIIIIII#.......................................\n",
      ".......................................................................................................................................................#IIIIIIIIIIIIIIIIIIIIIIIIIIIIIIIIIIIIIIIIIIIIIIIIIIIIIIIIIIIIIIIIII#..#IIIIIIIIIIIIIIIIIIIIIIIIIIIIIIIIIIIIIIIIIIIIIIIIIIIIIIII#......#IIIIIIIIIIIIIIIIIIIIIIIIIII#######.......................................\n",
      ".......................................................................................................................................................#IIIIIIIIIIIIIIIIIIIIIIIIIIIIIIIIIIIIIIIIIIIIIIIIIIIIIIIIII#########..#IIIIIIIIIIIIIIIIIIIIIIIIIIIIIIIIIIIIIIIIIIIIIIIIIIII#####......#IIIIIIIIIIIIIIIIIIIIIIIIIII#.............................................\n",
      "..........................................................................................................................####...................#######IIIIIIIIIIIIIIIIIIIIIIIIIIIIIIIIIIIIIIIIIIIIIIIIIIIIIIIIII#..........#IIIIIIIIIIIIIIIIIIIIIIIIIIIIIIIIIIIIIIIIIIIIIIIIIIII#..........#IIIIIIIIIIIIIIIIIIIIIIIIIII#.............................................\n",
      "..........................................................................................................................#II#...................#IIIIIIIIIIIIIIIIIIIIIIIIIIIIIIIIIIIIIIIIIIIIIIIIIIIIIIIIII#######..........#IIIIIIIIIIIIIIIIIIIIIIIIIIIIIIIIIIIIIIIIIIIIIIIIIIII#..........#IIIIIIIIIIIIIIIIIIIIIIIIIII#.............................................\n",
      "..........................................................................................................................#II#...................#IIIIIIIIIIIIIIIIIIIIIIIIIIIIIIIIIIIIIIIIIIIIIIIIIIIIIIIIII#................#IIIIIIIIIIIIIIIIIIIIIIIIIIIIIIIIIIIIIIIIIIIIIIIIIIII#..........#IIIIIIIIIIIIIIIIIIIIIIII####.............................................\n",
      "..........................................................................................................................#II#...................#IIIIIIIIIIIIIIIIIIIIIIIIIIIIIIIIIIIIIIIIIIIIIIIIIIIIIIIIII#................###IIIIIIIIIIIIIIIIIIIIIIIIIIIIIIIIIIIIIIIIIIIIIIIIII#..........#IIIIIIIIIIIIIIIIIIIIIIII#......#######...................................\n",
      "..........................................................................................................................#II#...................#IIIIIIIIIIIIIIIIIIIIIIIIIIIIIIIIIIIIIIIIIIIIIIIIIIIIIIIIII#..................#IIIIIIIIIIIIIIIIIIIIIIIIIIIIIIIIIIIIIIIIIIIIIIIIII#..........#IIIIIIIIIIIIIIIIIIIIIIII#......#IIIII#...................................\n",
      "..........................................................................................................................#II#...................#IIIIIIIIIIIIIIIIIIIIIIIIIIIIIIIIIIIIIIIIIIIIIII############..................#IIIIIIIIIIIIIIIIIIIIIIIIIIIIIIIIIIIIIIIIIIIIIIIIII#..........#IIIIIIIIIIIIIIIIIIIIIIII#......#IIIII#...................................\n",
      "..........................................................................................................................#II#..............######IIIIIIIIIIIIIIIIIIIIIIIIIIIIIIIIIIIIIIIIIIIIIII#.............................#IIIIIIIIIIIIIIIIIIIIIIIIIIIIIIIIIIIIIIIIIIIIIIIIII#..........#######IIIIIIIIIIIIIIIIII#......#IIIII#...................................\n",
      "..........................................................................................................................#II#..............#IIIIIIIIIIIIIIIIIIIIIIIIIIIIIIIIIIIIIIIIIIIIIIIIIIII#.............................#######IIIIIIIIIIIIIIIIIIIIIIIIIIIIIIIIIIIIIIIIIIII#................#IIIIIIIIIIIIIIIIII#......#IIIII#...................................\n",
      "..........................................................................................................................#II#..............#IIIIIIIIIIIIIIIIIIIIIIIIIIIIIIIIIIIIIIIIIIIIIIIIIIII#...................................#IIIIIIIIIIIIIIIIIIIIIIIIIIIIIIIIIIIIII#######................#IIIIIIIIII#########......#IIIII#...................................\n",
      "..........................................................................................................................#II#########......#IIIIIIIIIIIIIIIIIIIIIIIIIIIIIIIIIIIIIIIIIIIIII#######...................................#IIIIIIIIIIIIIIIIIIIIIIIIIIIIIIIIIIIIII#......................#IIIIIIIIII#..............#IIIII#...................................\n",
      "..........................................................................................................................#IIIIIIIIII#......#IIIIIIIIIIIIIIIIIIIIIIIIIIIIIIIIIIIIIIIIIIIIII#.........................................#IIIIIIIIIIIIIIIIIIIIIIIIIIIIIIIIIIIIII#......................#IIIIIIIIII#..............#IIIII###.................................\n",
      "..........................................................................................................................#IIIIIIIIII#......#IIIIIIIIIIIIIIIIIIIIIIIIIIIIIIIIIIIIIIIIIIIIII#.........................................#######IIIIIIIIIIIIIIIIIIIIIIIIIIIIIIII#......................#IIIIIIIIII#..............#IIIIIII#.................................\n",
      ".....................................................................................................................######IIIIIIIIII########IIIIIIIIIIIIIIIIIIIIIIIIIIIIIIIIIIIIIIIIIIIIII#...............................................#IIIIIIIIIIIIIIIIIIIIIIIIII#######......................####IIIIIII#..............#IIIIIII#.................................\n",
      ".....................................................................................................................#IIIIIIIIIIIIIIIIIIIIIIIIIIIIIIIIIIIIIIIIIIIIIIIIIIIIIIIIIIIIIII#######...............................................#IIIIIIIIIIIIIIIIIIIIIIIIII#...............................#IIIIIII##########.....#IIIIIII#.................................\n",
      ".....................................................................................................................#IIIIIIIIIIIIIIIIIIIIIIIIIIIIIIIIIIIIIIIIIIIIIIIIIIIIIIIIIIIIIII#.....................................................#IIIIIIIIIIIIIIIIIIIIIIIIII#...............................#IIIIIIIIIIIIIIII#.....#IIIIIII#.................................\n",
      ".....................................................................................................................#IIIIIIIIIIIIIIIIIIIIIIIIIIIIIIIIIIIIIIIIIIIIIIIIIIIIIIIIIIIIIII#.....................................................#IIIIIIIIIIIIIIIIIIIII######...............................#IIIIIIIIIIIIIIII#######IIIIIII######............................\n",
      ".....................................................................................................................#IIIIIIIIIIIIIIIIIIIIIIIIIIIIIIIIIIIIIIIIIIIIIIIIIIIIIIIIIIIIIII#.....................................................######IIIIIIIIIIIIIIII#....................................#IIIIIIIIIIIIIIIIIIIIIIIIIIIIIIIIIII#............................\n",
      ".....................................................................................................................#IIIIIIIIIIIIIIIIIIIIIIIIIIIIIIIIIIIIIIIIIIIIIIIIIIIIIIIIIIIIIII#..........................................................#IIIIIIIIIIIIIIII#....................................#IIIIIIIIIIIIIIIIIIIIIIIIIIIIIIIIIII#............................\n",
      ".....................................................................................................................#IIIIIIIIIIIIIIIIIIIIIIIIIIIIIIIIIIIIIIIIIIIIIIIIIIIIIIIIIIIIIII#..........................................................#IIIIIIIIIIIIIIII#....................................#IIIIIIIIIIIIIIIIIIIIIIIIIIIIIIIIIII#............................\n",
      ".....................................................................................................................#IIIIIIIIIIIIIIIIIIIIIIIIIIIIIIIIIIIIIIIIIIIIIIIIIIIIIIIIIIIIIII#..........................................................#IIIIIIIIIIIIIIII#....................................#IIIIIIIIIIIIIIIIIIIIIIIIIIIIIIIIIII#............................\n",
      ".....................................................................................................................#IIIIIIIIIIIIIIIIIIIIIIIIIIIIIIIIIIIIIIIIIIIIIIIIIIIIIIIII#######..........................................................#IIIIIIIIIIIIIIII#....................................#IIIIIIIIIIIIIIIIIIIIIIIIIIIIIIIIIII#............................\n",
      ".....................................................................................................................#IIIIIIIIIIIIIIIIIIIIIIIIIIIIIIIIIIIIIIIIIIIIIIIIIIIIIIIII#................................................................#IIIIIIIIIIIIIIII#....................................#IIIIIIIIIIIIIIIIIIIIIIIIIIIIIIIIIII#............................\n",
      ".....................................................................................................................########IIIIIIIIIIIIIIIIIIIIIIIIIIIIIIIIIIIIIIIIIIIIIIIIII#................................................................#IIIIIIIIIIIIIIII#....................................#IIIIIIIIIIIIIIIIIIIIIIIIII##########............................\n",
      "............................................................................................................................#IIIIIIIIIIIIIIIIIIIIIIIIIIIIIIIIIIIIIIIIIIIIIIIIII####.............................................................#IIIIIIIIIII######....................................#IIIIIIIIIIIIIIIIIIIIIIIIII#.....................................\n",
      "............................................................................................................................#IIIIIIIIIIIIIIIIIIIIIIIIIIIIIIIIIIIIIIIIIIIIIIIIIIIII#.............................................................########IIII#......................................####IIIIIIIIIIIIIIIIIIIIIIIIII#.....................................\n",
      "............................................................................................................................#IIIIIIIIIIIIIIIIIIIIIIIIIIIIIIIIIIIIIIIIIIIIIIIIIIIII#....................................................................#IIII#......................................#IIIIIIIIIIIIIIIIIIIIIIIIIIIII#.....................................\n",
      "............................................................................................................................#IIIIIIIIIIIIIIIIIIIIIIIIIIIIIIIIIIIIIIIIIIIIIIIIIIIII#....................................................................#IIII#......................................#IIIIIIIIIIIIIIIIIIIIIIIIIIIII#.....................................\n",
      "............................................................................................................................#IIIIIIIIIIIIIIIIIIIIIIIIIIIIIIIIIIIIIIIIIIIIIIIIIIIII#....................................................................#IIII#......................................#IIIIIIIIIIIIIIIIIIIIIIIIIIIII#.....................................\n",
      "............................................................................................................................#IIIIIIIIIIIIIIIIIIIIIIIIIIIIIIIIIIIIIIIIIIIIIIIIIIIII#....................................................................#IIII#....................................###IIIIIIIIIIIIIIIIIIIIIIIIIIIII#.....................................\n",
      "............................................................................................................................#IIIIIIIIIIIIIIIIIIIIIIIIIIIIIIIIIIIIIIIIIIIIIIIIIIIII#....................................................................#IIII#....................................#IIIIIIIIIIIIIII#######IIIIII####.....................................\n",
      "............................................................................................................................#IIIIIIIIIIIIIIIIIIIIIIIIIIIIIIIIIIIIIIIIIIIIIIIIIIIII##########...........................................................#IIII#....................................#IIIIIIIIIIIIIII#.....#IIIIII#........................................\n",
      "............................................................................................................................######IIIIIIIIIIIIIIIIIIIIIIIIIIIIIIIIIIIIIIIIIIIIIIIIIIIIIIIII#...........................................................#IIII#....................................#IIIIIIIIIIIIIII#.....#IIIIII#........................................\n",
      ".................................................................................................................................#IIIIIIIIIIIIIIIIIIIIIIIIIIIIIIIIIIIIIIIIIIIIIIIIIIIIIIIII#...........................................................######....................................#IIIIIIIIIIIIIII#.....#IIIIII#........................................\n",
      ".................................................................................................................................#IIIIIIIIIIIIIIIIIIIIIIIIIIIIIIIIIIIIIIIIIIIIIIIIIIIIIIIII#.....................................................................................................#IIIIIIIIIIIIIII#.....#IIIIII#........................................\n",
      ".................................................................................................................................#IIIIIIIIIIIIIIIIIIIIIIIIIIIIIIIIIIIIIIIIIIIIIIIIIIIIIIIII#.....................................................................................................#IIIIIIIIIIII####.....#IIIIII#........................................\n",
      ".................................................................................................................................#####IIIIIIIIIIIIIIIIIIIIIIIIIIIIIIIIIIIIIIIIIIIIIIIIIIIII#.....................................................................................................#IIIIIIIIIIII#........#IIIIII#........................................\n",
      ".....................................................................................................................................#IIIIIIIIIIIIIIIIIIIIIIIIIIIIIIIIIIIIIIIIIIIIIIIIIIIII#############.........................................................................................#IIIIIIIIIIII#........#IIIIII#........................................\n",
      ".....................................................................................................................................#IIIIIIIIIIIIIIIIIIIIIIIIIIIIIIIIIIIIIIIIIIIIIIIIIIIIIIIIIIIIIIIII#.....................................................................................#####IIIIIIIIIIII#........#IIIIII#........................................\n",
      ".....................................................................................................................................#IIIIIIIIIIIIIIIIIIIIIIIIIIIIIIIIIIIIIIIIIIIIIIIIIIIIIIIIIIIIIIIII#.....................................................................................#IIIIIIIIIIIIIIII#........#IIIIII#........................................\n",
      ".....................................................................................................................................#IIIIIIIIIIIIIIIIIIIIIIIIIIIIIIIIIIIIIIIIIIIIIIIIIIIIIIIIIIIIIIIII#.....................................................................................#IIIIIIIIIIIII####........########........................................\n",
      ".....................................................................................................................................#IIIIIIIIIIIIIIIIIIIIIIIIIIIIIIIIIIIIIIIIIIIIIIIIIIIIIIIIIIIIIIIII#.....................................................................................#######IIIIIII#...........................................................\n",
      ".....................................................................................................................................#############IIIIIIIIIIIIIIIIIIIIIIIIIIIIIIIIIIIIIIIIIIIIIIIIIIIII######......................................................................................#IIIIIII#...........................................................\n",
      ".................................................................................................................................................#IIIIIIIIIIIIIIIIIIIIIIIIIIIIIIIIIIIIIIIIIIIIIIIIIIIIIIIIII#......................................................................................#########...........................................................\n",
      ".................................................................................................................................................#######IIIIIIIIIIIIIIIIIIIIIIIIIIIIIIIIIIIIIIIIIIIIIIIIIIII#..........................................................................................................................................................\n",
      ".......................................................................................................................................................#IIIIIIIIIIIIIIIIIIIIIIIIIIIIIIIIIIIIIIIIIIIIIIIIIIII#..........................................................................................................................................................\n",
      ".......................................................................................................................................................#IIIIIIIIIIIIIIIIIIIIIIIIIIIIIIIIIIIIIIIIIII####IIIII#..........................................................................................................................................................\n",
      ".......................................................................................................................................................#IIIIIIIIIIIIIIIIIIIIIIIIIIIIIIIIIIIIIIIIIII#..#IIIII#..........................................................................................................................................................\n",
      ".......................................................................................................................................................#IIIIIIIIIIIIIIIIIIIIIIIIIIIIIIIIIIIIIIIIIII#..#IIIII#..........................................................................................................................................................\n",
      ".......................................................................................................................................................#IIIIIIIIIIIIIIIIIIIIIIIIIIIIIIIIIIIIIIIIIII#..#IIIII#..........................................................................................................................................................\n",
      ".......................................................................................................................................................#IIIIIIIIIIIIIIIIIIIIIIIIIIIIIIIIIIII########..#######..........................................................................................................................................................\n",
      ".......................................................................................................................................................#IIIIIIIIIIIIIIIIIIIIIIIIIIIIIIIIIIII#..........................................................................................................................................................................\n",
      ".......................................................................................................................................................#IIIIIIIIIIIIIIIIIIIIIIIIIIIIIIIIIIII#..........................................................................................................................................................................\n",
      "..............................................................................................................................................##########IIIIIIIIIIIIIIIIIIIIIIIIIIIIIIIIIIII######.....................................................................................................................................................................\n",
      "..............................................................................................................................................#IIIIIIIIIIIIIIIIIIIIIIIIIIIIIIIIIIIIIIIIIIIIIIIIII#.....................................................................................................................................................................\n",
      "..............................................................................................................................................#IIIIIIIIIIIIIIIIIIIIIIIIIIIIIIIIIIIIIIIIIIIIIIIIII#.....................................................................................................................................................................\n",
      "..............................................................................................................................................#IIIIIIIIIIIIIIIIIIIIIIIIIIIIIIIIIIIIIIIIIIIIIIIIII#.....................................................................................................................................................................\n",
      "..............................................................................................................................................#IIIIIIIIIIIIIIIIIIIIIIIIIIIIIIIIIIIIIIIIIIIIIIIIII#.....................................................................................................................................................................\n",
      "..............................................................................................................................................#IIIIIIIIIIIIIIIIIIIIIIIIIIIIIIIIIIIIIIIIIIIIIIIIII######................................................................................................................................................................\n",
      "..............................................................................................................................................#IIIIIIIIIIIIIIIIIIIIIIIIIIIIIIIIIIIIIIIIIIIIIIIIIIIIIII#................................................................................................................................................................\n",
      "..............................................................................................................................................#######IIIIIIIIIIIIIIIIIIIIIIIIIIIIIIIIIIIIIIIIIIIIIIIII#................................................................................................................................................................\n",
      "....................................................................................................................................................#IIIIIIIIIIIIIIIIIIIIIIIIIIIIIIIIIIIIIIIIIIIIIIIII########.........................................................................................................................................................\n",
      "....................................................................................................................................................#IIIIIIIIIIIIIIIIIIIIIIIIIIIIIIIIIIIIIIIIIIIIIIIIIIIIIIII#.........................................................................................................................................................\n",
      "....................................................................................................................................................#IIIIIIIIIIIIIIIIIIIIIIIIIIIIIIIIIIIIIIIIIIIIIIIIIIIIIIII#.........................................................................................................................................................\n",
      "....................................................................................................................................................####IIIIIIIIIIIIIIIIIIIIIIIIIIIIIIIIIIIIIIIIIIIIIIIIIIIII######....................................................................................................................................................\n",
      ".......................................................................................................................................................#IIIIIIIIIIIIIIIIIIIIIIIIIIIIIIIIIIIIIIIIIIIIIIIIIIIIIIIIII#....................................................................................................................................................\n",
      ".......................................................................................................................................................#IIIIIIIIIIIIIIIIIIIIIIIIIIIIIIIIIIIIIIIIIIIIIIIIIIIIIIIIII#....................................................................................................................................................\n",
      ".......................................................................................................................................................#IIIIIIIIIIIIIIIIIIIIIIIIIIIIIIIIIIIIIIIIIIIIIIIIIIIIIIIIII#....................................................................................................................................................\n",
      ".......................................................................................................................................................##########IIIIIIIIIIIIIIIIIIIIIIIIIIIIIIIIIIIIIIIIIIIIIIIII#....................................................................................................................................................\n",
      "................................................................................................................................................................#IIIIIIIIIIIIIIIIIIIIIIIIIIIIIIIIIIIIIIIIIIIIIIIII#....................................................................................................................................................\n",
      "................................................................................................................................................................#IIIIIIIIIIIIIIIIIIIIIIIIIIIIIIIIIIIIIIIIIIIIIIIII#....................................................................................................................................................\n",
      "................................................................................................................................................................#IIIIIIIIIIIIIIIIIIIIIIIIIIIIIIIIIIIIIIIIIIIIIIIII#....................................................................................................................................................\n",
      "................................................................................................................................................................#IIIIIIIIIIIIIIIIIIIIIIIIIIIIIIIIIIIIIIIIII########....................................................................................................................................................\n",
      "................................................................................................................................................................#IIIIIIIIIIIIIIIIIIIIIIIIIIIIIIIIIIIIIIIIII#...........................................................................................................................................................\n",
      "................................................................................................................................................................##########IIIIIIIIIIIIIIIIIIIIIIIIIIIIIIIII#...........................................................................................................................................................\n",
      ".........................................................................................................................................................................#IIIIIIIIIIIIIIIIIIIIIII###########...........................................................................................................................................................\n",
      ".........................................................................................................................................................................#IIIIIIIIIIIIIIIIIIIIIII#.....................................................................................................................................................................\n",
      ".........................................................................................................................................................................#IIIIIIIIIIIIIIIIIIIIIII#.....................................................................................................................................................................\n",
      ".........................................................................................................................................................................#IIIIIIIIIIIIIIIIII######.....................................................................................................................................................................\n",
      ".........................................................................................................................................................................#IIIIIIIIIIIIIIIIII#..........................................................................................................................................................................\n",
      ".........................................................................................................................................................................#IIIIIIIIIIIIIIIIII#..........................................................................................................................................................................\n",
      ".........................................................................................................................................................................#IIIIIIIIIIIIIIIIII#..........................................................................................................................................................................\n",
      ".........................................................................................................................................................................####IIIIIIIIIIIIIII#..........................................................................................................................................................................\n",
      "............................................................................................................................................................................#IIIIIIIIIIIIIII#..........................................................................................................................................................................\n",
      "............................................................................................................................................................................#IIIIIIIIIIIIIII#..........................................................................................................................................................................\n",
      "............................................................................................................................................................................#IIIIIIIII#######..........................................................................................................................................................................\n",
      "............................................................................................................................................................................#IIIIIIIII#................................................................................................................................................................................\n",
      "............................................................................................................................................................................#IIIIIIIII#................................................................................................................................................................................\n",
      "............................................................................................................................................................................###########................................................................................................................................................................................\n"
     ]
    }
   ],
   "source": [
    "for row in resulting_array:\n",
    "    print(''.join(row))"
   ]
  },
  {
   "cell_type": "code",
   "execution_count": 9,
   "id": "c1327fea",
   "metadata": {
    "execution": {
     "iopub.execute_input": "2023-12-19T12:30:15.426281Z",
     "iopub.status.busy": "2023-12-19T12:30:15.425825Z",
     "iopub.status.idle": "2023-12-19T12:30:15.440494Z",
     "shell.execute_reply": "2023-12-19T12:30:15.439644Z"
    },
    "papermill": {
     "duration": 0.025178,
     "end_time": "2023-12-19T12:30:15.443168",
     "exception": false,
     "start_time": "2023-12-19T12:30:15.417990",
     "status": "completed"
    },
    "tags": []
   },
   "outputs": [
    {
     "name": "stdout",
     "output_type": "stream",
     "text": [
      "Inner area: 32643\n",
      "Border: 3348\n",
      "Total: 35991\n"
     ]
    }
   ],
   "source": [
    "inside_count = \"\\n\".join([\"\".join(line) for line in resulting_array]).count(\"I\")\n",
    "border_count = \"\\n\".join([\"\".join(line) for line in resulting_array]).count(\"#\")\n",
    "border_count += \"\\n\".join([\"\".join(line) for line in resulting_array]).count(\"+\")\n",
    "\n",
    "print('Inner area:', inside_count)\n",
    "print('Border:', border_count)\n",
    "print('Total:', inside_count+border_count)"
   ]
  },
  {
   "cell_type": "markdown",
   "id": "653eaf24",
   "metadata": {
    "papermill": {
     "duration": 0.005997,
     "end_time": "2023-12-19T12:30:15.455440",
     "exception": false,
     "start_time": "2023-12-19T12:30:15.449443",
     "status": "completed"
    },
    "tags": []
   },
   "source": [
    "# **PART 2**"
   ]
  },
  {
   "cell_type": "code",
   "execution_count": 10,
   "id": "10642564",
   "metadata": {
    "execution": {
     "iopub.execute_input": "2023-12-19T12:30:15.470725Z",
     "iopub.status.busy": "2023-12-19T12:30:15.470252Z",
     "iopub.status.idle": "2023-12-19T12:30:15.491837Z",
     "shell.execute_reply": "2023-12-19T12:30:15.490153Z"
    },
    "papermill": {
     "duration": 0.032307,
     "end_time": "2023-12-19T12:30:15.494408",
     "exception": false,
     "start_time": "2023-12-19T12:30:15.462101",
     "status": "completed"
    },
    "tags": []
   },
   "outputs": [
    {
     "name": "stdout",
     "output_type": "stream",
     "text": [
      "35991.0\n",
      "54058824661845.0\n"
     ]
    }
   ],
   "source": [
    "inp = open('/kaggle/input/aoc-18-1-fh/aoc_18_input.txt')\n",
    "dat = inp.read().strip()\n",
    "\n",
    "pos = (0, 0)\n",
    "sum1 = 0\n",
    "sum2 = 0\n",
    "sum_dir = 0\n",
    "\n",
    "pos_corr = (0, 0)\n",
    "sum1_corr = 0\n",
    "sum2_corr = 0\n",
    "sum_dir_corr = 0\n",
    "\n",
    "for l in dat.split(\"\\n\"):\n",
    "    d, n, col = l.split()\n",
    "    match d:\n",
    "        case \"L\":\n",
    "            direction = (-1, 0)\n",
    "        case \"R\":\n",
    "            direction = (1, 0)\n",
    "        case \"U\":\n",
    "            direction = (0, -1)\n",
    "        case \"D\":\n",
    "            direction = (0, 1)\n",
    "    length = int(n)\n",
    "    next_pos = (pos[0] + direction[0] * length, pos[1] + direction[1] * length)\n",
    "    sum1 = sum1 + (pos[0]) * (next_pos[1])\n",
    "    sum2 = sum2 + (pos[1]) * (next_pos[0])\n",
    "    sum_dir += length\n",
    "    pos = next_pos\n",
    "    cleaned = col.removeprefix(\"(#\").removesuffix(\")\")\n",
    "    corr_len = int(cleaned[:5], base=16)\n",
    "    match cleaned[5]:\n",
    "        case \"0\":\n",
    "            direction_corr = (1, 0)\n",
    "        case \"1\":\n",
    "            direction_corr = (0, 1)\n",
    "        case \"2\":\n",
    "            direction_corr = (-1, 0)\n",
    "        case \"3\":\n",
    "            direction_corr = (0, -1)\n",
    "    next_pos_corr = (pos_corr[0] + direction_corr[0] * corr_len, pos_corr[1] + direction_corr[1] * corr_len)\n",
    "    sum1_corr = sum1_corr + (pos_corr[0]) * (next_pos_corr[1])\n",
    "    sum2_corr = sum2_corr + (pos_corr[1]) * (next_pos_corr[0])\n",
    "    sum_dir_corr += corr_len\n",
    "    pos_corr = next_pos_corr\n",
    "\n",
    "area = abs(sum1 - sum2) / 2\n",
    "print(area + sum_dir / 2 + 1)\n",
    "\n",
    "\n",
    "area_corr = abs(sum1_corr - sum2_corr) / 2\n",
    "print(area_corr + sum_dir_corr / 2 + 1)"
   ]
  },
  {
   "cell_type": "code",
   "execution_count": null,
   "id": "462b1143",
   "metadata": {
    "papermill": {
     "duration": 0.006139,
     "end_time": "2023-12-19T12:30:15.506909",
     "exception": false,
     "start_time": "2023-12-19T12:30:15.500770",
     "status": "completed"
    },
    "tags": []
   },
   "outputs": [],
   "source": []
  }
 ],
 "metadata": {
  "kaggle": {
   "accelerator": "none",
   "dataSources": [
    {
     "datasetId": 4184394,
     "sourceId": 7227845,
     "sourceType": "datasetVersion"
    }
   ],
   "dockerImageVersionId": 30626,
   "isGpuEnabled": false,
   "isInternetEnabled": true,
   "language": "python",
   "sourceType": "notebook"
  },
  "kernelspec": {
   "display_name": "Python 3",
   "language": "python",
   "name": "python3"
  },
  "language_info": {
   "codemirror_mode": {
    "name": "ipython",
    "version": 3
   },
   "file_extension": ".py",
   "mimetype": "text/x-python",
   "name": "python",
   "nbconvert_exporter": "python",
   "pygments_lexer": "ipython3",
   "version": "3.10.12"
  },
  "papermill": {
   "default_parameters": {},
   "duration": 22.072763,
   "end_time": "2023-12-19T12:30:15.936588",
   "environment_variables": {},
   "exception": null,
   "input_path": "__notebook__.ipynb",
   "output_path": "__notebook__.ipynb",
   "parameters": {},
   "start_time": "2023-12-19T12:29:53.863825",
   "version": "2.4.0"
  }
 },
 "nbformat": 4,
 "nbformat_minor": 5
}
