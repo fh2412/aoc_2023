{
 "cells": [
  {
   "cell_type": "code",
   "execution_count": 1,
   "id": "d465078b",
   "metadata": {
    "_cell_guid": "b1076dfc-b9ad-4769-8c92-a6c4dae69d19",
    "_uuid": "8f2839f25d086af736a60e9eeb907d3b93b6e0e5",
    "execution": {
     "iopub.execute_input": "2023-12-20T07:48:36.473975Z",
     "iopub.status.busy": "2023-12-20T07:48:36.473337Z",
     "iopub.status.idle": "2023-12-20T07:48:36.494126Z",
     "shell.execute_reply": "2023-12-20T07:48:36.492952Z"
    },
    "papermill": {
     "duration": 0.035221,
     "end_time": "2023-12-20T07:48:36.497489",
     "exception": false,
     "start_time": "2023-12-20T07:48:36.462268",
     "status": "completed"
    },
    "tags": []
   },
   "outputs": [],
   "source": [
    "blobs = open(\"/kaggle/input/aoc-19-1-fh/test_19.txt\", \"r\").read()[:-1].split('\\n\\n')\n",
    "lines = blobs[1].split('\\n')"
   ]
  },
  {
   "cell_type": "code",
   "execution_count": 2,
   "id": "8f3ad26b",
   "metadata": {
    "execution": {
     "iopub.execute_input": "2023-12-20T07:48:36.514734Z",
     "iopub.status.busy": "2023-12-20T07:48:36.513547Z",
     "iopub.status.idle": "2023-12-20T07:48:36.520127Z",
     "shell.execute_reply": "2023-12-20T07:48:36.519011Z"
    },
    "papermill": {
     "duration": 0.0174,
     "end_time": "2023-12-20T07:48:36.522739",
     "exception": false,
     "start_time": "2023-12-20T07:48:36.505339",
     "status": "completed"
    },
    "tags": []
   },
   "outputs": [],
   "source": [
    "import re\n",
    "def extract_numbers(text):\n",
    "    numbers = re.findall(r'\\d+\\.*\\d*', text)\n",
    "    return numbers"
   ]
  },
  {
   "cell_type": "code",
   "execution_count": 3,
   "id": "67652269",
   "metadata": {
    "execution": {
     "iopub.execute_input": "2023-12-20T07:48:36.536963Z",
     "iopub.status.busy": "2023-12-20T07:48:36.535865Z",
     "iopub.status.idle": "2023-12-20T07:48:36.544026Z",
     "shell.execute_reply": "2023-12-20T07:48:36.542865Z"
    },
    "papermill": {
     "duration": 0.018243,
     "end_time": "2023-12-20T07:48:36.546623",
     "exception": false,
     "start_time": "2023-12-20T07:48:36.528380",
     "status": "completed"
    },
    "tags": []
   },
   "outputs": [],
   "source": [
    "parts = []\n",
    "for s in lines:\n",
    "    numbers = extract_numbers(s)\n",
    "    part = {'x': numbers[0], 'm': numbers[1], 'a': numbers[2], 's': numbers[3]}\n",
    "    parts.append(part)\n",
    "lines = blobs[0].split('\\n')"
   ]
  },
  {
   "cell_type": "code",
   "execution_count": 4,
   "id": "c24e6b11",
   "metadata": {
    "execution": {
     "iopub.execute_input": "2023-12-20T07:48:36.560784Z",
     "iopub.status.busy": "2023-12-20T07:48:36.559426Z",
     "iopub.status.idle": "2023-12-20T07:48:36.573058Z",
     "shell.execute_reply": "2023-12-20T07:48:36.571780Z"
    },
    "papermill": {
     "duration": 0.023923,
     "end_time": "2023-12-20T07:48:36.575873",
     "exception": false,
     "start_time": "2023-12-20T07:48:36.551950",
     "status": "completed"
    },
    "tags": []
   },
   "outputs": [],
   "source": [
    "def parse_data(input_str):\n",
    "    pattern = r'([a-zA-Z]+){([^{}]+)}'\n",
    "    matches = re.findall(pattern, input_str)\n",
    "    \n",
    "    result = {}\n",
    "    for match in matches:\n",
    "        key = match[0]\n",
    "        conditions_actions = match[1].split(',')\n",
    "        conditions = []\n",
    "        actions = []\n",
    "        alt = None\n",
    "        \n",
    "        for item in conditions_actions:\n",
    "            if '<' in item or '>' in item:\n",
    "                condition, action = item.split(':')\n",
    "                conditions.append(condition)\n",
    "                actions.append(action)\n",
    "            else:\n",
    "                alt = item\n",
    "        \n",
    "        result['key'] = key\n",
    "        for i in range(len(conditions)):\n",
    "            result[f'condition{i+1}'] = conditions[i]\n",
    "            result[f'action{i+1}'] = actions[i]\n",
    "        if alt:\n",
    "            result['alt'] = alt\n",
    "    \n",
    "    return result"
   ]
  },
  {
   "cell_type": "code",
   "execution_count": 5,
   "id": "b6e48f84",
   "metadata": {
    "execution": {
     "iopub.execute_input": "2023-12-20T07:48:36.589497Z",
     "iopub.status.busy": "2023-12-20T07:48:36.588435Z",
     "iopub.status.idle": "2023-12-20T07:48:36.595483Z",
     "shell.execute_reply": "2023-12-20T07:48:36.594228Z"
    },
    "papermill": {
     "duration": 0.017029,
     "end_time": "2023-12-20T07:48:36.598256",
     "exception": false,
     "start_time": "2023-12-20T07:48:36.581227",
     "status": "completed"
    },
    "tags": []
   },
   "outputs": [],
   "source": [
    "workflows = []\n",
    "for l in lines:\n",
    "    workflows.append(parse_data(l))"
   ]
  },
  {
   "cell_type": "code",
   "execution_count": 6,
   "id": "7c225e98",
   "metadata": {
    "execution": {
     "iopub.execute_input": "2023-12-20T07:48:36.612494Z",
     "iopub.status.busy": "2023-12-20T07:48:36.611375Z",
     "iopub.status.idle": "2023-12-20T07:48:36.618796Z",
     "shell.execute_reply": "2023-12-20T07:48:36.617400Z"
    },
    "papermill": {
     "duration": 0.017909,
     "end_time": "2023-12-20T07:48:36.621945",
     "exception": false,
     "start_time": "2023-12-20T07:48:36.604036",
     "status": "completed"
    },
    "tags": []
   },
   "outputs": [],
   "source": [
    "def find_object_by_key(data_list, key):\n",
    "    for obj in data_list:\n",
    "        if obj.get('key') == key:\n",
    "            return obj\n",
    "    return None"
   ]
  },
  {
   "cell_type": "code",
   "execution_count": 7,
   "id": "9dbb65b3",
   "metadata": {
    "execution": {
     "iopub.execute_input": "2023-12-20T07:48:36.636237Z",
     "iopub.status.busy": "2023-12-20T07:48:36.635112Z",
     "iopub.status.idle": "2023-12-20T07:48:36.652340Z",
     "shell.execute_reply": "2023-12-20T07:48:36.650520Z"
    },
    "papermill": {
     "duration": 0.027759,
     "end_time": "2023-12-20T07:48:36.655389",
     "exception": false,
     "start_time": "2023-12-20T07:48:36.627630",
     "status": "completed"
    },
    "tags": []
   },
   "outputs": [],
   "source": [
    "accepted = []\n",
    "def check_parts(in_string, part):\n",
    "    x, m, a, s = int(part['x']), int(part['m']), int(part['a']), int(part['s'])\n",
    "    alt = True\n",
    "    done = False\n",
    "    for condition in range((len(in_string)-1)//2):\n",
    "        new_workflow = ''\n",
    "        #print(in_string['key'])\n",
    "        #print(in_string['condition' + str(condition+1)], s)\n",
    "        if eval(in_string[\"condition\" + str(condition+1)]):\n",
    "            if in_string[\"action\" + str(condition+1)] == 'A':\n",
    "                #print('Accepted:', part)\n",
    "                accepted.append(part)\n",
    "                done = True\n",
    "            elif in_string[\"action\" + str(condition+1)] == 'R':\n",
    "                #print('Rejected:', part)\n",
    "                done = True\n",
    "            else:\n",
    "                #print(\"Action: \",find_object_by_key(workflows, in_string[\"action\" + str(condition+1)]))\n",
    "                new_workflow = find_object_by_key(workflows, in_string[\"action\" + str(condition+1)])\n",
    "            alt = False\n",
    "            break\n",
    "    if(alt):\n",
    "        if in_string[\"alt\"] == 'A':\n",
    "            #print('Accepted:', part)\n",
    "            accepted.append(part)\n",
    "            done = True\n",
    "        elif in_string[\"alt\"] == 'R':\n",
    "            #print('Rejected Alt:', part)\n",
    "            done = True\n",
    "        else:\n",
    "            #print(\"Alt: \",find_object_by_key(workflows, in_string[\"alt\"]))\n",
    "            new_workflow = find_object_by_key(workflows, in_string[\"alt\"])\n",
    "    if(done == False):\n",
    "        check_parts(new_workflow, part)"
   ]
  },
  {
   "cell_type": "code",
   "execution_count": 8,
   "id": "546db23a",
   "metadata": {
    "execution": {
     "iopub.execute_input": "2023-12-20T07:48:36.668631Z",
     "iopub.status.busy": "2023-12-20T07:48:36.668196Z",
     "iopub.status.idle": "2023-12-20T07:48:36.674872Z",
     "shell.execute_reply": "2023-12-20T07:48:36.673380Z"
    },
    "papermill": {
     "duration": 0.016792,
     "end_time": "2023-12-20T07:48:36.677658",
     "exception": false,
     "start_time": "2023-12-20T07:48:36.660866",
     "status": "completed"
    },
    "tags": []
   },
   "outputs": [],
   "source": [
    "in_string = find_object_by_key(workflows, 'in')\n",
    "for part in parts:\n",
    "    check_parts(in_string, part)"
   ]
  },
  {
   "cell_type": "code",
   "execution_count": 9,
   "id": "bc35d01e",
   "metadata": {
    "execution": {
     "iopub.execute_input": "2023-12-20T07:48:36.690673Z",
     "iopub.status.busy": "2023-12-20T07:48:36.690250Z",
     "iopub.status.idle": "2023-12-20T07:48:36.697844Z",
     "shell.execute_reply": "2023-12-20T07:48:36.696394Z"
    },
    "papermill": {
     "duration": 0.01714,
     "end_time": "2023-12-20T07:48:36.700542",
     "exception": false,
     "start_time": "2023-12-20T07:48:36.683402",
     "status": "completed"
    },
    "tags": []
   },
   "outputs": [],
   "source": [
    "res = 0\n",
    "for part in accepted:\n",
    "    res += int(part['x']) + int(part['m']) + int(part['a']) + int(part['s'])"
   ]
  },
  {
   "cell_type": "code",
   "execution_count": 10,
   "id": "c3029df4",
   "metadata": {
    "execution": {
     "iopub.execute_input": "2023-12-20T07:48:36.713127Z",
     "iopub.status.busy": "2023-12-20T07:48:36.712670Z",
     "iopub.status.idle": "2023-12-20T07:48:36.722094Z",
     "shell.execute_reply": "2023-12-20T07:48:36.720768Z"
    },
    "papermill": {
     "duration": 0.01863,
     "end_time": "2023-12-20T07:48:36.724648",
     "exception": false,
     "start_time": "2023-12-20T07:48:36.706018",
     "status": "completed"
    },
    "tags": []
   },
   "outputs": [
    {
     "data": {
      "text/plain": [
       "19114"
      ]
     },
     "execution_count": 10,
     "metadata": {},
     "output_type": "execute_result"
    }
   ],
   "source": [
    "res"
   ]
  },
  {
   "cell_type": "markdown",
   "id": "ef693255",
   "metadata": {
    "papermill": {
     "duration": 0.005105,
     "end_time": "2023-12-20T07:48:36.735103",
     "exception": false,
     "start_time": "2023-12-20T07:48:36.729998",
     "status": "completed"
    },
    "tags": []
   },
   "source": [
    "# **PART 2**"
   ]
  },
  {
   "cell_type": "code",
   "execution_count": 11,
   "id": "5d8a42c3",
   "metadata": {
    "execution": {
     "iopub.execute_input": "2023-12-20T07:48:36.748299Z",
     "iopub.status.busy": "2023-12-20T07:48:36.747855Z",
     "iopub.status.idle": "2023-12-20T07:48:36.791156Z",
     "shell.execute_reply": "2023-12-20T07:48:36.788455Z"
    },
    "papermill": {
     "duration": 0.055332,
     "end_time": "2023-12-20T07:48:36.795887",
     "exception": false,
     "start_time": "2023-12-20T07:48:36.740555",
     "status": "completed"
    },
    "tags": []
   },
   "outputs": [
    {
     "name": "stdout",
     "output_type": "stream",
     "text": [
      "131192538505367\n"
     ]
    }
   ],
   "source": [
    "import re\n",
    "ll = [x for x in open('/kaggle/input/aoc-19-1-fh/input_19.txt').read().strip().split('\\n\\n')]\n",
    "workflow, parts = ll\n",
    "\n",
    "def ints(s):\n",
    "\treturn list(map(int, re.findall(r'\\d+', s)))\n",
    "\n",
    "parts = [ints(l) for l in parts.split(\"\\n\")]\n",
    "workflow = {l.split(\"{\")[0]: l.split(\"{\")[1][:-1] for l in workflow.split(\"\\n\")}\n",
    "\n",
    "def both(ch, gt, val, ranges):\n",
    "\tch = 'xmas'.index(ch)\n",
    "\tranges2 = []\n",
    "\tfor rng in ranges:\n",
    "\t\trng = list(rng)\n",
    "\t\tlo, hi = rng[ch]\n",
    "\t\tif gt:\n",
    "\t\t\tlo = max(lo, val + 1)\n",
    "\t\telse:\n",
    "\t\t\thi = min(hi, val - 1)\n",
    "\t\tif lo > hi:\n",
    "\t\t\tcontinue\n",
    "\t\trng[ch] = (lo, hi)\n",
    "\t\tranges2.append(tuple(rng))\n",
    "\treturn ranges2\n",
    "\n",
    "\n",
    "def acceptance_ranges_outer(work):\n",
    "\treturn acceptance_ranges_inner(workflow[work].split(\",\"))\n",
    "\n",
    "def acceptance_ranges_inner(w):\n",
    "\tit = w[0]\n",
    "\tif it == \"R\":\n",
    "\t\treturn []\n",
    "\tif it == \"A\":\n",
    "\t\treturn [((1, 4000), (1, 4000), (1, 4000), (1, 4000))]\n",
    "\tif \":\" not in it:\n",
    "\t\treturn acceptance_ranges_outer(it)\n",
    "\tcond = it.split(\":\")[0]\n",
    "\tgt = \">\" in cond\n",
    "\tch = cond[0]\n",
    "\tval = int(cond[2:])\n",
    "\tval_inverted = val + 1 if gt else val - 1\n",
    "\tif_cond_is_true = both(ch, gt, val, acceptance_ranges_inner([it.split(\":\")[1]]))\n",
    "\tif_cond_is_false = both(ch, not gt, val_inverted, acceptance_ranges_inner(w[1:]))\n",
    "\treturn if_cond_is_true + if_cond_is_false\n",
    "\n",
    "p2 = 0\n",
    "for rng in acceptance_ranges_outer('in'):\n",
    "\tv = 1\n",
    "\tfor lo, hi in rng:\n",
    "\t\tv *= hi - lo + 1\n",
    "\tp2 += v\n",
    "print(p2)"
   ]
  },
  {
   "cell_type": "code",
   "execution_count": null,
   "id": "4c0a607b",
   "metadata": {
    "papermill": {
     "duration": 0.005176,
     "end_time": "2023-12-20T07:48:36.806956",
     "exception": false,
     "start_time": "2023-12-20T07:48:36.801780",
     "status": "completed"
    },
    "tags": []
   },
   "outputs": [],
   "source": []
  }
 ],
 "metadata": {
  "kaggle": {
   "accelerator": "none",
   "dataSources": [
    {
     "datasetId": 4192468,
     "sourceId": 7238910,
     "sourceType": "datasetVersion"
    }
   ],
   "dockerImageVersionId": 30626,
   "isGpuEnabled": false,
   "isInternetEnabled": true,
   "language": "python",
   "sourceType": "notebook"
  },
  "kernelspec": {
   "display_name": "Python 3",
   "language": "python",
   "name": "python3"
  },
  "language_info": {
   "codemirror_mode": {
    "name": "ipython",
    "version": 3
   },
   "file_extension": ".py",
   "mimetype": "text/x-python",
   "name": "python",
   "nbconvert_exporter": "python",
   "pygments_lexer": "ipython3",
   "version": "3.10.12"
  },
  "papermill": {
   "default_parameters": {},
   "duration": 5.844405,
   "end_time": "2023-12-20T07:48:37.340793",
   "environment_variables": {},
   "exception": null,
   "input_path": "__notebook__.ipynb",
   "output_path": "__notebook__.ipynb",
   "parameters": {},
   "start_time": "2023-12-20T07:48:31.496388",
   "version": "2.4.0"
  }
 },
 "nbformat": 4,
 "nbformat_minor": 5
}
