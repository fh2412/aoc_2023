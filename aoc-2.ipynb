{
 "cells": [
  {
   "cell_type": "markdown",
   "id": "5760c0b7",
   "metadata": {
    "papermill": {
     "duration": 0.004258,
     "end_time": "2023-12-02T13:09:53.100253",
     "exception": false,
     "start_time": "2023-12-02T13:09:53.095995",
     "status": "completed"
    },
    "tags": []
   },
   "source": [
    "# **Get DATA**"
   ]
  },
  {
   "cell_type": "code",
   "execution_count": 1,
   "id": "8e3940e4",
   "metadata": {
    "execution": {
     "iopub.execute_input": "2023-12-02T13:09:53.112973Z",
     "iopub.status.busy": "2023-12-02T13:09:53.111939Z",
     "iopub.status.idle": "2023-12-02T13:09:53.130158Z",
     "shell.execute_reply": "2023-12-02T13:09:53.129229Z"
    },
    "papermill": {
     "duration": 0.026303,
     "end_time": "2023-12-02T13:09:53.132482",
     "exception": false,
     "start_time": "2023-12-02T13:09:53.106179",
     "status": "completed"
    },
    "tags": []
   },
   "outputs": [],
   "source": [
    "with open('/kaggle/input/aoc-2-1-fh/aoc_2.txt', 'r') as file:\n",
    "    # Read the lines and store them in an array\n",
    "    lines = file.readlines()"
   ]
  },
  {
   "cell_type": "code",
   "execution_count": 2,
   "id": "3c795c8c",
   "metadata": {
    "execution": {
     "iopub.execute_input": "2023-12-02T13:09:53.142064Z",
     "iopub.status.busy": "2023-12-02T13:09:53.141667Z",
     "iopub.status.idle": "2023-12-02T13:09:53.145492Z",
     "shell.execute_reply": "2023-12-02T13:09:53.144725Z"
    },
    "papermill": {
     "duration": 0.011232,
     "end_time": "2023-12-02T13:09:53.147723",
     "exception": false,
     "start_time": "2023-12-02T13:09:53.136491",
     "status": "completed"
    },
    "tags": []
   },
   "outputs": [],
   "source": [
    "#with open('/kaggle/input/aoc-2-1-fh-test/aoc_2_test.txt', 'r') as file:\n",
    "#    # Read the lines and store them in an array\n",
    "#    lines = file.readlines()"
   ]
  },
  {
   "cell_type": "code",
   "execution_count": 3,
   "id": "5d07aee7",
   "metadata": {
    "execution": {
     "iopub.execute_input": "2023-12-02T13:09:53.157857Z",
     "iopub.status.busy": "2023-12-02T13:09:53.156864Z",
     "iopub.status.idle": "2023-12-02T13:09:53.161881Z",
     "shell.execute_reply": "2023-12-02T13:09:53.161099Z"
    },
    "papermill": {
     "duration": 0.012292,
     "end_time": "2023-12-02T13:09:53.164068",
     "exception": false,
     "start_time": "2023-12-02T13:09:53.151776",
     "status": "completed"
    },
    "tags": []
   },
   "outputs": [],
   "source": [
    "lines = [s.rstrip('\\n') for s in lines]\n",
    "#lines = lines[:15]"
   ]
  },
  {
   "cell_type": "code",
   "execution_count": 4,
   "id": "0d3dfee2",
   "metadata": {
    "execution": {
     "iopub.execute_input": "2023-12-02T13:09:53.173996Z",
     "iopub.status.busy": "2023-12-02T13:09:53.173257Z",
     "iopub.status.idle": "2023-12-02T13:09:53.181544Z",
     "shell.execute_reply": "2023-12-02T13:09:53.180441Z"
    },
    "papermill": {
     "duration": 0.015846,
     "end_time": "2023-12-02T13:09:53.183827",
     "exception": false,
     "start_time": "2023-12-02T13:09:53.167981",
     "status": "completed"
    },
    "tags": []
   },
   "outputs": [
    {
     "data": {
      "text/plain": [
       "100"
      ]
     },
     "execution_count": 4,
     "metadata": {},
     "output_type": "execute_result"
    }
   ],
   "source": [
    "len(lines)"
   ]
  },
  {
   "cell_type": "markdown",
   "id": "383d412f",
   "metadata": {
    "papermill": {
     "duration": 0.004297,
     "end_time": "2023-12-02T13:09:53.192331",
     "exception": false,
     "start_time": "2023-12-02T13:09:53.188034",
     "status": "completed"
    },
    "tags": []
   },
   "source": [
    "# **PART 1**"
   ]
  },
  {
   "cell_type": "code",
   "execution_count": 5,
   "id": "b922f03f",
   "metadata": {
    "execution": {
     "iopub.execute_input": "2023-12-02T13:09:53.203050Z",
     "iopub.status.busy": "2023-12-02T13:09:53.202043Z",
     "iopub.status.idle": "2023-12-02T13:09:53.591220Z",
     "shell.execute_reply": "2023-12-02T13:09:53.589953Z"
    },
    "papermill": {
     "duration": 0.397475,
     "end_time": "2023-12-02T13:09:53.593907",
     "exception": false,
     "start_time": "2023-12-02T13:09:53.196432",
     "status": "completed"
    },
    "tags": []
   },
   "outputs": [],
   "source": [
    "import re\n",
    "import pandas as pd\n",
    "\n",
    "my_data = []\n",
    "\n",
    "numbers = {\n",
    "    'ID': [0, 1, 2, 3],\n",
    "    'Numbers': [10, 20, 30, 40],\n",
    "    'Colour': ['g', 'r', 'b'],\n",
    "    'to_big': 0\n",
    "}\n",
    "counter = 1\n",
    "for l in lines:\n",
    "    matches = re.findall(r'\\d+', l)\n",
    "    string_colors = re.findall(r'\\d+(.{2})', l)\n",
    "    numbers['Numbers'] = matches[1:]\n",
    "    numbers['ID'] = counter\n",
    "    numbers['Colour'] = string_colors[1:]\n",
    "    \n",
    "    c=0\n",
    "    for n in numbers['Numbers']:\n",
    "        if(int(n)>12):\n",
    "            #print(l)\n",
    "            #print(n, numbers['Colour'][c])\n",
    "            if(int(n)>14):\n",
    "                numbers['to_big']=1\n",
    "                #print('To Big!: more than 15 or above')\n",
    "            elif(int(n)==13 and numbers['Colour'][c]== ' r'):\n",
    "                numbers['to_big']=1\n",
    "                #print('To big!: 13 Red')\n",
    "            elif(int(n)==14 and numbers['Colour'][c]!= ' b'):\n",
    "                numbers['to_big']=1\n",
    "                #print('To big!: 14 Red or 14 Green')\n",
    "        c+=1\n",
    "    my_data.append(numbers.copy())\n",
    "    counter+=1\n",
    "    numbers['to_big']=0"
   ]
  },
  {
   "cell_type": "code",
   "execution_count": 6,
   "id": "4bc5ef2d",
   "metadata": {
    "execution": {
     "iopub.execute_input": "2023-12-02T13:09:53.605237Z",
     "iopub.status.busy": "2023-12-02T13:09:53.604675Z",
     "iopub.status.idle": "2023-12-02T13:09:53.611359Z",
     "shell.execute_reply": "2023-12-02T13:09:53.610301Z"
    },
    "papermill": {
     "duration": 0.014574,
     "end_time": "2023-12-02T13:09:53.613531",
     "exception": false,
     "start_time": "2023-12-02T13:09:53.598957",
     "status": "completed"
    },
    "tags": []
   },
   "outputs": [
    {
     "data": {
      "text/plain": [
       "1"
      ]
     },
     "execution_count": 6,
     "metadata": {},
     "output_type": "execute_result"
    }
   ],
   "source": [
    "my_data[2]['to_big']"
   ]
  },
  {
   "cell_type": "code",
   "execution_count": 7,
   "id": "0fb40b5d",
   "metadata": {
    "execution": {
     "iopub.execute_input": "2023-12-02T13:09:53.623604Z",
     "iopub.status.busy": "2023-12-02T13:09:53.623201Z",
     "iopub.status.idle": "2023-12-02T13:09:53.628736Z",
     "shell.execute_reply": "2023-12-02T13:09:53.627407Z"
    },
    "papermill": {
     "duration": 0.013392,
     "end_time": "2023-12-02T13:09:53.631163",
     "exception": false,
     "start_time": "2023-12-02T13:09:53.617771",
     "status": "completed"
    },
    "tags": []
   },
   "outputs": [],
   "source": [
    "result=0\n",
    "for d in my_data:\n",
    "    if(d['to_big']==0):\n",
    "        result+=int(d['ID'])"
   ]
  },
  {
   "cell_type": "code",
   "execution_count": 8,
   "id": "0f6a45be",
   "metadata": {
    "execution": {
     "iopub.execute_input": "2023-12-02T13:09:53.640961Z",
     "iopub.status.busy": "2023-12-02T13:09:53.640558Z",
     "iopub.status.idle": "2023-12-02T13:09:53.647212Z",
     "shell.execute_reply": "2023-12-02T13:09:53.646007Z"
    },
    "papermill": {
     "duration": 0.014124,
     "end_time": "2023-12-02T13:09:53.649432",
     "exception": false,
     "start_time": "2023-12-02T13:09:53.635308",
     "status": "completed"
    },
    "tags": []
   },
   "outputs": [
    {
     "data": {
      "text/plain": [
       "2439"
      ]
     },
     "execution_count": 8,
     "metadata": {},
     "output_type": "execute_result"
    }
   ],
   "source": [
    "result"
   ]
  },
  {
   "cell_type": "markdown",
   "id": "c7b6f991",
   "metadata": {
    "papermill": {
     "duration": 0.003946,
     "end_time": "2023-12-02T13:09:53.657745",
     "exception": false,
     "start_time": "2023-12-02T13:09:53.653799",
     "status": "completed"
    },
    "tags": []
   },
   "source": [
    "# **PART 2**"
   ]
  },
  {
   "cell_type": "code",
   "execution_count": 9,
   "id": "0f9b37cb",
   "metadata": {
    "execution": {
     "iopub.execute_input": "2023-12-02T13:09:53.668272Z",
     "iopub.status.busy": "2023-12-02T13:09:53.667512Z",
     "iopub.status.idle": "2023-12-02T13:09:53.672355Z",
     "shell.execute_reply": "2023-12-02T13:09:53.671398Z"
    },
    "papermill": {
     "duration": 0.012999,
     "end_time": "2023-12-02T13:09:53.674915",
     "exception": false,
     "start_time": "2023-12-02T13:09:53.661916",
     "status": "completed"
    },
    "tags": []
   },
   "outputs": [],
   "source": [
    "power = 0"
   ]
  },
  {
   "cell_type": "code",
   "execution_count": 10,
   "id": "2ce70688",
   "metadata": {
    "execution": {
     "iopub.execute_input": "2023-12-02T13:09:53.685761Z",
     "iopub.status.busy": "2023-12-02T13:09:53.685372Z",
     "iopub.status.idle": "2023-12-02T13:09:53.694064Z",
     "shell.execute_reply": "2023-12-02T13:09:53.692899Z"
    },
    "papermill": {
     "duration": 0.017235,
     "end_time": "2023-12-02T13:09:53.696792",
     "exception": false,
     "start_time": "2023-12-02T13:09:53.679557",
     "status": "completed"
    },
    "tags": []
   },
   "outputs": [],
   "source": [
    "max_r = 0\n",
    "max_g = 0\n",
    "max_b = 0\n",
    "c=0\n",
    "for d in my_data:\n",
    "    for n in d['Numbers']:\n",
    "        if d['Colour'][c] == ' r':\n",
    "            max_r = max(max_r, int(n))\n",
    "        elif d['Colour'][c] == ' g':\n",
    "            max_g = max(max_g, int(n))\n",
    "        elif d['Colour'][c] == ' b':\n",
    "            max_b = max(max_b, int(n))\n",
    "        c+=1\n",
    "    power = power + (max_r * max_g * max_b)\n",
    "    max_r, max_g, max_b, c = 0, 0, 0, 0"
   ]
  },
  {
   "cell_type": "code",
   "execution_count": 11,
   "id": "ead0c5cc",
   "metadata": {
    "execution": {
     "iopub.execute_input": "2023-12-02T13:09:53.707470Z",
     "iopub.status.busy": "2023-12-02T13:09:53.706864Z",
     "iopub.status.idle": "2023-12-02T13:09:53.712543Z",
     "shell.execute_reply": "2023-12-02T13:09:53.711406Z"
    },
    "papermill": {
     "duration": 0.013292,
     "end_time": "2023-12-02T13:09:53.714536",
     "exception": false,
     "start_time": "2023-12-02T13:09:53.701244",
     "status": "completed"
    },
    "tags": []
   },
   "outputs": [
    {
     "name": "stdout",
     "output_type": "stream",
     "text": [
      "63711\n"
     ]
    }
   ],
   "source": [
    "print(power)"
   ]
  }
 ],
 "metadata": {
  "kaggle": {
   "accelerator": "none",
   "dataSources": [
    {
     "datasetId": 4095278,
     "sourceId": 7103907,
     "sourceType": "datasetVersion"
    },
    {
     "datasetId": 4096367,
     "sourceId": 7105516,
     "sourceType": "datasetVersion"
    }
   ],
   "dockerImageVersionId": 30587,
   "isGpuEnabled": false,
   "isInternetEnabled": true,
   "language": "python",
   "sourceType": "notebook"
  },
  "kernelspec": {
   "display_name": "Python 3",
   "language": "python",
   "name": "python3"
  },
  "language_info": {
   "codemirror_mode": {
    "name": "ipython",
    "version": 3
   },
   "file_extension": ".py",
   "mimetype": "text/x-python",
   "name": "python",
   "nbconvert_exporter": "python",
   "pygments_lexer": "ipython3",
   "version": "3.10.12"
  },
  "papermill": {
   "default_parameters": {},
   "duration": 4.241218,
   "end_time": "2023-12-02T13:09:54.238714",
   "environment_variables": {},
   "exception": null,
   "input_path": "__notebook__.ipynb",
   "output_path": "__notebook__.ipynb",
   "parameters": {},
   "start_time": "2023-12-02T13:09:49.997496",
   "version": "2.4.0"
  }
 },
 "nbformat": 4,
 "nbformat_minor": 5
}
