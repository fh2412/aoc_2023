{
 "cells": [
  {
   "cell_type": "markdown",
   "id": "f0b9f3a7",
   "metadata": {
    "papermill": {
     "duration": 0.00633,
     "end_time": "2023-12-04T06:37:47.374443",
     "exception": false,
     "start_time": "2023-12-04T06:37:47.368113",
     "status": "completed"
    },
    "tags": []
   },
   "source": [
    "# **GET DATA**"
   ]
  },
  {
   "cell_type": "code",
   "execution_count": 1,
   "id": "03197a45",
   "metadata": {
    "execution": {
     "iopub.execute_input": "2023-12-04T06:37:47.391930Z",
     "iopub.status.busy": "2023-12-04T06:37:47.391146Z",
     "iopub.status.idle": "2023-12-04T06:37:47.411203Z",
     "shell.execute_reply": "2023-12-04T06:37:47.410140Z"
    },
    "papermill": {
     "duration": 0.030442,
     "end_time": "2023-12-04T06:37:47.413887",
     "exception": false,
     "start_time": "2023-12-04T06:37:47.383445",
     "status": "completed"
    },
    "tags": []
   },
   "outputs": [],
   "source": [
    "with open('/kaggle/input/aoc-3-fh/aoc_3.txt', 'r') as file:\n",
    "    # Read the lines and store them in an array\n",
    "    lines = file.readlines()"
   ]
  },
  {
   "cell_type": "code",
   "execution_count": 2,
   "id": "1871cf20",
   "metadata": {
    "execution": {
     "iopub.execute_input": "2023-12-04T06:37:47.429241Z",
     "iopub.status.busy": "2023-12-04T06:37:47.428620Z",
     "iopub.status.idle": "2023-12-04T06:37:47.433151Z",
     "shell.execute_reply": "2023-12-04T06:37:47.432222Z"
    },
    "papermill": {
     "duration": 0.014724,
     "end_time": "2023-12-04T06:37:47.435531",
     "exception": false,
     "start_time": "2023-12-04T06:37:47.420807",
     "status": "completed"
    },
    "tags": []
   },
   "outputs": [],
   "source": [
    "lines = [s.rstrip('\\n') for s in lines]"
   ]
  },
  {
   "cell_type": "code",
   "execution_count": 3,
   "id": "8b92ae4d",
   "metadata": {
    "execution": {
     "iopub.execute_input": "2023-12-04T06:37:47.449583Z",
     "iopub.status.busy": "2023-12-04T06:37:47.449129Z",
     "iopub.status.idle": "2023-12-04T06:37:47.457461Z",
     "shell.execute_reply": "2023-12-04T06:37:47.456259Z"
    },
    "papermill": {
     "duration": 0.018434,
     "end_time": "2023-12-04T06:37:47.460066",
     "exception": false,
     "start_time": "2023-12-04T06:37:47.441632",
     "status": "completed"
    },
    "tags": []
   },
   "outputs": [
    {
     "data": {
      "text/plain": [
       "140"
      ]
     },
     "execution_count": 3,
     "metadata": {},
     "output_type": "execute_result"
    }
   ],
   "source": [
    "len(lines)"
   ]
  },
  {
   "cell_type": "code",
   "execution_count": 4,
   "id": "98f92f97",
   "metadata": {
    "execution": {
     "iopub.execute_input": "2023-12-04T06:37:47.474072Z",
     "iopub.status.busy": "2023-12-04T06:37:47.473377Z",
     "iopub.status.idle": "2023-12-04T06:37:47.478145Z",
     "shell.execute_reply": "2023-12-04T06:37:47.476864Z"
    },
    "papermill": {
     "duration": 0.014601,
     "end_time": "2023-12-04T06:37:47.480646",
     "exception": false,
     "start_time": "2023-12-04T06:37:47.466045",
     "status": "completed"
    },
    "tags": []
   },
   "outputs": [],
   "source": [
    "#lines = lines[:5]\n",
    "#lines"
   ]
  },
  {
   "cell_type": "markdown",
   "id": "03dafc14",
   "metadata": {
    "papermill": {
     "duration": 0.005525,
     "end_time": "2023-12-04T06:37:47.492251",
     "exception": false,
     "start_time": "2023-12-04T06:37:47.486726",
     "status": "completed"
    },
    "tags": []
   },
   "source": [
    "# **PART 1**"
   ]
  },
  {
   "cell_type": "code",
   "execution_count": 5,
   "id": "dba25487",
   "metadata": {
    "execution": {
     "iopub.execute_input": "2023-12-04T06:37:47.506348Z",
     "iopub.status.busy": "2023-12-04T06:37:47.505262Z",
     "iopub.status.idle": "2023-12-04T06:37:48.426351Z",
     "shell.execute_reply": "2023-12-04T06:37:48.425368Z"
    },
    "papermill": {
     "duration": 0.930915,
     "end_time": "2023-12-04T06:37:48.429022",
     "exception": false,
     "start_time": "2023-12-04T06:37:47.498107",
     "status": "completed"
    },
    "tags": []
   },
   "outputs": [],
   "source": [
    "import re\n",
    "import pandas as pd\n",
    "\n",
    "counter = 0\n",
    "number = 0\n",
    "surrunding_str = ''\n",
    "zum = 0\n",
    "\n",
    "for l in lines:\n",
    "    matches = [(match.group(), match.start()) for match in re.finditer(r'\\d+', l)]\n",
    "\n",
    "    for number, position in matches:\n",
    "        #print(f\"Number: {number}, Position: {position}, Len: {len(str(number))+1}\")\n",
    "        surrunding_str=\"front \" + l[max(0, position-1)] + \"  back \" + l[min(len(l)-1, position+len(str(number)))]\n",
    "        #print(l[max(0, position-1)]) ---before\n",
    "        #print(l[min(len(l), position+len(str(number)))]) ---after\n",
    "        if(counter!=0):\n",
    "            surrunding_str = surrunding_str + \"  above \" + lines[counter-1][max(0, position-1):min(len(l), position+len(str(number))+1)]\n",
    "        \n",
    "        if(counter+1!=len(lines)):\n",
    "            surrunding_str = surrunding_str + \"  below \" + lines[counter+1][max(0, position-1):min(len(l), position+len(str(number))+1)]\n",
    "\n",
    "        if(re.search(r'[*+=%@#&$/:!\\-?]', surrunding_str)):\n",
    "            zum = zum + int(number)\n",
    "            #print(f\"Number: {number}, {zum}\")\n",
    "    counter+=1"
   ]
  },
  {
   "cell_type": "code",
   "execution_count": 6,
   "id": "ed547141",
   "metadata": {
    "execution": {
     "iopub.execute_input": "2023-12-04T06:37:48.443423Z",
     "iopub.status.busy": "2023-12-04T06:37:48.442654Z",
     "iopub.status.idle": "2023-12-04T06:37:48.449402Z",
     "shell.execute_reply": "2023-12-04T06:37:48.448157Z"
    },
    "papermill": {
     "duration": 0.016823,
     "end_time": "2023-12-04T06:37:48.452044",
     "exception": false,
     "start_time": "2023-12-04T06:37:48.435221",
     "status": "completed"
    },
    "tags": []
   },
   "outputs": [
    {
     "data": {
      "text/plain": [
       "512794"
      ]
     },
     "execution_count": 6,
     "metadata": {},
     "output_type": "execute_result"
    }
   ],
   "source": [
    "zum"
   ]
  },
  {
   "cell_type": "markdown",
   "id": "07bff393",
   "metadata": {
    "papermill": {
     "duration": 0.006254,
     "end_time": "2023-12-04T06:37:48.464470",
     "exception": false,
     "start_time": "2023-12-04T06:37:48.458216",
     "status": "completed"
    },
    "tags": []
   },
   "source": [
    "# **PART 2**"
   ]
  },
  {
   "cell_type": "code",
   "execution_count": 7,
   "id": "3357771f",
   "metadata": {
    "execution": {
     "iopub.execute_input": "2023-12-04T06:37:48.478710Z",
     "iopub.status.busy": "2023-12-04T06:37:48.478286Z",
     "iopub.status.idle": "2023-12-04T06:37:48.483885Z",
     "shell.execute_reply": "2023-12-04T06:37:48.482578Z"
    },
    "papermill": {
     "duration": 0.015859,
     "end_time": "2023-12-04T06:37:48.486698",
     "exception": false,
     "start_time": "2023-12-04T06:37:48.470839",
     "status": "completed"
    },
    "tags": []
   },
   "outputs": [],
   "source": [
    "all_stars = []\n",
    "\n",
    "starpos = {\n",
    "    'Number': 0,\n",
    "    'Line': 0,\n",
    "    'Row': 0,\n",
    "    'PosNum': 0\n",
    "}"
   ]
  },
  {
   "cell_type": "code",
   "execution_count": 8,
   "id": "00a39c59",
   "metadata": {
    "execution": {
     "iopub.execute_input": "2023-12-04T06:37:48.501635Z",
     "iopub.status.busy": "2023-12-04T06:37:48.501005Z",
     "iopub.status.idle": "2023-12-04T06:37:48.537551Z",
     "shell.execute_reply": "2023-12-04T06:37:48.536262Z"
    },
    "papermill": {
     "duration": 0.047466,
     "end_time": "2023-12-04T06:37:48.540467",
     "exception": false,
     "start_time": "2023-12-04T06:37:48.493001",
     "status": "completed"
    },
    "tags": []
   },
   "outputs": [],
   "source": [
    "import re\n",
    "import pandas as pd\n",
    "\n",
    "counter = 0\n",
    "number = 0\n",
    "surrunding_str = ''\n",
    "\n",
    "for l in lines:\n",
    "    matches = [(match.group(), match.start()) for match in re.finditer(r'\\d+', l)]\n",
    "\n",
    "    for number, position in matches:\n",
    "        if(position-1 >= 0):\n",
    "            surrunding_str=l[position-1]\n",
    "        else:\n",
    "            surrunding_str='.'\n",
    "            \n",
    "        surrunding_str= surrunding_str + ' '\n",
    "        \n",
    "        if(position+len(str(number))<=len(l)-1):\n",
    "            surrunding_str = surrunding_str + l[position+len(str(number))]\n",
    "        else: \n",
    "            surrunding_str= surrunding_str + '.'\n",
    "        \n",
    "        surrunding_str= surrunding_str + ' '\n",
    "        \n",
    "        if(counter!=0):\n",
    "            if(position-1 < 0):\n",
    "                surrunding_str = surrunding_str + '.'\n",
    "            surrunding_str = surrunding_str + lines[counter-1][max(0, position-1):min(len(l), position+len(str(number))+1)]\n",
    "            if(position+len(str(number))>len(l)-1):\n",
    "                surrunding_str = surrunding_str + '.'\n",
    "            if(len(str(number))==2):\n",
    "                surrunding_str = surrunding_str + '.'\n",
    "        else:\n",
    "            surrunding_str= surrunding_str + '.....'\n",
    "           \n",
    "        surrunding_str= surrunding_str + ' '\n",
    "        \n",
    "        \n",
    "        if(counter+1!=len(lines)):\n",
    "            if(position-1 < 0):\n",
    "                surrunding_str = surrunding_str + '.'\n",
    "            surrunding_str = surrunding_str + lines[counter+1][max(0, position-1):min(len(l), position+len(str(number))+1)]\n",
    "            if(position+len(str(number))>len(l)-1):\n",
    "                surrunding_str = surrunding_str + '.'\n",
    "            if(len(str(number))==2):\n",
    "                surrunding_str = surrunding_str + '.'\n",
    "        else:\n",
    "            surrunding_str= surrunding_str + '.....'\n",
    "            \n",
    "        #print(number, surrunding_str)\n",
    "        stars = [(match.group(), match.start()) for match in re.finditer(r'[*]', surrunding_str)]\n",
    "        for symbol, pos in stars:\n",
    "            #print(number, pos, surrunding_str)\n",
    "            starpos['PosNum'] = position\n",
    "            starpos['Number'] = number\n",
    "            if(pos==0):\n",
    "                starpos['Line'] = counter\n",
    "                starpos['Row'] = position-1\n",
    "                #print('before', number, pos)\n",
    "            elif(pos==2):\n",
    "                starpos['Line'] = counter\n",
    "                starpos['Row'] = position+len(str(number))\n",
    "                #print('after', number, pos)\n",
    "            elif(pos>=4 and pos<=8):\n",
    "                starpos['Line'] = counter-1\n",
    "                starpos['Row'] = position-1+(pos-4)\n",
    "                #print('above', number, pos)\n",
    "            elif(pos>9):\n",
    "                starpos['Line'] = counter+1\n",
    "                starpos['Row'] = position-1+(pos-10)\n",
    "                #print('below', number, pos)\n",
    "\n",
    "            #print(starpos)\n",
    "            all_stars.append(starpos.copy())\n",
    "    counter+=1"
   ]
  },
  {
   "cell_type": "code",
   "execution_count": 9,
   "id": "108715da",
   "metadata": {
    "execution": {
     "iopub.execute_input": "2023-12-04T06:37:48.555057Z",
     "iopub.status.busy": "2023-12-04T06:37:48.554520Z",
     "iopub.status.idle": "2023-12-04T06:37:48.565289Z",
     "shell.execute_reply": "2023-12-04T06:37:48.563829Z"
    },
    "papermill": {
     "duration": 0.021253,
     "end_time": "2023-12-04T06:37:48.567950",
     "exception": false,
     "start_time": "2023-12-04T06:37:48.546697",
     "status": "completed"
    },
    "tags": []
   },
   "outputs": [
    {
     "data": {
      "text/plain": [
       "[{'Number': '296', 'Line': 1, 'Row': 53, 'PosNum': 50},\n",
       " {'Number': '45', 'Line': 1, 'Row': 104, 'PosNum': 105},\n",
       " {'Number': '606', 'Line': 2, 'Row': 4, 'PosNum': 3},\n",
       " {'Number': '888', 'Line': 2, 'Row': 16, 'PosNum': 16},\n",
       " {'Number': '892', 'Line': 1, 'Row': 53, 'PosNum': 54},\n",
       " {'Number': '967', 'Line': 2, 'Row': 85, 'PosNum': 86},\n",
       " {'Number': '926', 'Line': 2, 'Row': 118, 'PosNum': 116},\n",
       " {'Number': '218', 'Line': 2, 'Row': 132, 'PosNum': 130},\n",
       " {'Number': '777', 'Line': 3, 'Row': 70, 'PosNum': 67},\n",
       " {'Number': '127', 'Line': 1, 'Row': 104, 'PosNum': 102}]"
      ]
     },
     "execution_count": 9,
     "metadata": {},
     "output_type": "execute_result"
    }
   ],
   "source": [
    "all_stars[:10]"
   ]
  },
  {
   "cell_type": "code",
   "execution_count": 10,
   "id": "bcf58008",
   "metadata": {
    "execution": {
     "iopub.execute_input": "2023-12-04T06:37:48.583798Z",
     "iopub.status.busy": "2023-12-04T06:37:48.583295Z",
     "iopub.status.idle": "2023-12-04T06:37:48.595035Z",
     "shell.execute_reply": "2023-12-04T06:37:48.593611Z"
    },
    "papermill": {
     "duration": 0.022415,
     "end_time": "2023-12-04T06:37:48.597525",
     "exception": false,
     "start_time": "2023-12-04T06:37:48.575110",
     "status": "completed"
    },
    "tags": []
   },
   "outputs": [
    {
     "name": "stdout",
     "output_type": "stream",
     "text": [
      "Total Sum of Products: 67058646\n"
     ]
    }
   ],
   "source": [
    "from collections import defaultdict\n",
    "\n",
    "count = defaultdict(int)\n",
    "for item in all_stars:\n",
    "    count[(item['Line'], item['Row'])] += 1\n",
    "# Multiply the Numbers for entries that appear exactly twice\n",
    "products = {}\n",
    "for item in all_stars:\n",
    "    key = (item['Line'], item['Row'])\n",
    "    if count[key] == 2:\n",
    "        if key in products:\n",
    "            products[key] *= int(item['Number'])\n",
    "        else:\n",
    "            products[key] = int(item['Number'])\n",
    "\n",
    "total_sum = sum(products.values())\n",
    "print(\"Total Sum of Products:\", total_sum)"
   ]
  },
  {
   "cell_type": "markdown",
   "id": "4da81b81",
   "metadata": {
    "papermill": {
     "duration": 0.006112,
     "end_time": "2023-12-04T06:37:48.610560",
     "exception": false,
     "start_time": "2023-12-04T06:37:48.604448",
     "status": "completed"
    },
    "tags": []
   },
   "source": [
    "# **NOT MINE BUT BETTER CODE**"
   ]
  },
  {
   "cell_type": "code",
   "execution_count": 11,
   "id": "218b646b",
   "metadata": {
    "execution": {
     "iopub.execute_input": "2023-12-04T06:37:48.626841Z",
     "iopub.status.busy": "2023-12-04T06:37:48.625585Z",
     "iopub.status.idle": "2023-12-04T06:37:48.654617Z",
     "shell.execute_reply": "2023-12-04T06:37:48.653401Z"
    },
    "papermill": {
     "duration": 0.039736,
     "end_time": "2023-12-04T06:37:48.657241",
     "exception": false,
     "start_time": "2023-12-04T06:37:48.617505",
     "status": "completed"
    },
    "tags": []
   },
   "outputs": [
    {
     "name": "stdout",
     "output_type": "stream",
     "text": [
      "512794 67779080\n"
     ]
    }
   ],
   "source": [
    "import math as m, re\n",
    "\n",
    "board = list(open('/kaggle/input/aoc-3-fh/aoc_3.txt'))\n",
    "chars = {(r, c): [] for r in range(140) for c in range(140)\n",
    "                    if board[r][c] not in '01234566789.'}\n",
    "\n",
    "for r, row in enumerate(board):\n",
    "    for n in re.finditer(r'\\d+', row):\n",
    "        edge = {(r, c) for r in (r-1, r, r+1)\n",
    "                       for c in range(n.start()-1, n.end()+1)}\n",
    "\n",
    "        for o in edge & chars.keys():\n",
    "            chars[o].append(int(n.group()))\n",
    "\n",
    "print(sum(sum(p)    for p in chars.values()),\n",
    "      sum(m.prod(p) for p in chars.values() if len(p)==2))"
   ]
  },
  {
   "cell_type": "code",
   "execution_count": null,
   "id": "ff3c7196",
   "metadata": {
    "papermill": {
     "duration": 0.006248,
     "end_time": "2023-12-04T06:37:48.670205",
     "exception": false,
     "start_time": "2023-12-04T06:37:48.663957",
     "status": "completed"
    },
    "tags": []
   },
   "outputs": [],
   "source": []
  }
 ],
 "metadata": {
  "kaggle": {
   "accelerator": "none",
   "dataSources": [
    {
     "datasetId": 4100211,
     "sourceId": 7111052,
     "sourceType": "datasetVersion"
    }
   ],
   "dockerImageVersionId": 30587,
   "isGpuEnabled": false,
   "isInternetEnabled": true,
   "language": "python",
   "sourceType": "notebook"
  },
  "kernelspec": {
   "display_name": "Python 3",
   "language": "python",
   "name": "python3"
  },
  "language_info": {
   "codemirror_mode": {
    "name": "ipython",
    "version": 3
   },
   "file_extension": ".py",
   "mimetype": "text/x-python",
   "name": "python",
   "nbconvert_exporter": "python",
   "pygments_lexer": "ipython3",
   "version": "3.10.12"
  },
  "papermill": {
   "default_parameters": {},
   "duration": 6.629979,
   "end_time": "2023-12-04T06:37:49.198658",
   "environment_variables": {},
   "exception": null,
   "input_path": "__notebook__.ipynb",
   "output_path": "__notebook__.ipynb",
   "parameters": {},
   "start_time": "2023-12-04T06:37:42.568679",
   "version": "2.4.0"
  }
 },
 "nbformat": 4,
 "nbformat_minor": 5
}
