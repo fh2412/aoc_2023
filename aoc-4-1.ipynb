{
 "cells": [
  {
   "cell_type": "markdown",
   "id": "3df761ee",
   "metadata": {
    "papermill": {
     "duration": 0.004515,
     "end_time": "2023-12-04T15:23:22.372838",
     "exception": false,
     "start_time": "2023-12-04T15:23:22.368323",
     "status": "completed"
    },
    "tags": []
   },
   "source": [
    "# **GET DATA**"
   ]
  },
  {
   "cell_type": "code",
   "execution_count": 1,
   "id": "be573670",
   "metadata": {
    "execution": {
     "iopub.execute_input": "2023-12-04T15:23:22.385225Z",
     "iopub.status.busy": "2023-12-04T15:23:22.384432Z",
     "iopub.status.idle": "2023-12-04T15:23:22.399295Z",
     "shell.execute_reply": "2023-12-04T15:23:22.398392Z"
    },
    "papermill": {
     "duration": 0.022632,
     "end_time": "2023-12-04T15:23:22.401478",
     "exception": false,
     "start_time": "2023-12-04T15:23:22.378846",
     "status": "completed"
    },
    "tags": []
   },
   "outputs": [],
   "source": [
    "with open('/kaggle/input/aoc-4-1-fh/input_2.txt', 'r') as file:\n",
    "    # Read the lines and store them in an array\n",
    "    lines = file.readlines()"
   ]
  },
  {
   "cell_type": "code",
   "execution_count": 2,
   "id": "465f7d22",
   "metadata": {
    "execution": {
     "iopub.execute_input": "2023-12-04T15:23:22.412304Z",
     "iopub.status.busy": "2023-12-04T15:23:22.411379Z",
     "iopub.status.idle": "2023-12-04T15:23:22.416363Z",
     "shell.execute_reply": "2023-12-04T15:23:22.415670Z"
    },
    "papermill": {
     "duration": 0.01272,
     "end_time": "2023-12-04T15:23:22.418349",
     "exception": false,
     "start_time": "2023-12-04T15:23:22.405629",
     "status": "completed"
    },
    "tags": []
   },
   "outputs": [],
   "source": [
    "lines = [s.rstrip('\\n') for s in lines]"
   ]
  },
  {
   "cell_type": "markdown",
   "id": "35aa097d",
   "metadata": {
    "papermill": {
     "duration": 0.003772,
     "end_time": "2023-12-04T15:23:22.426294",
     "exception": false,
     "start_time": "2023-12-04T15:23:22.422522",
     "status": "completed"
    },
    "tags": []
   },
   "source": [
    "# **PART 1**"
   ]
  },
  {
   "cell_type": "code",
   "execution_count": 3,
   "id": "7a1c0bed",
   "metadata": {
    "execution": {
     "iopub.execute_input": "2023-12-04T15:23:22.436217Z",
     "iopub.status.busy": "2023-12-04T15:23:22.435577Z",
     "iopub.status.idle": "2023-12-04T15:23:22.440667Z",
     "shell.execute_reply": "2023-12-04T15:23:22.439545Z"
    },
    "papermill": {
     "duration": 0.012413,
     "end_time": "2023-12-04T15:23:22.442658",
     "exception": false,
     "start_time": "2023-12-04T15:23:22.430245",
     "status": "completed"
    },
    "tags": []
   },
   "outputs": [
    {
     "name": "stdout",
     "output_type": "stream",
     "text": [
      "203\n"
     ]
    }
   ],
   "source": [
    "print(len(lines))"
   ]
  },
  {
   "cell_type": "code",
   "execution_count": 4,
   "id": "ca1ccba4",
   "metadata": {
    "execution": {
     "iopub.execute_input": "2023-12-04T15:23:22.453014Z",
     "iopub.status.busy": "2023-12-04T15:23:22.452275Z",
     "iopub.status.idle": "2023-12-04T15:23:22.461211Z",
     "shell.execute_reply": "2023-12-04T15:23:22.460135Z"
    },
    "papermill": {
     "duration": 0.016412,
     "end_time": "2023-12-04T15:23:22.463299",
     "exception": false,
     "start_time": "2023-12-04T15:23:22.446887",
     "status": "completed"
    },
    "tags": []
   },
   "outputs": [],
   "source": [
    "winners=[]\n",
    "tips=[]\n",
    "counter = 0\n",
    "\n",
    "for l in lines:\n",
    "    parts = l.split('|')\n",
    "    remaining_part = parts[0].split(':', 1)[1]\n",
    "    numbers_as_strings = remaining_part.split()\n",
    "    numbers = ([int(num) for num in numbers_as_strings])\n",
    "    winners.append(numbers)\n",
    "    \n",
    "    tips_as_strings = parts[1].split()\n",
    "    numbers = ([int(num) for num in tips_as_strings])\n",
    "    tips.append(numbers)"
   ]
  },
  {
   "cell_type": "code",
   "execution_count": 5,
   "id": "e2bba772",
   "metadata": {
    "execution": {
     "iopub.execute_input": "2023-12-04T15:23:22.473105Z",
     "iopub.status.busy": "2023-12-04T15:23:22.472703Z",
     "iopub.status.idle": "2023-12-04T15:23:22.479401Z",
     "shell.execute_reply": "2023-12-04T15:23:22.478337Z"
    },
    "papermill": {
     "duration": 0.013967,
     "end_time": "2023-12-04T15:23:22.481398",
     "exception": false,
     "start_time": "2023-12-04T15:23:22.467431",
     "status": "completed"
    },
    "tags": []
   },
   "outputs": [],
   "source": [
    "counter = 0\n",
    "score = 0\n",
    "endscore = 0\n",
    "\n",
    "for tip in tips:\n",
    "    for number in tip:\n",
    "        if number in winners[counter]:\n",
    "            if score == 0:\n",
    "                score =1\n",
    "            else:\n",
    "                score *= 2\n",
    "    counter+=1\n",
    "    endscore = endscore + score\n",
    "    score = 0"
   ]
  },
  {
   "cell_type": "code",
   "execution_count": 6,
   "id": "799f2be0",
   "metadata": {
    "execution": {
     "iopub.execute_input": "2023-12-04T15:23:22.491426Z",
     "iopub.status.busy": "2023-12-04T15:23:22.491073Z",
     "iopub.status.idle": "2023-12-04T15:23:22.497465Z",
     "shell.execute_reply": "2023-12-04T15:23:22.496380Z"
    },
    "papermill": {
     "duration": 0.013968,
     "end_time": "2023-12-04T15:23:22.499552",
     "exception": false,
     "start_time": "2023-12-04T15:23:22.485584",
     "status": "completed"
    },
    "tags": []
   },
   "outputs": [
    {
     "data": {
      "text/plain": [
       "20107"
      ]
     },
     "execution_count": 6,
     "metadata": {},
     "output_type": "execute_result"
    }
   ],
   "source": [
    "endscore"
   ]
  },
  {
   "cell_type": "markdown",
   "id": "50c2add0",
   "metadata": {
    "papermill": {
     "duration": 0.003963,
     "end_time": "2023-12-04T15:23:22.507838",
     "exception": false,
     "start_time": "2023-12-04T15:23:22.503875",
     "status": "completed"
    },
    "tags": []
   },
   "source": [
    "# **PART 2**"
   ]
  },
  {
   "cell_type": "code",
   "execution_count": 7,
   "id": "37e2605d",
   "metadata": {
    "execution": {
     "iopub.execute_input": "2023-12-04T15:23:22.518083Z",
     "iopub.status.busy": "2023-12-04T15:23:22.517662Z",
     "iopub.status.idle": "2023-12-04T15:23:22.522541Z",
     "shell.execute_reply": "2023-12-04T15:23:22.521514Z"
    },
    "papermill": {
     "duration": 0.012477,
     "end_time": "2023-12-04T15:23:22.524485",
     "exception": false,
     "start_time": "2023-12-04T15:23:22.512008",
     "status": "completed"
    },
    "tags": []
   },
   "outputs": [],
   "source": [
    "cards = []\n",
    "\n",
    "card = {\n",
    "    'cardID': 1,\n",
    "    'winning_numbers': 0,\n",
    "    'count': 1\n",
    "}"
   ]
  },
  {
   "cell_type": "code",
   "execution_count": 8,
   "id": "f6770fa7",
   "metadata": {
    "execution": {
     "iopub.execute_input": "2023-12-04T15:23:22.534540Z",
     "iopub.status.busy": "2023-12-04T15:23:22.534183Z",
     "iopub.status.idle": "2023-12-04T15:23:22.541307Z",
     "shell.execute_reply": "2023-12-04T15:23:22.540287Z"
    },
    "papermill": {
     "duration": 0.014944,
     "end_time": "2023-12-04T15:23:22.543668",
     "exception": false,
     "start_time": "2023-12-04T15:23:22.528724",
     "status": "completed"
    },
    "tags": []
   },
   "outputs": [],
   "source": [
    "counter = 0\n",
    "score = 0\n",
    "endscore = 0\n",
    "\n",
    "for tip in tips:\n",
    "    for number in tip:\n",
    "        if number in winners[counter]:\n",
    "            score+=1\n",
    "    card['winning_numbers'] = score\n",
    "    card['cardID'] = counter + 1\n",
    "    \n",
    "    counter+=1\n",
    "    endscore = endscore + score\n",
    "    score = 0\n",
    "    cards.append(card.copy())"
   ]
  },
  {
   "cell_type": "code",
   "execution_count": 9,
   "id": "b63a8ce9",
   "metadata": {
    "execution": {
     "iopub.execute_input": "2023-12-04T15:23:22.554028Z",
     "iopub.status.busy": "2023-12-04T15:23:22.553664Z",
     "iopub.status.idle": "2023-12-04T15:23:22.580121Z",
     "shell.execute_reply": "2023-12-04T15:23:22.578854Z"
    },
    "papermill": {
     "duration": 0.034243,
     "end_time": "2023-12-04T15:23:22.582343",
     "exception": false,
     "start_time": "2023-12-04T15:23:22.548100",
     "status": "completed"
    },
    "tags": []
   },
   "outputs": [
    {
     "data": {
      "text/plain": [
       "[{'cardID': 1, 'winning_numbers': 10, 'count': 1},\n",
       " {'cardID': 2, 'winning_numbers': 10, 'count': 1},\n",
       " {'cardID': 3, 'winning_numbers': 6, 'count': 1},\n",
       " {'cardID': 4, 'winning_numbers': 10, 'count': 1},\n",
       " {'cardID': 5, 'winning_numbers': 10, 'count': 1},\n",
       " {'cardID': 6, 'winning_numbers': 1, 'count': 1},\n",
       " {'cardID': 7, 'winning_numbers': 2, 'count': 1},\n",
       " {'cardID': 8, 'winning_numbers': 10, 'count': 1},\n",
       " {'cardID': 9, 'winning_numbers': 7, 'count': 1},\n",
       " {'cardID': 10, 'winning_numbers': 10, 'count': 1},\n",
       " {'cardID': 11, 'winning_numbers': 7, 'count': 1},\n",
       " {'cardID': 12, 'winning_numbers': 5, 'count': 1},\n",
       " {'cardID': 13, 'winning_numbers': 10, 'count': 1},\n",
       " {'cardID': 14, 'winning_numbers': 8, 'count': 1},\n",
       " {'cardID': 15, 'winning_numbers': 8, 'count': 1},\n",
       " {'cardID': 16, 'winning_numbers': 1, 'count': 1},\n",
       " {'cardID': 17, 'winning_numbers': 7, 'count': 1},\n",
       " {'cardID': 18, 'winning_numbers': 2, 'count': 1},\n",
       " {'cardID': 19, 'winning_numbers': 3, 'count': 1},\n",
       " {'cardID': 20, 'winning_numbers': 2, 'count': 1},\n",
       " {'cardID': 21, 'winning_numbers': 3, 'count': 1},\n",
       " {'cardID': 22, 'winning_numbers': 0, 'count': 1},\n",
       " {'cardID': 23, 'winning_numbers': 1, 'count': 1},\n",
       " {'cardID': 24, 'winning_numbers': 0, 'count': 1},\n",
       " {'cardID': 25, 'winning_numbers': 10, 'count': 1},\n",
       " {'cardID': 26, 'winning_numbers': 10, 'count': 1},\n",
       " {'cardID': 27, 'winning_numbers': 6, 'count': 1},\n",
       " {'cardID': 28, 'winning_numbers': 1, 'count': 1},\n",
       " {'cardID': 29, 'winning_numbers': 6, 'count': 1},\n",
       " {'cardID': 30, 'winning_numbers': 3, 'count': 1},\n",
       " {'cardID': 31, 'winning_numbers': 9, 'count': 1},\n",
       " {'cardID': 32, 'winning_numbers': 0, 'count': 1},\n",
       " {'cardID': 33, 'winning_numbers': 1, 'count': 1},\n",
       " {'cardID': 34, 'winning_numbers': 6, 'count': 1},\n",
       " {'cardID': 35, 'winning_numbers': 3, 'count': 1},\n",
       " {'cardID': 36, 'winning_numbers': 4, 'count': 1},\n",
       " {'cardID': 37, 'winning_numbers': 3, 'count': 1},\n",
       " {'cardID': 38, 'winning_numbers': 2, 'count': 1},\n",
       " {'cardID': 39, 'winning_numbers': 2, 'count': 1},\n",
       " {'cardID': 40, 'winning_numbers': 0, 'count': 1},\n",
       " {'cardID': 41, 'winning_numbers': 0, 'count': 1},\n",
       " {'cardID': 42, 'winning_numbers': 2, 'count': 1},\n",
       " {'cardID': 43, 'winning_numbers': 10, 'count': 1},\n",
       " {'cardID': 44, 'winning_numbers': 1, 'count': 1},\n",
       " {'cardID': 45, 'winning_numbers': 6, 'count': 1},\n",
       " {'cardID': 46, 'winning_numbers': 8, 'count': 1},\n",
       " {'cardID': 47, 'winning_numbers': 7, 'count': 1},\n",
       " {'cardID': 48, 'winning_numbers': 7, 'count': 1},\n",
       " {'cardID': 49, 'winning_numbers': 8, 'count': 1},\n",
       " {'cardID': 50, 'winning_numbers': 2, 'count': 1},\n",
       " {'cardID': 51, 'winning_numbers': 3, 'count': 1},\n",
       " {'cardID': 52, 'winning_numbers': 4, 'count': 1},\n",
       " {'cardID': 53, 'winning_numbers': 2, 'count': 1},\n",
       " {'cardID': 54, 'winning_numbers': 4, 'count': 1},\n",
       " {'cardID': 55, 'winning_numbers': 1, 'count': 1},\n",
       " {'cardID': 56, 'winning_numbers': 0, 'count': 1},\n",
       " {'cardID': 57, 'winning_numbers': 0, 'count': 1},\n",
       " {'cardID': 58, 'winning_numbers': 0, 'count': 1},\n",
       " {'cardID': 59, 'winning_numbers': 10, 'count': 1},\n",
       " {'cardID': 60, 'winning_numbers': 0, 'count': 1},\n",
       " {'cardID': 61, 'winning_numbers': 10, 'count': 1},\n",
       " {'cardID': 62, 'winning_numbers': 10, 'count': 1},\n",
       " {'cardID': 63, 'winning_numbers': 6, 'count': 1},\n",
       " {'cardID': 64, 'winning_numbers': 10, 'count': 1},\n",
       " {'cardID': 65, 'winning_numbers': 7, 'count': 1},\n",
       " {'cardID': 66, 'winning_numbers': 10, 'count': 1},\n",
       " {'cardID': 67, 'winning_numbers': 3, 'count': 1},\n",
       " {'cardID': 68, 'winning_numbers': 2, 'count': 1},\n",
       " {'cardID': 69, 'winning_numbers': 10, 'count': 1},\n",
       " {'cardID': 70, 'winning_numbers': 8, 'count': 1},\n",
       " {'cardID': 71, 'winning_numbers': 3, 'count': 1},\n",
       " {'cardID': 72, 'winning_numbers': 1, 'count': 1},\n",
       " {'cardID': 73, 'winning_numbers': 1, 'count': 1},\n",
       " {'cardID': 74, 'winning_numbers': 3, 'count': 1},\n",
       " {'cardID': 75, 'winning_numbers': 6, 'count': 1},\n",
       " {'cardID': 76, 'winning_numbers': 6, 'count': 1},\n",
       " {'cardID': 77, 'winning_numbers': 2, 'count': 1},\n",
       " {'cardID': 78, 'winning_numbers': 3, 'count': 1},\n",
       " {'cardID': 79, 'winning_numbers': 3, 'count': 1},\n",
       " {'cardID': 80, 'winning_numbers': 1, 'count': 1},\n",
       " {'cardID': 81, 'winning_numbers': 1, 'count': 1},\n",
       " {'cardID': 82, 'winning_numbers': 0, 'count': 1},\n",
       " {'cardID': 83, 'winning_numbers': 5, 'count': 1},\n",
       " {'cardID': 84, 'winning_numbers': 10, 'count': 1},\n",
       " {'cardID': 85, 'winning_numbers': 10, 'count': 1},\n",
       " {'cardID': 86, 'winning_numbers': 10, 'count': 1},\n",
       " {'cardID': 87, 'winning_numbers': 2, 'count': 1},\n",
       " {'cardID': 88, 'winning_numbers': 10, 'count': 1},\n",
       " {'cardID': 89, 'winning_numbers': 7, 'count': 1},\n",
       " {'cardID': 90, 'winning_numbers': 3, 'count': 1},\n",
       " {'cardID': 91, 'winning_numbers': 6, 'count': 1},\n",
       " {'cardID': 92, 'winning_numbers': 6, 'count': 1},\n",
       " {'cardID': 93, 'winning_numbers': 10, 'count': 1},\n",
       " {'cardID': 94, 'winning_numbers': 2, 'count': 1},\n",
       " {'cardID': 95, 'winning_numbers': 4, 'count': 1},\n",
       " {'cardID': 96, 'winning_numbers': 0, 'count': 1},\n",
       " {'cardID': 97, 'winning_numbers': 1, 'count': 1},\n",
       " {'cardID': 98, 'winning_numbers': 8, 'count': 1},\n",
       " {'cardID': 99, 'winning_numbers': 4, 'count': 1},\n",
       " {'cardID': 100, 'winning_numbers': 2, 'count': 1},\n",
       " {'cardID': 101, 'winning_numbers': 5, 'count': 1},\n",
       " {'cardID': 102, 'winning_numbers': 2, 'count': 1},\n",
       " {'cardID': 103, 'winning_numbers': 1, 'count': 1},\n",
       " {'cardID': 104, 'winning_numbers': 1, 'count': 1},\n",
       " {'cardID': 105, 'winning_numbers': 1, 'count': 1},\n",
       " {'cardID': 106, 'winning_numbers': 0, 'count': 1},\n",
       " {'cardID': 107, 'winning_numbers': 3, 'count': 1},\n",
       " {'cardID': 108, 'winning_numbers': 10, 'count': 1},\n",
       " {'cardID': 109, 'winning_numbers': 0, 'count': 1},\n",
       " {'cardID': 110, 'winning_numbers': 10, 'count': 1},\n",
       " {'cardID': 111, 'winning_numbers': 3, 'count': 1},\n",
       " {'cardID': 112, 'winning_numbers': 8, 'count': 1},\n",
       " {'cardID': 113, 'winning_numbers': 10, 'count': 1},\n",
       " {'cardID': 114, 'winning_numbers': 6, 'count': 1},\n",
       " {'cardID': 115, 'winning_numbers': 9, 'count': 1},\n",
       " {'cardID': 116, 'winning_numbers': 1, 'count': 1},\n",
       " {'cardID': 117, 'winning_numbers': 10, 'count': 1},\n",
       " {'cardID': 118, 'winning_numbers': 2, 'count': 1},\n",
       " {'cardID': 119, 'winning_numbers': 8, 'count': 1},\n",
       " {'cardID': 120, 'winning_numbers': 3, 'count': 1},\n",
       " {'cardID': 121, 'winning_numbers': 4, 'count': 1},\n",
       " {'cardID': 122, 'winning_numbers': 4, 'count': 1},\n",
       " {'cardID': 123, 'winning_numbers': 6, 'count': 1},\n",
       " {'cardID': 124, 'winning_numbers': 1, 'count': 1},\n",
       " {'cardID': 125, 'winning_numbers': 3, 'count': 1},\n",
       " {'cardID': 126, 'winning_numbers': 3, 'count': 1},\n",
       " {'cardID': 127, 'winning_numbers': 0, 'count': 1},\n",
       " {'cardID': 128, 'winning_numbers': 1, 'count': 1},\n",
       " {'cardID': 129, 'winning_numbers': 0, 'count': 1},\n",
       " {'cardID': 130, 'winning_numbers': 5, 'count': 1},\n",
       " {'cardID': 131, 'winning_numbers': 1, 'count': 1},\n",
       " {'cardID': 132, 'winning_numbers': 5, 'count': 1},\n",
       " {'cardID': 133, 'winning_numbers': 8, 'count': 1},\n",
       " {'cardID': 134, 'winning_numbers': 7, 'count': 1},\n",
       " {'cardID': 135, 'winning_numbers': 9, 'count': 1},\n",
       " {'cardID': 136, 'winning_numbers': 3, 'count': 1},\n",
       " {'cardID': 137, 'winning_numbers': 5, 'count': 1},\n",
       " {'cardID': 138, 'winning_numbers': 5, 'count': 1},\n",
       " {'cardID': 139, 'winning_numbers': 4, 'count': 1},\n",
       " {'cardID': 140, 'winning_numbers': 4, 'count': 1},\n",
       " {'cardID': 141, 'winning_numbers': 3, 'count': 1},\n",
       " {'cardID': 142, 'winning_numbers': 4, 'count': 1},\n",
       " {'cardID': 143, 'winning_numbers': 1, 'count': 1},\n",
       " {'cardID': 144, 'winning_numbers': 1, 'count': 1},\n",
       " {'cardID': 145, 'winning_numbers': 2, 'count': 1},\n",
       " {'cardID': 146, 'winning_numbers': 0, 'count': 1},\n",
       " {'cardID': 147, 'winning_numbers': 0, 'count': 1},\n",
       " {'cardID': 148, 'winning_numbers': 10, 'count': 1},\n",
       " {'cardID': 149, 'winning_numbers': 8, 'count': 1},\n",
       " {'cardID': 150, 'winning_numbers': 10, 'count': 1},\n",
       " {'cardID': 151, 'winning_numbers': 10, 'count': 1},\n",
       " {'cardID': 152, 'winning_numbers': 2, 'count': 1},\n",
       " {'cardID': 153, 'winning_numbers': 10, 'count': 1},\n",
       " {'cardID': 154, 'winning_numbers': 4, 'count': 1},\n",
       " {'cardID': 155, 'winning_numbers': 8, 'count': 1},\n",
       " {'cardID': 156, 'winning_numbers': 1, 'count': 1},\n",
       " {'cardID': 157, 'winning_numbers': 8, 'count': 1},\n",
       " {'cardID': 158, 'winning_numbers': 4, 'count': 1},\n",
       " {'cardID': 159, 'winning_numbers': 6, 'count': 1},\n",
       " {'cardID': 160, 'winning_numbers': 1, 'count': 1},\n",
       " {'cardID': 161, 'winning_numbers': 4, 'count': 1},\n",
       " {'cardID': 162, 'winning_numbers': 5, 'count': 1},\n",
       " {'cardID': 163, 'winning_numbers': 5, 'count': 1},\n",
       " {'cardID': 164, 'winning_numbers': 5, 'count': 1},\n",
       " {'cardID': 165, 'winning_numbers': 0, 'count': 1},\n",
       " {'cardID': 166, 'winning_numbers': 0, 'count': 1},\n",
       " {'cardID': 167, 'winning_numbers': 2, 'count': 1},\n",
       " {'cardID': 168, 'winning_numbers': 1, 'count': 1},\n",
       " {'cardID': 169, 'winning_numbers': 1, 'count': 1},\n",
       " {'cardID': 170, 'winning_numbers': 0, 'count': 1},\n",
       " {'cardID': 171, 'winning_numbers': 0, 'count': 1},\n",
       " {'cardID': 172, 'winning_numbers': 10, 'count': 1},\n",
       " {'cardID': 173, 'winning_numbers': 10, 'count': 1},\n",
       " {'cardID': 174, 'winning_numbers': 5, 'count': 1},\n",
       " {'cardID': 175, 'winning_numbers': 5, 'count': 1},\n",
       " {'cardID': 176, 'winning_numbers': 3, 'count': 1},\n",
       " {'cardID': 177, 'winning_numbers': 2, 'count': 1},\n",
       " {'cardID': 178, 'winning_numbers': 3, 'count': 1},\n",
       " {'cardID': 179, 'winning_numbers': 7, 'count': 1},\n",
       " {'cardID': 180, 'winning_numbers': 2, 'count': 1},\n",
       " {'cardID': 181, 'winning_numbers': 4, 'count': 1},\n",
       " {'cardID': 182, 'winning_numbers': 3, 'count': 1},\n",
       " {'cardID': 183, 'winning_numbers': 3, 'count': 1},\n",
       " {'cardID': 184, 'winning_numbers': 2, 'count': 1},\n",
       " {'cardID': 185, 'winning_numbers': 1, 'count': 1},\n",
       " {'cardID': 186, 'winning_numbers': 0, 'count': 1},\n",
       " {'cardID': 187, 'winning_numbers': 5, 'count': 1},\n",
       " {'cardID': 188, 'winning_numbers': 3, 'count': 1},\n",
       " {'cardID': 189, 'winning_numbers': 5, 'count': 1},\n",
       " {'cardID': 190, 'winning_numbers': 4, 'count': 1},\n",
       " {'cardID': 191, 'winning_numbers': 0, 'count': 1},\n",
       " {'cardID': 192, 'winning_numbers': 9, 'count': 1},\n",
       " {'cardID': 193, 'winning_numbers': 8, 'count': 1},\n",
       " {'cardID': 194, 'winning_numbers': 5, 'count': 1},\n",
       " {'cardID': 195, 'winning_numbers': 2, 'count': 1},\n",
       " {'cardID': 196, 'winning_numbers': 2, 'count': 1},\n",
       " {'cardID': 197, 'winning_numbers': 4, 'count': 1},\n",
       " {'cardID': 198, 'winning_numbers': 5, 'count': 1},\n",
       " {'cardID': 199, 'winning_numbers': 1, 'count': 1},\n",
       " {'cardID': 200, 'winning_numbers': 1, 'count': 1},\n",
       " {'cardID': 201, 'winning_numbers': 0, 'count': 1},\n",
       " {'cardID': 202, 'winning_numbers': 1, 'count': 1},\n",
       " {'cardID': 203, 'winning_numbers': 0, 'count': 1}]"
      ]
     },
     "execution_count": 9,
     "metadata": {},
     "output_type": "execute_result"
    }
   ],
   "source": [
    "cards"
   ]
  },
  {
   "cell_type": "code",
   "execution_count": 10,
   "id": "0ee7a444",
   "metadata": {
    "execution": {
     "iopub.execute_input": "2023-12-04T15:23:22.593144Z",
     "iopub.status.busy": "2023-12-04T15:23:22.592770Z",
     "iopub.status.idle": "2023-12-04T15:23:27.797708Z",
     "shell.execute_reply": "2023-12-04T15:23:27.796663Z"
    },
    "papermill": {
     "duration": 5.2133,
     "end_time": "2023-12-04T15:23:27.800298",
     "exception": false,
     "start_time": "2023-12-04T15:23:22.586998",
     "status": "completed"
    },
    "tags": []
   },
   "outputs": [],
   "source": [
    "for c in cards:\n",
    "    for cn in range(c['count']):\n",
    "        for wn in range(c['winning_numbers']):\n",
    "            cards[c['cardID']+wn]['count'] = cards[c['cardID']+wn]['count'] + 1"
   ]
  },
  {
   "cell_type": "code",
   "execution_count": 11,
   "id": "d4090cc4",
   "metadata": {
    "execution": {
     "iopub.execute_input": "2023-12-04T15:23:27.811661Z",
     "iopub.status.busy": "2023-12-04T15:23:27.811291Z",
     "iopub.status.idle": "2023-12-04T15:23:27.837821Z",
     "shell.execute_reply": "2023-12-04T15:23:27.836907Z"
    },
    "papermill": {
     "duration": 0.034946,
     "end_time": "2023-12-04T15:23:27.840040",
     "exception": false,
     "start_time": "2023-12-04T15:23:27.805094",
     "status": "completed"
    },
    "tags": []
   },
   "outputs": [
    {
     "data": {
      "text/plain": [
       "[{'cardID': 1, 'winning_numbers': 10, 'count': 1},\n",
       " {'cardID': 2, 'winning_numbers': 10, 'count': 2},\n",
       " {'cardID': 3, 'winning_numbers': 6, 'count': 4},\n",
       " {'cardID': 4, 'winning_numbers': 10, 'count': 8},\n",
       " {'cardID': 5, 'winning_numbers': 10, 'count': 16},\n",
       " {'cardID': 6, 'winning_numbers': 1, 'count': 32},\n",
       " {'cardID': 7, 'winning_numbers': 2, 'count': 64},\n",
       " {'cardID': 8, 'winning_numbers': 10, 'count': 96},\n",
       " {'cardID': 9, 'winning_numbers': 7, 'count': 192},\n",
       " {'cardID': 10, 'winning_numbers': 10, 'count': 316},\n",
       " {'cardID': 11, 'winning_numbers': 7, 'count': 632},\n",
       " {'cardID': 12, 'winning_numbers': 5, 'count': 1263},\n",
       " {'cardID': 13, 'winning_numbers': 10, 'count': 2524},\n",
       " {'cardID': 14, 'winning_numbers': 8, 'count': 5048},\n",
       " {'cardID': 15, 'winning_numbers': 8, 'count': 10088},\n",
       " {'cardID': 16, 'winning_numbers': 1, 'count': 20160},\n",
       " {'cardID': 17, 'winning_numbers': 7, 'count': 40128},\n",
       " {'cardID': 18, 'winning_numbers': 2, 'count': 58833},\n",
       " {'cardID': 19, 'winning_numbers': 3, 'count': 116938},\n",
       " {'cardID': 20, 'winning_numbers': 2, 'count': 233876},\n",
       " {'cardID': 21, 'winning_numbers': 3, 'count': 408603},\n",
       " {'cardID': 22, 'winning_numbers': 0, 'count': 817206},\n",
       " {'cardID': 23, 'winning_numbers': 1, 'count': 461344},\n",
       " {'cardID': 24, 'winning_numbers': 0, 'count': 910076},\n",
       " {'cardID': 25, 'winning_numbers': 10, 'count': 1},\n",
       " {'cardID': 26, 'winning_numbers': 10, 'count': 2},\n",
       " {'cardID': 27, 'winning_numbers': 6, 'count': 4},\n",
       " {'cardID': 28, 'winning_numbers': 1, 'count': 8},\n",
       " {'cardID': 29, 'winning_numbers': 6, 'count': 16},\n",
       " {'cardID': 30, 'winning_numbers': 3, 'count': 24},\n",
       " {'cardID': 31, 'winning_numbers': 9, 'count': 48},\n",
       " {'cardID': 32, 'winning_numbers': 0, 'count': 96},\n",
       " {'cardID': 33, 'winning_numbers': 1, 'count': 96},\n",
       " {'cardID': 34, 'winning_numbers': 6, 'count': 164},\n",
       " {'cardID': 35, 'winning_numbers': 3, 'count': 232},\n",
       " {'cardID': 36, 'winning_numbers': 4, 'count': 447},\n",
       " {'cardID': 37, 'winning_numbers': 3, 'count': 892},\n",
       " {'cardID': 38, 'winning_numbers': 2, 'count': 1784},\n",
       " {'cardID': 39, 'winning_numbers': 2, 'count': 3336},\n",
       " {'cardID': 40, 'winning_numbers': 0, 'count': 6672},\n",
       " {'cardID': 41, 'winning_numbers': 0, 'count': 3337},\n",
       " {'cardID': 42, 'winning_numbers': 2, 'count': 1},\n",
       " {'cardID': 43, 'winning_numbers': 10, 'count': 2},\n",
       " {'cardID': 44, 'winning_numbers': 1, 'count': 4},\n",
       " {'cardID': 45, 'winning_numbers': 6, 'count': 7},\n",
       " {'cardID': 46, 'winning_numbers': 8, 'count': 10},\n",
       " {'cardID': 47, 'winning_numbers': 7, 'count': 20},\n",
       " {'cardID': 48, 'winning_numbers': 7, 'count': 40},\n",
       " {'cardID': 49, 'winning_numbers': 8, 'count': 80},\n",
       " {'cardID': 50, 'winning_numbers': 2, 'count': 160},\n",
       " {'cardID': 51, 'winning_numbers': 3, 'count': 320},\n",
       " {'cardID': 52, 'winning_numbers': 4, 'count': 633},\n",
       " {'cardID': 53, 'winning_numbers': 2, 'count': 1106},\n",
       " {'cardID': 54, 'winning_numbers': 4, 'count': 2210},\n",
       " {'cardID': 55, 'winning_numbers': 1, 'count': 4070},\n",
       " {'cardID': 56, 'winning_numbers': 0, 'count': 6994},\n",
       " {'cardID': 57, 'winning_numbers': 0, 'count': 2291},\n",
       " {'cardID': 58, 'winning_numbers': 0, 'count': 2211},\n",
       " {'cardID': 59, 'winning_numbers': 10, 'count': 1},\n",
       " {'cardID': 60, 'winning_numbers': 0, 'count': 2},\n",
       " {'cardID': 61, 'winning_numbers': 10, 'count': 2},\n",
       " {'cardID': 62, 'winning_numbers': 10, 'count': 4},\n",
       " {'cardID': 63, 'winning_numbers': 6, 'count': 8},\n",
       " {'cardID': 64, 'winning_numbers': 10, 'count': 16},\n",
       " {'cardID': 65, 'winning_numbers': 7, 'count': 32},\n",
       " {'cardID': 66, 'winning_numbers': 10, 'count': 64},\n",
       " {'cardID': 67, 'winning_numbers': 3, 'count': 128},\n",
       " {'cardID': 68, 'winning_numbers': 2, 'count': 256},\n",
       " {'cardID': 69, 'winning_numbers': 10, 'count': 512},\n",
       " {'cardID': 70, 'winning_numbers': 8, 'count': 1015},\n",
       " {'cardID': 71, 'winning_numbers': 3, 'count': 1646},\n",
       " {'cardID': 72, 'winning_numbers': 1, 'count': 3290},\n",
       " {'cardID': 73, 'winning_numbers': 1, 'count': 6544},\n",
       " {'cardID': 74, 'winning_numbers': 3, 'count': 9798},\n",
       " {'cardID': 75, 'winning_numbers': 6, 'count': 11390},\n",
       " {'cardID': 76, 'winning_numbers': 6, 'count': 22780},\n",
       " {'cardID': 77, 'winning_numbers': 2, 'count': 45496},\n",
       " {'cardID': 78, 'winning_numbers': 3, 'count': 81194},\n",
       " {'cardID': 79, 'winning_numbers': 3, 'count': 161373},\n",
       " {'cardID': 80, 'winning_numbers': 1, 'count': 276738},\n",
       " {'cardID': 81, 'winning_numbers': 1, 'count': 553476},\n",
       " {'cardID': 82, 'winning_numbers': 0, 'count': 737630},\n",
       " {'cardID': 83, 'winning_numbers': 5, 'count': 1},\n",
       " {'cardID': 84, 'winning_numbers': 10, 'count': 2},\n",
       " {'cardID': 85, 'winning_numbers': 10, 'count': 4},\n",
       " {'cardID': 86, 'winning_numbers': 10, 'count': 8},\n",
       " {'cardID': 87, 'winning_numbers': 2, 'count': 16},\n",
       " {'cardID': 88, 'winning_numbers': 10, 'count': 32},\n",
       " {'cardID': 89, 'winning_numbers': 7, 'count': 63},\n",
       " {'cardID': 90, 'winning_numbers': 3, 'count': 110},\n",
       " {'cardID': 91, 'winning_numbers': 6, 'count': 220},\n",
       " {'cardID': 92, 'winning_numbers': 6, 'count': 440},\n",
       " {'cardID': 93, 'winning_numbers': 10, 'count': 880},\n",
       " {'cardID': 94, 'winning_numbers': 2, 'count': 1650},\n",
       " {'cardID': 95, 'winning_numbers': 4, 'count': 3298},\n",
       " {'cardID': 96, 'winning_numbers': 0, 'count': 6592},\n",
       " {'cardID': 97, 'winning_numbers': 1, 'count': 4871},\n",
       " {'cardID': 98, 'winning_numbers': 8, 'count': 9522},\n",
       " {'cardID': 99, 'winning_numbers': 4, 'count': 13701},\n",
       " {'cardID': 100, 'winning_numbers': 2, 'count': 24104},\n",
       " {'cardID': 101, 'winning_numbers': 5, 'count': 48208},\n",
       " {'cardID': 102, 'winning_numbers': 2, 'count': 96416},\n",
       " {'cardID': 103, 'winning_numbers': 1, 'count': 168728},\n",
       " {'cardID': 104, 'winning_numbers': 1, 'count': 322875},\n",
       " {'cardID': 105, 'winning_numbers': 1, 'count': 380606},\n",
       " {'cardID': 106, 'winning_numbers': 0, 'count': 438337},\n",
       " {'cardID': 107, 'winning_numbers': 3, 'count': 1},\n",
       " {'cardID': 108, 'winning_numbers': 10, 'count': 2},\n",
       " {'cardID': 109, 'winning_numbers': 0, 'count': 4},\n",
       " {'cardID': 110, 'winning_numbers': 10, 'count': 4},\n",
       " {'cardID': 111, 'winning_numbers': 3, 'count': 7},\n",
       " {'cardID': 112, 'winning_numbers': 8, 'count': 14},\n",
       " {'cardID': 113, 'winning_numbers': 10, 'count': 28},\n",
       " {'cardID': 114, 'winning_numbers': 6, 'count': 56},\n",
       " {'cardID': 115, 'winning_numbers': 9, 'count': 105},\n",
       " {'cardID': 116, 'winning_numbers': 1, 'count': 210},\n",
       " {'cardID': 117, 'winning_numbers': 10, 'count': 420},\n",
       " {'cardID': 118, 'winning_numbers': 2, 'count': 630},\n",
       " {'cardID': 119, 'winning_numbers': 8, 'count': 1258},\n",
       " {'cardID': 120, 'winning_numbers': 3, 'count': 2516},\n",
       " {'cardID': 121, 'winning_numbers': 4, 'count': 4328},\n",
       " {'cardID': 122, 'winning_numbers': 4, 'count': 8656},\n",
       " {'cardID': 123, 'winning_numbers': 6, 'count': 17312},\n",
       " {'cardID': 124, 'winning_numbers': 1, 'count': 32080},\n",
       " {'cardID': 125, 'winning_numbers': 3, 'count': 64055},\n",
       " {'cardID': 126, 'winning_numbers': 3, 'count': 91702},\n",
       " {'cardID': 127, 'winning_numbers': 0, 'count': 174748},\n",
       " {'cardID': 128, 'winning_numbers': 1, 'count': 173070},\n",
       " {'cardID': 129, 'winning_numbers': 0, 'count': 282085},\n",
       " {'cardID': 130, 'winning_numbers': 5, 'count': 1},\n",
       " {'cardID': 131, 'winning_numbers': 1, 'count': 2},\n",
       " {'cardID': 132, 'winning_numbers': 5, 'count': 4},\n",
       " {'cardID': 133, 'winning_numbers': 8, 'count': 6},\n",
       " {'cardID': 134, 'winning_numbers': 7, 'count': 12},\n",
       " {'cardID': 135, 'winning_numbers': 9, 'count': 24},\n",
       " {'cardID': 136, 'winning_numbers': 3, 'count': 47},\n",
       " {'cardID': 137, 'winning_numbers': 5, 'count': 94},\n",
       " {'cardID': 138, 'winning_numbers': 5, 'count': 184},\n",
       " {'cardID': 139, 'winning_numbers': 4, 'count': 368},\n",
       " {'cardID': 140, 'winning_numbers': 4, 'count': 689},\n",
       " {'cardID': 141, 'winning_numbers': 3, 'count': 1378},\n",
       " {'cardID': 142, 'winning_numbers': 4, 'count': 2738},\n",
       " {'cardID': 143, 'winning_numbers': 1, 'count': 5382},\n",
       " {'cardID': 144, 'winning_numbers': 1, 'count': 10212},\n",
       " {'cardID': 145, 'winning_numbers': 2, 'count': 12951},\n",
       " {'cardID': 146, 'winning_numbers': 0, 'count': 15690},\n",
       " {'cardID': 147, 'winning_numbers': 0, 'count': 12952},\n",
       " {'cardID': 148, 'winning_numbers': 10, 'count': 1},\n",
       " {'cardID': 149, 'winning_numbers': 8, 'count': 2},\n",
       " {'cardID': 150, 'winning_numbers': 10, 'count': 4},\n",
       " {'cardID': 151, 'winning_numbers': 10, 'count': 8},\n",
       " {'cardID': 152, 'winning_numbers': 2, 'count': 16},\n",
       " {'cardID': 153, 'winning_numbers': 10, 'count': 32},\n",
       " {'cardID': 154, 'winning_numbers': 4, 'count': 64},\n",
       " {'cardID': 155, 'winning_numbers': 8, 'count': 112},\n",
       " {'cardID': 156, 'winning_numbers': 1, 'count': 224},\n",
       " {'cardID': 157, 'winning_numbers': 8, 'count': 448},\n",
       " {'cardID': 158, 'winning_numbers': 4, 'count': 670},\n",
       " {'cardID': 159, 'winning_numbers': 6, 'count': 1275},\n",
       " {'cardID': 160, 'winning_numbers': 1, 'count': 2550},\n",
       " {'cardID': 161, 'winning_numbers': 4, 'count': 5096},\n",
       " {'cardID': 162, 'winning_numbers': 5, 'count': 7634},\n",
       " {'cardID': 163, 'winning_numbers': 5, 'count': 14598},\n",
       " {'cardID': 164, 'winning_numbers': 5, 'count': 29052},\n",
       " {'cardID': 165, 'winning_numbers': 0, 'count': 58104},\n",
       " {'cardID': 166, 'winning_numbers': 0, 'count': 51285},\n",
       " {'cardID': 167, 'winning_numbers': 2, 'count': 51285},\n",
       " {'cardID': 168, 'winning_numbers': 1, 'count': 94936},\n",
       " {'cardID': 169, 'winning_numbers': 1, 'count': 175274},\n",
       " {'cardID': 170, 'winning_numbers': 0, 'count': 175275},\n",
       " {'cardID': 171, 'winning_numbers': 0, 'count': 1},\n",
       " {'cardID': 172, 'winning_numbers': 10, 'count': 1},\n",
       " {'cardID': 173, 'winning_numbers': 10, 'count': 2},\n",
       " {'cardID': 174, 'winning_numbers': 5, 'count': 4},\n",
       " {'cardID': 175, 'winning_numbers': 5, 'count': 8},\n",
       " {'cardID': 176, 'winning_numbers': 3, 'count': 16},\n",
       " {'cardID': 177, 'winning_numbers': 2, 'count': 32},\n",
       " {'cardID': 178, 'winning_numbers': 3, 'count': 64},\n",
       " {'cardID': 179, 'winning_numbers': 7, 'count': 128},\n",
       " {'cardID': 180, 'winning_numbers': 2, 'count': 204},\n",
       " {'cardID': 181, 'winning_numbers': 4, 'count': 400},\n",
       " {'cardID': 182, 'winning_numbers': 3, 'count': 736},\n",
       " {'cardID': 183, 'winning_numbers': 3, 'count': 1267},\n",
       " {'cardID': 184, 'winning_numbers': 2, 'count': 2532},\n",
       " {'cardID': 185, 'winning_numbers': 1, 'count': 5064},\n",
       " {'cardID': 186, 'winning_numbers': 0, 'count': 8992},\n",
       " {'cardID': 187, 'winning_numbers': 5, 'count': 1},\n",
       " {'cardID': 188, 'winning_numbers': 3, 'count': 2},\n",
       " {'cardID': 189, 'winning_numbers': 5, 'count': 4},\n",
       " {'cardID': 190, 'winning_numbers': 4, 'count': 8},\n",
       " {'cardID': 191, 'winning_numbers': 0, 'count': 16},\n",
       " {'cardID': 192, 'winning_numbers': 9, 'count': 14},\n",
       " {'cardID': 193, 'winning_numbers': 8, 'count': 27},\n",
       " {'cardID': 194, 'winning_numbers': 5, 'count': 54},\n",
       " {'cardID': 195, 'winning_numbers': 2, 'count': 96},\n",
       " {'cardID': 196, 'winning_numbers': 2, 'count': 192},\n",
       " {'cardID': 197, 'winning_numbers': 4, 'count': 384},\n",
       " {'cardID': 198, 'winning_numbers': 5, 'count': 672},\n",
       " {'cardID': 199, 'winning_numbers': 1, 'count': 1152},\n",
       " {'cardID': 200, 'winning_numbers': 1, 'count': 2250},\n",
       " {'cardID': 201, 'winning_numbers': 0, 'count': 3348},\n",
       " {'cardID': 202, 'winning_numbers': 1, 'count': 673},\n",
       " {'cardID': 203, 'winning_numbers': 0, 'count': 1346}]"
      ]
     },
     "execution_count": 11,
     "metadata": {},
     "output_type": "execute_result"
    }
   ],
   "source": [
    "cards"
   ]
  },
  {
   "cell_type": "code",
   "execution_count": 12,
   "id": "a41aa481",
   "metadata": {
    "execution": {
     "iopub.execute_input": "2023-12-04T15:23:27.851838Z",
     "iopub.status.busy": "2023-12-04T15:23:27.851479Z",
     "iopub.status.idle": "2023-12-04T15:23:27.857912Z",
     "shell.execute_reply": "2023-12-04T15:23:27.856993Z"
    },
    "papermill": {
     "duration": 0.01468,
     "end_time": "2023-12-04T15:23:27.859923",
     "exception": false,
     "start_time": "2023-12-04T15:23:27.845243",
     "status": "completed"
    },
    "tags": []
   },
   "outputs": [
    {
     "data": {
      "text/plain": [
       "8172507"
      ]
     },
     "execution_count": 12,
     "metadata": {},
     "output_type": "execute_result"
    }
   ],
   "source": [
    "sum(item['count'] for item in cards)"
   ]
  },
  {
   "cell_type": "code",
   "execution_count": null,
   "id": "6aa9f325",
   "metadata": {
    "papermill": {
     "duration": 0.004685,
     "end_time": "2023-12-04T15:23:27.869833",
     "exception": false,
     "start_time": "2023-12-04T15:23:27.865148",
     "status": "completed"
    },
    "tags": []
   },
   "outputs": [],
   "source": []
  }
 ],
 "metadata": {
  "kaggle": {
   "accelerator": "none",
   "dataSources": [
    {
     "datasetId": 4105456,
     "sourceId": 7118393,
     "sourceType": "datasetVersion"
    }
   ],
   "dockerImageVersionId": 30587,
   "isGpuEnabled": false,
   "isInternetEnabled": true,
   "language": "python",
   "sourceType": "notebook"
  },
  "kernelspec": {
   "display_name": "Python 3",
   "language": "python",
   "name": "python3"
  },
  "language_info": {
   "codemirror_mode": {
    "name": "ipython",
    "version": 3
   },
   "file_extension": ".py",
   "mimetype": "text/x-python",
   "name": "python",
   "nbconvert_exporter": "python",
   "pygments_lexer": "ipython3",
   "version": "3.10.12"
  },
  "papermill": {
   "default_parameters": {},
   "duration": 8.865705,
   "end_time": "2023-12-04T15:23:28.193714",
   "environment_variables": {},
   "exception": null,
   "input_path": "__notebook__.ipynb",
   "output_path": "__notebook__.ipynb",
   "parameters": {},
   "start_time": "2023-12-04T15:23:19.328009",
   "version": "2.4.0"
  }
 },
 "nbformat": 4,
 "nbformat_minor": 5
}
