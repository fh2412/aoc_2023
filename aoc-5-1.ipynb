{
 "cells": [
  {
   "cell_type": "markdown",
   "id": "5fc3ad3f",
   "metadata": {
    "papermill": {
     "duration": 0.007359,
     "end_time": "2023-12-05T13:23:34.414395",
     "exception": false,
     "start_time": "2023-12-05T13:23:34.407036",
     "status": "completed"
    },
    "tags": []
   },
   "source": [
    "# **GET DATA**"
   ]
  },
  {
   "cell_type": "code",
   "execution_count": 1,
   "id": "748d9d21",
   "metadata": {
    "execution": {
     "iopub.execute_input": "2023-12-05T13:23:34.430267Z",
     "iopub.status.busy": "2023-12-05T13:23:34.429369Z",
     "iopub.status.idle": "2023-12-05T13:23:34.447034Z",
     "shell.execute_reply": "2023-12-05T13:23:34.446163Z"
    },
    "papermill": {
     "duration": 0.027647,
     "end_time": "2023-12-05T13:23:34.448907",
     "exception": false,
     "start_time": "2023-12-05T13:23:34.421260",
     "status": "completed"
    },
    "tags": []
   },
   "outputs": [
    {
     "data": {
      "text/plain": [
       "187"
      ]
     },
     "execution_count": 1,
     "metadata": {},
     "output_type": "execute_result"
    }
   ],
   "source": [
    "with open('/kaggle/input/aoc-5-fh/input_5.txt', 'r') as file:\n",
    "    # Read the lines and store them in an array\n",
    "    lines = file.readlines()\n",
    "\n",
    "lines = [s.rstrip('\\n') for s in lines]\n",
    "len(lines)"
   ]
  },
  {
   "cell_type": "code",
   "execution_count": 2,
   "id": "8431a81e",
   "metadata": {
    "execution": {
     "iopub.execute_input": "2023-12-05T13:23:34.463911Z",
     "iopub.status.busy": "2023-12-05T13:23:34.463605Z",
     "iopub.status.idle": "2023-12-05T13:23:34.469083Z",
     "shell.execute_reply": "2023-12-05T13:23:34.468186Z"
    },
    "papermill": {
     "duration": 0.015424,
     "end_time": "2023-12-05T13:23:34.471268",
     "exception": false,
     "start_time": "2023-12-05T13:23:34.455844",
     "status": "completed"
    },
    "tags": []
   },
   "outputs": [
    {
     "name": "stdout",
     "output_type": "stream",
     "text": [
      "[3121711159, 166491471, 3942191905, 154855415, 3423756552, 210503354, 2714499581, 312077252, 1371898531, 165242002, 752983293, 93023991, 3321707304, 21275084, 949929163, 233055973, 3626585, 170407229, 395618482, 226312891]\n"
     ]
    }
   ],
   "source": [
    "seeds=[]\n",
    "remaining_part = lines[0].split(':', 1)[1]\n",
    "numbers_as_strings = remaining_part.split()\n",
    "seeds = ([int(num) for num in numbers_as_strings])\n",
    "\n",
    "print(seeds)"
   ]
  },
  {
   "cell_type": "code",
   "execution_count": 3,
   "id": "b94ad11b",
   "metadata": {
    "execution": {
     "iopub.execute_input": "2023-12-05T13:23:34.486342Z",
     "iopub.status.busy": "2023-12-05T13:23:34.486077Z",
     "iopub.status.idle": "2023-12-05T13:23:34.490573Z",
     "shell.execute_reply": "2023-12-05T13:23:34.489782Z"
    },
    "papermill": {
     "duration": 0.014292,
     "end_time": "2023-12-05T13:23:34.492404",
     "exception": false,
     "start_time": "2023-12-05T13:23:34.478112",
     "status": "completed"
    },
    "tags": []
   },
   "outputs": [],
   "source": [
    "counter = 0\n",
    "c1 = 0\n",
    "seedSoilMap=[]\n",
    "soilFertilizerMap=[]\n",
    "fertilizerWaterMap=[]\n",
    "waterLightMap=[]\n",
    "lightTemperatureMap=[]\n",
    "temperatureHumidityMap=[]\n",
    "humidityLocationMap=[]"
   ]
  },
  {
   "cell_type": "code",
   "execution_count": 4,
   "id": "edc1e54e",
   "metadata": {
    "execution": {
     "iopub.execute_input": "2023-12-05T13:23:34.508384Z",
     "iopub.status.busy": "2023-12-05T13:23:34.508070Z",
     "iopub.status.idle": "2023-12-05T13:23:34.521359Z",
     "shell.execute_reply": "2023-12-05T13:23:34.520425Z"
    },
    "papermill": {
     "duration": 0.024172,
     "end_time": "2023-12-05T13:23:34.523506",
     "exception": false,
     "start_time": "2023-12-05T13:23:34.499334",
     "status": "completed"
    },
    "tags": []
   },
   "outputs": [
    {
     "name": "stdout",
     "output_type": "stream",
     "text": [
      "3693038281 1946208152 169064741\n",
      "3025397429 1673895501 272312651\n",
      "2522027478 1111558812 503369951\n",
      "3862103022 3729735566 432864274\n",
      "1111558812 2115272893 1374715990\n",
      "3356676818 3489988883 239746683\n",
      "3297710080 1614928763 58966738\n",
      "2486274802 4162599840 35752676\n",
      "3596423501 4198352516 96614780\n"
     ]
    }
   ],
   "source": [
    "for l in lines:\n",
    "    if(l == 'seed-to-soil map:'):\n",
    "        c1 = counter\n",
    "    if(l == 'soil-to-fertilizer map:'):\n",
    "        for sl in lines[c1+1:counter-1]:\n",
    "            values = list(map(int, sl.split()))\n",
    "            seedSoilMap.append(values)\n",
    "        c1 = counter\n",
    "    if(l == 'fertilizer-to-water map:'):\n",
    "        for sl in lines[c1+1:counter-1]:\n",
    "            values = list(map(int, sl.split()))\n",
    "            soilFertilizerMap.append(values)\n",
    "        c1 = counter\n",
    "    if(l == 'water-to-light map:'):\n",
    "        for sl in lines[c1+1:counter-1]:\n",
    "            values = list(map(int, sl.split()))\n",
    "            fertilizerWaterMap.append(values)\n",
    "        c1 = counter    \n",
    "    if(l == 'light-to-temperature map:'):\n",
    "        for sl in lines[c1+1:counter-1]:\n",
    "            values = list(map(int, sl.split()))\n",
    "            waterLightMap.append(values)\n",
    "        c1 = counter\n",
    "    if(l == 'temperature-to-humidity map:'):\n",
    "        for sl in lines[c1+1:counter-1]:\n",
    "            values = list(map(int, sl.split()))\n",
    "            lightTemperatureMap.append(values)\n",
    "        c1 = counter\n",
    "    if(l == 'humidity-to-location map:'):\n",
    "        for sl in lines[c1+1:counter-1]:\n",
    "            values = list(map(int, sl.split()))\n",
    "            temperatureHumidityMap.append(values)\n",
    "        c1 = counter\n",
    "    counter+=1\n",
    "\n",
    "for sl in lines[c1+1:len(lines)+1]:\n",
    "    print(sl)\n",
    "    values = list(map(int, sl.split()))\n",
    "    humidityLocationMap.append(values)"
   ]
  },
  {
   "cell_type": "code",
   "execution_count": 5,
   "id": "9904af4f",
   "metadata": {
    "execution": {
     "iopub.execute_input": "2023-12-05T13:23:34.539572Z",
     "iopub.status.busy": "2023-12-05T13:23:34.539045Z",
     "iopub.status.idle": "2023-12-05T13:23:34.545732Z",
     "shell.execute_reply": "2023-12-05T13:23:34.544825Z"
    },
    "papermill": {
     "duration": 0.017031,
     "end_time": "2023-12-05T13:23:34.547795",
     "exception": false,
     "start_time": "2023-12-05T13:23:34.530764",
     "status": "completed"
    },
    "tags": []
   },
   "outputs": [
    {
     "data": {
      "text/plain": [
       "[[3693038281, 1946208152, 169064741],\n",
       " [3025397429, 1673895501, 272312651],\n",
       " [2522027478, 1111558812, 503369951],\n",
       " [3862103022, 3729735566, 432864274],\n",
       " [1111558812, 2115272893, 1374715990],\n",
       " [3356676818, 3489988883, 239746683],\n",
       " [3297710080, 1614928763, 58966738],\n",
       " [2486274802, 4162599840, 35752676],\n",
       " [3596423501, 4198352516, 96614780]]"
      ]
     },
     "execution_count": 5,
     "metadata": {},
     "output_type": "execute_result"
    }
   ],
   "source": [
    "humidityLocationMap"
   ]
  },
  {
   "cell_type": "markdown",
   "id": "e509d1a7",
   "metadata": {
    "papermill": {
     "duration": 0.007231,
     "end_time": "2023-12-05T13:23:34.562235",
     "exception": false,
     "start_time": "2023-12-05T13:23:34.555004",
     "status": "completed"
    },
    "tags": []
   },
   "source": [
    "# **PART 1**"
   ]
  },
  {
   "cell_type": "code",
   "execution_count": 6,
   "id": "3e8c677a",
   "metadata": {
    "execution": {
     "iopub.execute_input": "2023-12-05T13:23:34.579199Z",
     "iopub.status.busy": "2023-12-05T13:23:34.578852Z",
     "iopub.status.idle": "2023-12-05T13:23:34.582965Z",
     "shell.execute_reply": "2023-12-05T13:23:34.582041Z"
    },
    "papermill": {
     "duration": 0.014427,
     "end_time": "2023-12-05T13:23:34.584900",
     "exception": false,
     "start_time": "2023-12-05T13:23:34.570473",
     "status": "completed"
    },
    "tags": []
   },
   "outputs": [],
   "source": [
    "dest=[]"
   ]
  },
  {
   "cell_type": "code",
   "execution_count": 7,
   "id": "911fc0d9",
   "metadata": {
    "execution": {
     "iopub.execute_input": "2023-12-05T13:23:34.600699Z",
     "iopub.status.busy": "2023-12-05T13:23:34.600378Z",
     "iopub.status.idle": "2023-12-05T13:23:34.607126Z",
     "shell.execute_reply": "2023-12-05T13:23:34.606250Z"
    },
    "papermill": {
     "duration": 0.017049,
     "end_time": "2023-12-05T13:23:34.609141",
     "exception": false,
     "start_time": "2023-12-05T13:23:34.592092",
     "status": "completed"
    },
    "tags": []
   },
   "outputs": [],
   "source": [
    "def loopthrough(map1, currentvalues):  \n",
    "    appended=0\n",
    "    destination=[]\n",
    "    for val in range(len(currentvalues)):\n",
    "        #print(\"VAL:\", currentvalues[val])\n",
    "        for i in range(len(map1)):\n",
    "            if(currentvalues[val]>=map1[i][1] and currentvalues[val]<=map1[i][1]+map1[i][2]-1):\n",
    "                #print(map1[i][0]+(currentvalues[val]-map1[i][1]))\n",
    "                #print(map1[i][1])\n",
    "                #print(map1[i][1]+map1[i][2])\n",
    "                destination.append(map1[i][0]+(currentvalues[val]-map1[i][1]))\n",
    "                appended=1\n",
    "        if(appended==0):\n",
    "            destination.append(currentvalues[val])\n",
    "            #print('No Match', val)\n",
    "        appended=0\n",
    "    return destination"
   ]
  },
  {
   "cell_type": "code",
   "execution_count": 8,
   "id": "588c4f8b",
   "metadata": {
    "execution": {
     "iopub.execute_input": "2023-12-05T13:23:34.624971Z",
     "iopub.status.busy": "2023-12-05T13:23:34.624627Z",
     "iopub.status.idle": "2023-12-05T13:23:34.628928Z",
     "shell.execute_reply": "2023-12-05T13:23:34.628052Z"
    },
    "papermill": {
     "duration": 0.014481,
     "end_time": "2023-12-05T13:23:34.630841",
     "exception": false,
     "start_time": "2023-12-05T13:23:34.616360",
     "status": "completed"
    },
    "tags": []
   },
   "outputs": [],
   "source": [
    "dest = loopthrough(seedSoilMap, seeds)                              #PART 1\n",
    "#dest = loopthrough(seedSoilMap, result)                             #PART 2 Brute Force"
   ]
  },
  {
   "cell_type": "code",
   "execution_count": 9,
   "id": "8ea0b7e2",
   "metadata": {
    "execution": {
     "iopub.execute_input": "2023-12-05T13:23:34.647092Z",
     "iopub.status.busy": "2023-12-05T13:23:34.646457Z",
     "iopub.status.idle": "2023-12-05T13:23:34.650637Z",
     "shell.execute_reply": "2023-12-05T13:23:34.649862Z"
    },
    "papermill": {
     "duration": 0.014314,
     "end_time": "2023-12-05T13:23:34.652583",
     "exception": false,
     "start_time": "2023-12-05T13:23:34.638269",
     "status": "completed"
    },
    "tags": []
   },
   "outputs": [],
   "source": [
    "dest = loopthrough(soilFertilizerMap, dest)"
   ]
  },
  {
   "cell_type": "code",
   "execution_count": 10,
   "id": "8cfcd614",
   "metadata": {
    "execution": {
     "iopub.execute_input": "2023-12-05T13:23:34.668386Z",
     "iopub.status.busy": "2023-12-05T13:23:34.668111Z",
     "iopub.status.idle": "2023-12-05T13:23:34.672467Z",
     "shell.execute_reply": "2023-12-05T13:23:34.671598Z"
    },
    "papermill": {
     "duration": 0.014367,
     "end_time": "2023-12-05T13:23:34.674409",
     "exception": false,
     "start_time": "2023-12-05T13:23:34.660042",
     "status": "completed"
    },
    "tags": []
   },
   "outputs": [],
   "source": [
    "dest = loopthrough(fertilizerWaterMap, dest)"
   ]
  },
  {
   "cell_type": "code",
   "execution_count": 11,
   "id": "2dfccc94",
   "metadata": {
    "execution": {
     "iopub.execute_input": "2023-12-05T13:23:34.690636Z",
     "iopub.status.busy": "2023-12-05T13:23:34.689968Z",
     "iopub.status.idle": "2023-12-05T13:23:34.694371Z",
     "shell.execute_reply": "2023-12-05T13:23:34.693463Z"
    },
    "papermill": {
     "duration": 0.014768,
     "end_time": "2023-12-05T13:23:34.696334",
     "exception": false,
     "start_time": "2023-12-05T13:23:34.681566",
     "status": "completed"
    },
    "tags": []
   },
   "outputs": [],
   "source": [
    "dest = loopthrough(waterLightMap, dest)"
   ]
  },
  {
   "cell_type": "code",
   "execution_count": 12,
   "id": "c0e7df6d",
   "metadata": {
    "execution": {
     "iopub.execute_input": "2023-12-05T13:23:34.712484Z",
     "iopub.status.busy": "2023-12-05T13:23:34.712160Z",
     "iopub.status.idle": "2023-12-05T13:23:34.716544Z",
     "shell.execute_reply": "2023-12-05T13:23:34.715667Z"
    },
    "papermill": {
     "duration": 0.014558,
     "end_time": "2023-12-05T13:23:34.718377",
     "exception": false,
     "start_time": "2023-12-05T13:23:34.703819",
     "status": "completed"
    },
    "tags": []
   },
   "outputs": [],
   "source": [
    "dest = loopthrough(lightTemperatureMap, dest)"
   ]
  },
  {
   "cell_type": "code",
   "execution_count": 13,
   "id": "53d46451",
   "metadata": {
    "execution": {
     "iopub.execute_input": "2023-12-05T13:23:34.734505Z",
     "iopub.status.busy": "2023-12-05T13:23:34.734192Z",
     "iopub.status.idle": "2023-12-05T13:23:34.738488Z",
     "shell.execute_reply": "2023-12-05T13:23:34.737748Z"
    },
    "papermill": {
     "duration": 0.014744,
     "end_time": "2023-12-05T13:23:34.740597",
     "exception": false,
     "start_time": "2023-12-05T13:23:34.725853",
     "status": "completed"
    },
    "tags": []
   },
   "outputs": [],
   "source": [
    "dest = loopthrough(temperatureHumidityMap, dest)"
   ]
  },
  {
   "cell_type": "code",
   "execution_count": 14,
   "id": "0e0959b3",
   "metadata": {
    "execution": {
     "iopub.execute_input": "2023-12-05T13:23:34.756606Z",
     "iopub.status.busy": "2023-12-05T13:23:34.756309Z",
     "iopub.status.idle": "2023-12-05T13:23:34.760441Z",
     "shell.execute_reply": "2023-12-05T13:23:34.759638Z"
    },
    "papermill": {
     "duration": 0.01433,
     "end_time": "2023-12-05T13:23:34.762367",
     "exception": false,
     "start_time": "2023-12-05T13:23:34.748037",
     "status": "completed"
    },
    "tags": []
   },
   "outputs": [],
   "source": [
    "dest = loopthrough(humidityLocationMap, dest)"
   ]
  },
  {
   "cell_type": "code",
   "execution_count": 15,
   "id": "5a0e9644",
   "metadata": {
    "execution": {
     "iopub.execute_input": "2023-12-05T13:23:34.778858Z",
     "iopub.status.busy": "2023-12-05T13:23:34.778070Z",
     "iopub.status.idle": "2023-12-05T13:23:34.783830Z",
     "shell.execute_reply": "2023-12-05T13:23:34.782988Z"
    },
    "papermill": {
     "duration": 0.016138,
     "end_time": "2023-12-05T13:23:34.785839",
     "exception": false,
     "start_time": "2023-12-05T13:23:34.769701",
     "status": "completed"
    },
    "tags": []
   },
   "outputs": [
    {
     "data": {
      "text/plain": [
       "535088217"
      ]
     },
     "execution_count": 15,
     "metadata": {},
     "output_type": "execute_result"
    }
   ],
   "source": [
    "min(dest)"
   ]
  },
  {
   "cell_type": "markdown",
   "id": "b8104b42",
   "metadata": {
    "papermill": {
     "duration": 0.00701,
     "end_time": "2023-12-05T13:23:34.800145",
     "exception": false,
     "start_time": "2023-12-05T13:23:34.793135",
     "status": "completed"
    },
    "tags": []
   },
   "source": [
    "# **PART 2 Brute Force**"
   ]
  },
  {
   "cell_type": "code",
   "execution_count": 16,
   "id": "4e81d7f0",
   "metadata": {
    "execution": {
     "iopub.execute_input": "2023-12-05T13:23:34.816571Z",
     "iopub.status.busy": "2023-12-05T13:23:34.815995Z",
     "iopub.status.idle": "2023-12-05T13:23:34.820145Z",
     "shell.execute_reply": "2023-12-05T13:23:34.819299Z"
    },
    "papermill": {
     "duration": 0.014557,
     "end_time": "2023-12-05T13:23:34.822098",
     "exception": false,
     "start_time": "2023-12-05T13:23:34.807541",
     "status": "completed"
    },
    "tags": []
   },
   "outputs": [],
   "source": [
    "result=[]\n",
    "dest=[]"
   ]
  },
  {
   "cell_type": "code",
   "execution_count": 17,
   "id": "080e0548",
   "metadata": {
    "execution": {
     "iopub.execute_input": "2023-12-05T13:23:34.838342Z",
     "iopub.status.busy": "2023-12-05T13:23:34.837594Z",
     "iopub.status.idle": "2023-12-05T13:23:34.841539Z",
     "shell.execute_reply": "2023-12-05T13:23:34.840673Z"
    },
    "papermill": {
     "duration": 0.014155,
     "end_time": "2023-12-05T13:23:34.843579",
     "exception": false,
     "start_time": "2023-12-05T13:23:34.829424",
     "status": "completed"
    },
    "tags": []
   },
   "outputs": [],
   "source": [
    "#for i in range(len(seeds)):\n",
    "#    if i % 2 == 0:\n",
    "#        for n in range(seeds[i+1]):\n",
    "#            result.append(seeds[i] + n)"
   ]
  },
  {
   "cell_type": "code",
   "execution_count": 18,
   "id": "d6361e2c",
   "metadata": {
    "execution": {
     "iopub.execute_input": "2023-12-05T13:23:34.860120Z",
     "iopub.status.busy": "2023-12-05T13:23:34.859856Z",
     "iopub.status.idle": "2023-12-05T13:23:34.863752Z",
     "shell.execute_reply": "2023-12-05T13:23:34.862925Z"
    },
    "papermill": {
     "duration": 0.014648,
     "end_time": "2023-12-05T13:23:34.865621",
     "exception": false,
     "start_time": "2023-12-05T13:23:34.850973",
     "status": "completed"
    },
    "tags": []
   },
   "outputs": [],
   "source": [
    "#dest = loopthrough(seedSoilMap, result)\n",
    "#dest = loopthrough(soilFertilizerMap, dest)\n",
    "#dest = loopthrough(fertilizerWaterMap, dest)\n",
    "#dest = loopthrough(waterLightMap, dest)\n",
    "#dest = loopthrough(lightTemperatureMap, dest)\n",
    "#dest = loopthrough(temperatureHumidityMap, dest)\n",
    "#dest = loopthrough(humidityLocationMap, dest)\n",
    "#print(min(dest))"
   ]
  },
  {
   "cell_type": "markdown",
   "id": "b114dd83",
   "metadata": {
    "papermill": {
     "duration": 0.006979,
     "end_time": "2023-12-05T13:23:34.879935",
     "exception": false,
     "start_time": "2023-12-05T13:23:34.872956",
     "status": "completed"
    },
    "tags": []
   },
   "source": [
    "# **PART 2 -Sehr viel Aufwand mit inspo von reddit**"
   ]
  },
  {
   "cell_type": "code",
   "execution_count": 19,
   "id": "e9cdfeb7",
   "metadata": {
    "execution": {
     "iopub.execute_input": "2023-12-05T13:23:34.895941Z",
     "iopub.status.busy": "2023-12-05T13:23:34.895593Z",
     "iopub.status.idle": "2023-12-05T13:23:34.902349Z",
     "shell.execute_reply": "2023-12-05T13:23:34.901465Z"
    },
    "papermill": {
     "duration": 0.017116,
     "end_time": "2023-12-05T13:23:34.904291",
     "exception": false,
     "start_time": "2023-12-05T13:23:34.887175",
     "status": "completed"
    },
    "tags": []
   },
   "outputs": [],
   "source": [
    "import re\n",
    "\n",
    "def parse_map(map_str):\n",
    "    lines = map_str.split('\\n')\n",
    "\n",
    "    def line_to_tuple(map_line):\n",
    "        return tuple(map(int, re.findall(r'\\d+', map_line)))\n",
    "\n",
    "    return list(map(line_to_tuple, lines[1:]))\n",
    "\n",
    "def range_overlap(r1, r2):                                                           #Ersatz für for i in range(len(map1)); schaut ob Zahl in einer Range ist. Wenn nicht nimmt die Zahl\n",
    "    if r1.start < r2.stop and r1.stop >= r2.start:\n",
    "        return range(max(r1.start, r2.start), min(r1.stop, r2.stop))\n",
    "    else:\n",
    "        return range(r1.start, r1.start)"
   ]
  },
  {
   "cell_type": "code",
   "execution_count": 20,
   "id": "c9bc9413",
   "metadata": {
    "execution": {
     "iopub.execute_input": "2023-12-05T13:23:34.920732Z",
     "iopub.status.busy": "2023-12-05T13:23:34.920087Z",
     "iopub.status.idle": "2023-12-05T13:23:34.937408Z",
     "shell.execute_reply": "2023-12-05T13:23:34.936717Z"
    },
    "papermill": {
     "duration": 0.027559,
     "end_time": "2023-12-05T13:23:34.939290",
     "exception": false,
     "start_time": "2023-12-05T13:23:34.911731",
     "status": "completed"
    },
    "tags": []
   },
   "outputs": [],
   "source": [
    "blobs = open(\"/kaggle/input/aoc-5-fh/input_5.txt\", \"r\").read()[:-1].split('\\n\\n')\n",
    "\n",
    "range_seeds = list(map(lambda i: range(seeds[i], seeds[i] + seeds[i + 1]), range(0, len(seeds), 2)))\n",
    "#print(range_seeds)\n",
    "maps_strs = blobs[1:]\n",
    "    \n",
    "converts = list(map(parse_map, maps_strs))\n",
    "\n",
    "current_gen = range_seeds\n",
    "\n",
    "for convert in converts:\n",
    "    converted = []\n",
    "    unconverted = current_gen\n",
    "    for (dst, src, rng) in convert:\n",
    "        convert_range = range(src, src + rng)\n",
    "        offset = dst - src\n",
    "\n",
    "        new_unconverted = []\n",
    "\n",
    "        for r in unconverted:\n",
    "            overlap = range_overlap(r, convert_range)         #sieht nach ob sich die Range des Seeds (in Runde 1) mit der Range in der Map schneidet\n",
    "            left = range(r.start, overlap.start)\n",
    "            if left.stop > left.start:\n",
    "                new_unconverted.append(left)\n",
    "\n",
    "            if overlap.stop > overlap.start:\n",
    "                converted.append(range(overlap.start + offset, overlap.stop + offset))\n",
    "\n",
    "            right = range(overlap.stop, r.stop)\n",
    "            if right.stop > right.start:\n",
    "                new_unconverted.append(right)\n",
    "\n",
    "        unconverted = new_unconverted\n",
    "\n",
    "    current_gen = converted + unconverted"
   ]
  },
  {
   "cell_type": "code",
   "execution_count": 21,
   "id": "24ab6c92",
   "metadata": {
    "execution": {
     "iopub.execute_input": "2023-12-05T13:23:34.955579Z",
     "iopub.status.busy": "2023-12-05T13:23:34.955308Z",
     "iopub.status.idle": "2023-12-05T13:23:34.961355Z",
     "shell.execute_reply": "2023-12-05T13:23:34.960445Z"
    },
    "papermill": {
     "duration": 0.016608,
     "end_time": "2023-12-05T13:23:34.963369",
     "exception": false,
     "start_time": "2023-12-05T13:23:34.946761",
     "status": "completed"
    },
    "tags": []
   },
   "outputs": [
    {
     "data": {
      "text/plain": [
       "51399228"
      ]
     },
     "execution_count": 21,
     "metadata": {},
     "output_type": "execute_result"
    }
   ],
   "source": [
    "min(map(lambda r: r.start, current_gen))"
   ]
  },
  {
   "cell_type": "code",
   "execution_count": null,
   "id": "f1c358e6",
   "metadata": {
    "papermill": {
     "duration": 0.007355,
     "end_time": "2023-12-05T13:23:34.978202",
     "exception": false,
     "start_time": "2023-12-05T13:23:34.970847",
     "status": "completed"
    },
    "tags": []
   },
   "outputs": [],
   "source": []
  }
 ],
 "metadata": {
  "kaggle": {
   "accelerator": "gpu",
   "dataSources": [
    {
     "datasetId": 4111074,
     "sourceId": 7126504,
     "sourceType": "datasetVersion"
    }
   ],
   "dockerImageVersionId": 30588,
   "isGpuEnabled": true,
   "isInternetEnabled": true,
   "language": "python",
   "sourceType": "notebook"
  },
  "kernelspec": {
   "display_name": "Python 3",
   "language": "python",
   "name": "python3"
  },
  "language_info": {
   "codemirror_mode": {
    "name": "ipython",
    "version": 3
   },
   "file_extension": ".py",
   "mimetype": "text/x-python",
   "name": "python",
   "nbconvert_exporter": "python",
   "pygments_lexer": "ipython3",
   "version": "3.10.12"
  },
  "papermill": {
   "default_parameters": {},
   "duration": 4.118359,
   "end_time": "2023-12-05T13:23:35.204110",
   "environment_variables": {},
   "exception": null,
   "input_path": "__notebook__.ipynb",
   "output_path": "__notebook__.ipynb",
   "parameters": {},
   "start_time": "2023-12-05T13:23:31.085751",
   "version": "2.4.0"
  }
 },
 "nbformat": 4,
 "nbformat_minor": 5
}
