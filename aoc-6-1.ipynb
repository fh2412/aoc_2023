{
 "cells": [
  {
   "cell_type": "markdown",
   "id": "158858d4",
   "metadata": {
    "papermill": {
     "duration": 0.008542,
     "end_time": "2023-12-06T08:10:49.608790",
     "exception": false,
     "start_time": "2023-12-06T08:10:49.600248",
     "status": "completed"
    },
    "tags": []
   },
   "source": [
    "# **GET DATA**"
   ]
  },
  {
   "cell_type": "code",
   "execution_count": 1,
   "id": "3a02b9e2",
   "metadata": {
    "execution": {
     "iopub.execute_input": "2023-12-06T08:10:49.628736Z",
     "iopub.status.busy": "2023-12-06T08:10:49.628339Z",
     "iopub.status.idle": "2023-12-06T08:10:49.648791Z",
     "shell.execute_reply": "2023-12-06T08:10:49.647975Z"
    },
    "papermill": {
     "duration": 0.032344,
     "end_time": "2023-12-06T08:10:49.651174",
     "exception": false,
     "start_time": "2023-12-06T08:10:49.618830",
     "status": "completed"
    },
    "tags": []
   },
   "outputs": [
    {
     "data": {
      "text/plain": [
       "2"
      ]
     },
     "execution_count": 1,
     "metadata": {},
     "output_type": "execute_result"
    }
   ],
   "source": [
    "import re\n",
    "with open('/kaggle/input/aoc-6-1-fh/input_6.txt', 'r') as file:\n",
    "    # Read the lines and store them in an array\n",
    "    lines = file.readlines()\n",
    "\n",
    "lines = [s.rstrip('\\n') for s in lines]\n",
    "len(lines)"
   ]
  },
  {
   "cell_type": "code",
   "execution_count": 2,
   "id": "92c7ec23",
   "metadata": {
    "execution": {
     "iopub.execute_input": "2023-12-06T08:10:49.670433Z",
     "iopub.status.busy": "2023-12-06T08:10:49.669742Z",
     "iopub.status.idle": "2023-12-06T08:10:49.675756Z",
     "shell.execute_reply": "2023-12-06T08:10:49.674651Z"
    },
    "papermill": {
     "duration": 0.018592,
     "end_time": "2023-12-06T08:10:49.678216",
     "exception": false,
     "start_time": "2023-12-06T08:10:49.659624",
     "status": "completed"
    },
    "tags": []
   },
   "outputs": [
    {
     "data": {
      "text/plain": [
       "['Time:        51     92     68     90',\n",
       " 'Distance:   222   2031   1126   1225']"
      ]
     },
     "execution_count": 2,
     "metadata": {},
     "output_type": "execute_result"
    }
   ],
   "source": [
    "lines"
   ]
  },
  {
   "cell_type": "code",
   "execution_count": 3,
   "id": "2825e067",
   "metadata": {
    "execution": {
     "iopub.execute_input": "2023-12-06T08:10:49.697507Z",
     "iopub.status.busy": "2023-12-06T08:10:49.696652Z",
     "iopub.status.idle": "2023-12-06T08:10:49.702046Z",
     "shell.execute_reply": "2023-12-06T08:10:49.700984Z"
    },
    "papermill": {
     "duration": 0.017832,
     "end_time": "2023-12-06T08:10:49.704518",
     "exception": false,
     "start_time": "2023-12-06T08:10:49.686686",
     "status": "completed"
    },
    "tags": []
   },
   "outputs": [],
   "source": [
    "time = re.findall(r'\\d+', lines[0])\n",
    "distance = re.findall(r'\\d+', lines[1])"
   ]
  },
  {
   "cell_type": "code",
   "execution_count": 4,
   "id": "c46eb533",
   "metadata": {
    "execution": {
     "iopub.execute_input": "2023-12-06T08:10:49.723262Z",
     "iopub.status.busy": "2023-12-06T08:10:49.722854Z",
     "iopub.status.idle": "2023-12-06T08:10:49.728801Z",
     "shell.execute_reply": "2023-12-06T08:10:49.727467Z"
    },
    "papermill": {
     "duration": 0.018582,
     "end_time": "2023-12-06T08:10:49.731513",
     "exception": false,
     "start_time": "2023-12-06T08:10:49.712931",
     "status": "completed"
    },
    "tags": []
   },
   "outputs": [
    {
     "name": "stdout",
     "output_type": "stream",
     "text": [
      "['51', '92', '68', '90'] ['222', '2031', '1126', '1225']\n"
     ]
    }
   ],
   "source": [
    "print(time, distance)"
   ]
  },
  {
   "cell_type": "markdown",
   "id": "b4548c80",
   "metadata": {
    "papermill": {
     "duration": 0.008085,
     "end_time": "2023-12-06T08:10:49.748190",
     "exception": false,
     "start_time": "2023-12-06T08:10:49.740105",
     "status": "completed"
    },
    "tags": []
   },
   "source": [
    "# **PART 1**"
   ]
  },
  {
   "cell_type": "code",
   "execution_count": 5,
   "id": "cc986ade",
   "metadata": {
    "execution": {
     "iopub.execute_input": "2023-12-06T08:10:49.767051Z",
     "iopub.status.busy": "2023-12-06T08:10:49.766648Z",
     "iopub.status.idle": "2023-12-06T08:10:49.771600Z",
     "shell.execute_reply": "2023-12-06T08:10:49.770505Z"
    },
    "papermill": {
     "duration": 0.017532,
     "end_time": "2023-12-06T08:10:49.774136",
     "exception": false,
     "start_time": "2023-12-06T08:10:49.756604",
     "status": "completed"
    },
    "tags": []
   },
   "outputs": [],
   "source": [
    "wins = 0\n",
    "score = 1"
   ]
  },
  {
   "cell_type": "code",
   "execution_count": 6,
   "id": "60e29b3c",
   "metadata": {
    "execution": {
     "iopub.execute_input": "2023-12-06T08:10:49.793097Z",
     "iopub.status.busy": "2023-12-06T08:10:49.792678Z",
     "iopub.status.idle": "2023-12-06T08:10:49.800077Z",
     "shell.execute_reply": "2023-12-06T08:10:49.798789Z"
    },
    "papermill": {
     "duration": 0.01972,
     "end_time": "2023-12-06T08:10:49.802561",
     "exception": false,
     "start_time": "2023-12-06T08:10:49.782841",
     "status": "completed"
    },
    "tags": []
   },
   "outputs": [],
   "source": [
    "for raceid in range(len(time)):    \n",
    "    for currentspeed in range(int(time[raceid])):\n",
    "        speed = int(currentspeed)\n",
    "        travel_time = int(time[raceid]) - speed\n",
    "        travel = speed * travel_time\n",
    "        if(travel>int(distance[raceid])):\n",
    "            wins += 1\n",
    "    score = score * wins\n",
    "    wins = 0"
   ]
  },
  {
   "cell_type": "code",
   "execution_count": 7,
   "id": "dfe54c7e",
   "metadata": {
    "execution": {
     "iopub.execute_input": "2023-12-06T08:10:49.822091Z",
     "iopub.status.busy": "2023-12-06T08:10:49.821198Z",
     "iopub.status.idle": "2023-12-06T08:10:49.828722Z",
     "shell.execute_reply": "2023-12-06T08:10:49.827571Z"
    },
    "papermill": {
     "duration": 0.019649,
     "end_time": "2023-12-06T08:10:49.831109",
     "exception": false,
     "start_time": "2023-12-06T08:10:49.811460",
     "status": "completed"
    },
    "tags": []
   },
   "outputs": [
    {
     "data": {
      "text/plain": [
       "500346"
      ]
     },
     "execution_count": 7,
     "metadata": {},
     "output_type": "execute_result"
    }
   ],
   "source": [
    "score"
   ]
  },
  {
   "cell_type": "markdown",
   "id": "739e92d5",
   "metadata": {
    "papermill": {
     "duration": 0.008237,
     "end_time": "2023-12-06T08:10:49.847995",
     "exception": false,
     "start_time": "2023-12-06T08:10:49.839758",
     "status": "completed"
    },
    "tags": []
   },
   "source": [
    "# **PART 2**"
   ]
  },
  {
   "cell_type": "code",
   "execution_count": 8,
   "id": "3528bee4",
   "metadata": {
    "execution": {
     "iopub.execute_input": "2023-12-06T08:10:49.867563Z",
     "iopub.status.busy": "2023-12-06T08:10:49.866987Z",
     "iopub.status.idle": "2023-12-06T08:10:49.872867Z",
     "shell.execute_reply": "2023-12-06T08:10:49.871476Z"
    },
    "papermill": {
     "duration": 0.019165,
     "end_time": "2023-12-06T08:10:49.875542",
     "exception": false,
     "start_time": "2023-12-06T08:10:49.856377",
     "status": "completed"
    },
    "tags": []
   },
   "outputs": [],
   "source": [
    "bigtime = int(''.join(time))\n",
    "bigdistc = int(''.join(distance))"
   ]
  },
  {
   "cell_type": "code",
   "execution_count": 9,
   "id": "64af10aa",
   "metadata": {
    "execution": {
     "iopub.execute_input": "2023-12-06T08:10:49.894818Z",
     "iopub.status.busy": "2023-12-06T08:10:49.894317Z",
     "iopub.status.idle": "2023-12-06T08:10:49.900619Z",
     "shell.execute_reply": "2023-12-06T08:10:49.899498Z"
    },
    "papermill": {
     "duration": 0.01885,
     "end_time": "2023-12-06T08:10:49.903076",
     "exception": false,
     "start_time": "2023-12-06T08:10:49.884226",
     "status": "completed"
    },
    "tags": []
   },
   "outputs": [
    {
     "name": "stdout",
     "output_type": "stream",
     "text": [
      "51926890 222203111261225\n"
     ]
    }
   ],
   "source": [
    "print(bigtime, bigdistc)"
   ]
  },
  {
   "cell_type": "code",
   "execution_count": 10,
   "id": "d8530c89",
   "metadata": {
    "execution": {
     "iopub.execute_input": "2023-12-06T08:10:49.922636Z",
     "iopub.status.busy": "2023-12-06T08:10:49.922237Z",
     "iopub.status.idle": "2023-12-06T08:11:22.992097Z",
     "shell.execute_reply": "2023-12-06T08:11:22.990676Z"
    },
    "papermill": {
     "duration": 33.083313,
     "end_time": "2023-12-06T08:11:22.995113",
     "exception": false,
     "start_time": "2023-12-06T08:10:49.911800",
     "status": "completed"
    },
    "tags": []
   },
   "outputs": [],
   "source": [
    "wins = 0\n",
    "for currentspeed in range(bigtime):\n",
    "    speed = int(currentspeed)\n",
    "    travel_time = bigtime - speed\n",
    "    travel = speed * travel_time\n",
    "    if(travel>bigdistc):\n",
    "        wins += 1"
   ]
  },
  {
   "cell_type": "code",
   "execution_count": 11,
   "id": "268d8c96",
   "metadata": {
    "execution": {
     "iopub.execute_input": "2023-12-06T08:11:23.016183Z",
     "iopub.status.busy": "2023-12-06T08:11:23.015732Z",
     "iopub.status.idle": "2023-12-06T08:11:23.024129Z",
     "shell.execute_reply": "2023-12-06T08:11:23.022685Z"
    },
    "papermill": {
     "duration": 0.022105,
     "end_time": "2023-12-06T08:11:23.026690",
     "exception": false,
     "start_time": "2023-12-06T08:11:23.004585",
     "status": "completed"
    },
    "tags": []
   },
   "outputs": [
    {
     "data": {
      "text/plain": [
       "42515755"
      ]
     },
     "execution_count": 11,
     "metadata": {},
     "output_type": "execute_result"
    }
   ],
   "source": [
    "wins"
   ]
  },
  {
   "cell_type": "markdown",
   "id": "4465961a",
   "metadata": {
    "papermill": {
     "duration": 0.00882,
     "end_time": "2023-12-06T08:11:23.044893",
     "exception": false,
     "start_time": "2023-12-06T08:11:23.036073",
     "status": "completed"
    },
    "tags": []
   },
   "source": [
    "# **PART 2 Efficient**"
   ]
  },
  {
   "cell_type": "code",
   "execution_count": 12,
   "id": "2d13957d",
   "metadata": {
    "execution": {
     "iopub.execute_input": "2023-12-06T08:11:23.064486Z",
     "iopub.status.busy": "2023-12-06T08:11:23.064033Z",
     "iopub.status.idle": "2023-12-06T08:11:23.070415Z",
     "shell.execute_reply": "2023-12-06T08:11:23.069091Z"
    },
    "papermill": {
     "duration": 0.019333,
     "end_time": "2023-12-06T08:11:23.073177",
     "exception": false,
     "start_time": "2023-12-06T08:11:23.053844",
     "status": "completed"
    },
    "tags": []
   },
   "outputs": [
    {
     "name": "stdout",
     "output_type": "stream",
     "text": [
      "51926890 222203111261225\n"
     ]
    }
   ],
   "source": [
    "print(bigtime, bigdistc)"
   ]
  },
  {
   "cell_type": "code",
   "execution_count": 13,
   "id": "3aa3bcaa",
   "metadata": {
    "execution": {
     "iopub.execute_input": "2023-12-06T08:11:23.094409Z",
     "iopub.status.busy": "2023-12-06T08:11:23.093387Z",
     "iopub.status.idle": "2023-12-06T08:11:23.100218Z",
     "shell.execute_reply": "2023-12-06T08:11:23.099227Z"
    },
    "papermill": {
     "duration": 0.020079,
     "end_time": "2023-12-06T08:11:23.102775",
     "exception": false,
     "start_time": "2023-12-06T08:11:23.082696",
     "status": "completed"
    },
    "tags": []
   },
   "outputs": [],
   "source": [
    "import math\n",
    "def solve_for_tp(bigdistc, bigtime):\n",
    "    # Calculate the discriminant\n",
    "    discriminant = bigtime ** 2 - 4 * 1 * bigdistc\n",
    "    sqrt_discriminant = math.sqrt(discriminant)\n",
    "        \n",
    "    # Calculate the two possible solutions for tp\n",
    "    tp1 = (bigtime + sqrt_discriminant) / 2\n",
    "    tp2 = (bigtime - sqrt_discriminant) / 2\n",
    "        \n",
    "    return tp1, tp2\n"
   ]
  },
  {
   "cell_type": "code",
   "execution_count": 14,
   "id": "529d240c",
   "metadata": {
    "execution": {
     "iopub.execute_input": "2023-12-06T08:11:23.122772Z",
     "iopub.status.busy": "2023-12-06T08:11:23.122096Z",
     "iopub.status.idle": "2023-12-06T08:11:23.127035Z",
     "shell.execute_reply": "2023-12-06T08:11:23.126204Z"
    },
    "papermill": {
     "duration": 0.017577,
     "end_time": "2023-12-06T08:11:23.129319",
     "exception": false,
     "start_time": "2023-12-06T08:11:23.111742",
     "status": "completed"
    },
    "tags": []
   },
   "outputs": [],
   "source": [
    "result = solve_for_tp(bigdistc, bigtime)"
   ]
  },
  {
   "cell_type": "code",
   "execution_count": 15,
   "id": "9bd56e6f",
   "metadata": {
    "execution": {
     "iopub.execute_input": "2023-12-06T08:11:23.149956Z",
     "iopub.status.busy": "2023-12-06T08:11:23.149260Z",
     "iopub.status.idle": "2023-12-06T08:11:23.155764Z",
     "shell.execute_reply": "2023-12-06T08:11:23.154547Z"
    },
    "papermill": {
     "duration": 0.019342,
     "end_time": "2023-12-06T08:11:23.158069",
     "exception": false,
     "start_time": "2023-12-06T08:11:23.138727",
     "status": "completed"
    },
    "tags": []
   },
   "outputs": [
    {
     "name": "stdout",
     "output_type": "stream",
     "text": [
      "42515755\n"
     ]
    }
   ],
   "source": [
    "print(round(result[0]-result[1]))"
   ]
  },
  {
   "attachments": {
    "892b707a-2ec4-4f76-9132-c618f975e401.png": {
     "image/png": "[encoded data removed]"
    }
   },
   "cell_type": "markdown",
   "id": "e610eb69",
   "metadata": {
    "papermill": {
     "duration": 0.008715,
     "end_time": "2023-12-06T08:11:23.176601",
     "exception": false,
     "start_time": "2023-12-06T08:11:23.167886",
     "status": "completed"
    },
    "tags": []
   },
   "source": [
    "![aoc_6.png](attachment:892b707a-2ec4-4f76-9132-c618f975e401.png)"
   ]
  }
 ],
 "metadata": {
  "kaggle": {
   "accelerator": "none",
   "dataSources": [
    {
     "datasetId": 4117222,
     "sourceId": 7135414,
     "sourceType": "datasetVersion"
    }
   ],
   "dockerImageVersionId": 30587,
   "isGpuEnabled": false,
   "isInternetEnabled": true,
   "language": "python",
   "sourceType": "notebook"
  },
  "kernelspec": {
   "display_name": "Python 3",
   "language": "python",
   "name": "python3"
  },
  "language_info": {
   "codemirror_mode": {
    "name": "ipython",
    "version": 3
   },
   "file_extension": ".py",
   "mimetype": "text/x-python",
   "name": "python",
   "nbconvert_exporter": "python",
   "pygments_lexer": "ipython3",
   "version": "3.10.12"
  },
  "papermill": {
   "default_parameters": {},
   "duration": 37.574934,
   "end_time": "2023-12-06T08:11:23.606078",
   "environment_variables": {},
   "exception": null,
   "input_path": "__notebook__.ipynb",
   "output_path": "__notebook__.ipynb",
   "parameters": {},
   "start_time": "2023-12-06T08:10:46.031144",
   "version": "2.4.0"
  }
 },
 "nbformat": 4,
 "nbformat_minor": 5
}
