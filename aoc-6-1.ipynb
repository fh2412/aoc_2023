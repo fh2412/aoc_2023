{
 "cells": [
  {
   "cell_type": "markdown",
   "id": "e08361c8",
   "metadata": {
    "papermill": {
     "duration": 0.003487,
     "end_time": "2023-12-06T07:20:13.136328",
     "exception": false,
     "start_time": "2023-12-06T07:20:13.132841",
     "status": "completed"
    },
    "tags": []
   },
   "source": [
    "# **GET DATA**"
   ]
  },
  {
   "cell_type": "code",
   "execution_count": 1,
   "id": "30a8ad90",
   "metadata": {
    "execution": {
     "iopub.execute_input": "2023-12-06T07:20:13.145537Z",
     "iopub.status.busy": "2023-12-06T07:20:13.145204Z",
     "iopub.status.idle": "2023-12-06T07:20:13.159754Z",
     "shell.execute_reply": "2023-12-06T07:20:13.158779Z"
    },
    "papermill": {
     "duration": 0.020328,
     "end_time": "2023-12-06T07:20:13.161316",
     "exception": false,
     "start_time": "2023-12-06T07:20:13.140988",
     "status": "completed"
    },
    "tags": []
   },
   "outputs": [
    {
     "data": {
      "text/plain": [
       "2"
      ]
     },
     "execution_count": 1,
     "metadata": {},
     "output_type": "execute_result"
    }
   ],
   "source": [
    "import re\n",
    "with open('/kaggle/input/aoc-6-1-fh/input_6.txt', 'r') as file:\n",
    "    # Read the lines and store them in an array\n",
    "    lines = file.readlines()\n",
    "\n",
    "lines = [s.rstrip('\\n') for s in lines]\n",
    "len(lines)"
   ]
  },
  {
   "cell_type": "code",
   "execution_count": 2,
   "id": "c25e24fe",
   "metadata": {
    "execution": {
     "iopub.execute_input": "2023-12-06T07:20:13.169125Z",
     "iopub.status.busy": "2023-12-06T07:20:13.168438Z",
     "iopub.status.idle": "2023-12-06T07:20:13.173052Z",
     "shell.execute_reply": "2023-12-06T07:20:13.172524Z"
    },
    "papermill": {
     "duration": 0.009849,
     "end_time": "2023-12-06T07:20:13.174401",
     "exception": false,
     "start_time": "2023-12-06T07:20:13.164552",
     "status": "completed"
    },
    "tags": []
   },
   "outputs": [
    {
     "data": {
      "text/plain": [
       "['Time:        51     92     68     90',\n",
       " 'Distance:   222   2031   1126   1225']"
      ]
     },
     "execution_count": 2,
     "metadata": {},
     "output_type": "execute_result"
    }
   ],
   "source": [
    "lines"
   ]
  },
  {
   "cell_type": "code",
   "execution_count": 3,
   "id": "fc99e628",
   "metadata": {
    "execution": {
     "iopub.execute_input": "2023-12-06T07:20:13.182085Z",
     "iopub.status.busy": "2023-12-06T07:20:13.181668Z",
     "iopub.status.idle": "2023-12-06T07:20:13.185032Z",
     "shell.execute_reply": "2023-12-06T07:20:13.184489Z"
    },
    "papermill": {
     "duration": 0.008769,
     "end_time": "2023-12-06T07:20:13.186501",
     "exception": false,
     "start_time": "2023-12-06T07:20:13.177732",
     "status": "completed"
    },
    "tags": []
   },
   "outputs": [],
   "source": [
    "time = re.findall(r'\\d+', lines[0])\n",
    "distance = re.findall(r'\\d+', lines[1])"
   ]
  },
  {
   "cell_type": "code",
   "execution_count": 4,
   "id": "9ea0ede2",
   "metadata": {
    "execution": {
     "iopub.execute_input": "2023-12-06T07:20:13.195876Z",
     "iopub.status.busy": "2023-12-06T07:20:13.195411Z",
     "iopub.status.idle": "2023-12-06T07:20:13.200184Z",
     "shell.execute_reply": "2023-12-06T07:20:13.199424Z"
    },
    "papermill": {
     "duration": 0.011165,
     "end_time": "2023-12-06T07:20:13.201818",
     "exception": false,
     "start_time": "2023-12-06T07:20:13.190653",
     "status": "completed"
    },
    "tags": []
   },
   "outputs": [
    {
     "name": "stdout",
     "output_type": "stream",
     "text": [
      "['51', '92', '68', '90'] ['222', '2031', '1126', '1225']\n"
     ]
    }
   ],
   "source": [
    "print(time, distance)"
   ]
  },
  {
   "cell_type": "markdown",
   "id": "24c79d3a",
   "metadata": {
    "papermill": {
     "duration": 0.003228,
     "end_time": "2023-12-06T07:20:13.208458",
     "exception": false,
     "start_time": "2023-12-06T07:20:13.205230",
     "status": "completed"
    },
    "tags": []
   },
   "source": [
    "# **PART 1**"
   ]
  },
  {
   "cell_type": "code",
   "execution_count": 5,
   "id": "d1239106",
   "metadata": {
    "execution": {
     "iopub.execute_input": "2023-12-06T07:20:13.216517Z",
     "iopub.status.busy": "2023-12-06T07:20:13.215986Z",
     "iopub.status.idle": "2023-12-06T07:20:13.219052Z",
     "shell.execute_reply": "2023-12-06T07:20:13.218519Z"
    },
    "papermill": {
     "duration": 0.008702,
     "end_time": "2023-12-06T07:20:13.220457",
     "exception": false,
     "start_time": "2023-12-06T07:20:13.211755",
     "status": "completed"
    },
    "tags": []
   },
   "outputs": [],
   "source": [
    "wins = 0\n",
    "score = 1"
   ]
  },
  {
   "cell_type": "code",
   "execution_count": 6,
   "id": "102bfff9",
   "metadata": {
    "execution": {
     "iopub.execute_input": "2023-12-06T07:20:13.228251Z",
     "iopub.status.busy": "2023-12-06T07:20:13.227711Z",
     "iopub.status.idle": "2023-12-06T07:20:13.232001Z",
     "shell.execute_reply": "2023-12-06T07:20:13.231487Z"
    },
    "papermill": {
     "duration": 0.009643,
     "end_time": "2023-12-06T07:20:13.233452",
     "exception": false,
     "start_time": "2023-12-06T07:20:13.223809",
     "status": "completed"
    },
    "tags": []
   },
   "outputs": [],
   "source": [
    "for raceid in range(len(time)):    \n",
    "    for currentspeed in range(int(time[raceid])):\n",
    "        speed = int(currentspeed)\n",
    "        travel_time = int(time[raceid]) - speed\n",
    "        travel = speed * travel_time\n",
    "        if(travel>int(distance[raceid])):\n",
    "            wins += 1\n",
    "    score = score * wins\n",
    "    wins = 0"
   ]
  },
  {
   "cell_type": "code",
   "execution_count": 7,
   "id": "dc294e40",
   "metadata": {
    "execution": {
     "iopub.execute_input": "2023-12-06T07:20:13.241101Z",
     "iopub.status.busy": "2023-12-06T07:20:13.240861Z",
     "iopub.status.idle": "2023-12-06T07:20:13.245554Z",
     "shell.execute_reply": "2023-12-06T07:20:13.244696Z"
    },
    "papermill": {
     "duration": 0.010161,
     "end_time": "2023-12-06T07:20:13.246999",
     "exception": false,
     "start_time": "2023-12-06T07:20:13.236838",
     "status": "completed"
    },
    "tags": []
   },
   "outputs": [
    {
     "data": {
      "text/plain": [
       "500346"
      ]
     },
     "execution_count": 7,
     "metadata": {},
     "output_type": "execute_result"
    }
   ],
   "source": [
    "score"
   ]
  },
  {
   "cell_type": "markdown",
   "id": "3c479cde",
   "metadata": {
    "papermill": {
     "duration": 0.003155,
     "end_time": "2023-12-06T07:20:13.253456",
     "exception": false,
     "start_time": "2023-12-06T07:20:13.250301",
     "status": "completed"
    },
    "tags": []
   },
   "source": [
    "# **PART 2**"
   ]
  },
  {
   "cell_type": "code",
   "execution_count": 8,
   "id": "5cc7bfaa",
   "metadata": {
    "execution": {
     "iopub.execute_input": "2023-12-06T07:20:13.261556Z",
     "iopub.status.busy": "2023-12-06T07:20:13.261188Z",
     "iopub.status.idle": "2023-12-06T07:20:13.265158Z",
     "shell.execute_reply": "2023-12-06T07:20:13.264245Z"
    },
    "papermill": {
     "duration": 0.010028,
     "end_time": "2023-12-06T07:20:13.266838",
     "exception": false,
     "start_time": "2023-12-06T07:20:13.256810",
     "status": "completed"
    },
    "tags": []
   },
   "outputs": [],
   "source": [
    "bigtime = int(''.join(time))\n",
    "bigdistc = int(''.join(distance))"
   ]
  },
  {
   "cell_type": "code",
   "execution_count": 9,
   "id": "a8c5e369",
   "metadata": {
    "execution": {
     "iopub.execute_input": "2023-12-06T07:20:13.274690Z",
     "iopub.status.busy": "2023-12-06T07:20:13.274386Z",
     "iopub.status.idle": "2023-12-06T07:20:13.278748Z",
     "shell.execute_reply": "2023-12-06T07:20:13.277811Z"
    },
    "papermill": {
     "duration": 0.010293,
     "end_time": "2023-12-06T07:20:13.280513",
     "exception": false,
     "start_time": "2023-12-06T07:20:13.270220",
     "status": "completed"
    },
    "tags": []
   },
   "outputs": [
    {
     "name": "stdout",
     "output_type": "stream",
     "text": [
      "51926890 222203111261225\n"
     ]
    }
   ],
   "source": [
    "print(bigtime, bigdistc)"
   ]
  },
  {
   "cell_type": "code",
   "execution_count": 10,
   "id": "86308916",
   "metadata": {
    "execution": {
     "iopub.execute_input": "2023-12-06T07:20:13.288590Z",
     "iopub.status.busy": "2023-12-06T07:20:13.288295Z",
     "iopub.status.idle": "2023-12-06T07:20:34.036040Z",
     "shell.execute_reply": "2023-12-06T07:20:34.034853Z"
    },
    "papermill": {
     "duration": 20.754146,
     "end_time": "2023-12-06T07:20:34.038201",
     "exception": false,
     "start_time": "2023-12-06T07:20:13.284055",
     "status": "completed"
    },
    "tags": []
   },
   "outputs": [],
   "source": [
    "wins = 0\n",
    "for currentspeed in range(bigtime):\n",
    "    speed = int(currentspeed)\n",
    "    travel_time = bigtime - speed\n",
    "    travel = speed * travel_time\n",
    "    if(travel>bigdistc):\n",
    "        wins += 1"
   ]
  },
  {
   "cell_type": "code",
   "execution_count": 11,
   "id": "dbf226c0",
   "metadata": {
    "execution": {
     "iopub.execute_input": "2023-12-06T07:20:34.047520Z",
     "iopub.status.busy": "2023-12-06T07:20:34.047099Z",
     "iopub.status.idle": "2023-12-06T07:20:34.052390Z",
     "shell.execute_reply": "2023-12-06T07:20:34.051531Z"
    },
    "papermill": {
     "duration": 0.011936,
     "end_time": "2023-12-06T07:20:34.054057",
     "exception": false,
     "start_time": "2023-12-06T07:20:34.042121",
     "status": "completed"
    },
    "tags": []
   },
   "outputs": [
    {
     "data": {
      "text/plain": [
       "42515755"
      ]
     },
     "execution_count": 11,
     "metadata": {},
     "output_type": "execute_result"
    }
   ],
   "source": [
    "wins"
   ]
  }
 ],
 "metadata": {
  "kaggle": {
   "accelerator": "none",
   "dataSources": [
    {
     "datasetId": 4117222,
     "sourceId": 7135414,
     "sourceType": "datasetVersion"
    }
   ],
   "dockerImageVersionId": 30587,
   "isGpuEnabled": false,
   "isInternetEnabled": true,
   "language": "python",
   "sourceType": "notebook"
  },
  "kernelspec": {
   "display_name": "Python 3",
   "language": "python",
   "name": "python3"
  },
  "language_info": {
   "codemirror_mode": {
    "name": "ipython",
    "version": 3
   },
   "file_extension": ".py",
   "mimetype": "text/x-python",
   "name": "python",
   "nbconvert_exporter": "python",
   "pygments_lexer": "ipython3",
   "version": "3.10.12"
  },
  "papermill": {
   "default_parameters": {},
   "duration": 23.609617,
   "end_time": "2023-12-06T07:20:34.375765",
   "environment_variables": {},
   "exception": null,
   "input_path": "__notebook__.ipynb",
   "output_path": "__notebook__.ipynb",
   "parameters": {},
   "start_time": "2023-12-06T07:20:10.766148",
   "version": "2.4.0"
  }
 },
 "nbformat": 4,
 "nbformat_minor": 5
}
