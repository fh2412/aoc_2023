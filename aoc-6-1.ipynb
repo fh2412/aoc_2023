{
 "cells": [
  {
   "cell_type": "markdown",
   "id": "0493fef6",
   "metadata": {
    "papermill": {
     "duration": 0.004711,
     "end_time": "2023-12-06T08:09:47.526413",
     "exception": false,
     "start_time": "2023-12-06T08:09:47.521702",
     "status": "completed"
    },
    "tags": []
   },
   "source": [
    "# **GET DATA**"
   ]
  },
  {
   "cell_type": "code",
   "execution_count": 1,
   "id": "ddedfeae",
   "metadata": {
    "execution": {
     "iopub.execute_input": "2023-12-06T08:09:47.538416Z",
     "iopub.status.busy": "2023-12-06T08:09:47.537990Z",
     "iopub.status.idle": "2023-12-06T08:09:47.556776Z",
     "shell.execute_reply": "2023-12-06T08:09:47.555202Z"
    },
    "papermill": {
     "duration": 0.026403,
     "end_time": "2023-12-06T08:09:47.558818",
     "exception": false,
     "start_time": "2023-12-06T08:09:47.532415",
     "status": "completed"
    },
    "tags": []
   },
   "outputs": [
    {
     "data": {
      "text/plain": [
       "2"
      ]
     },
     "execution_count": 1,
     "metadata": {},
     "output_type": "execute_result"
    }
   ],
   "source": [
    "import re\n",
    "with open('/kaggle/input/aoc-6-1-fh/input_6.txt', 'r') as file:\n",
    "    # Read the lines and store them in an array\n",
    "    lines = file.readlines()\n",
    "\n",
    "lines = [s.rstrip('\\n') for s in lines]\n",
    "len(lines)"
   ]
  },
  {
   "cell_type": "code",
   "execution_count": 2,
   "id": "70835fd4",
   "metadata": {
    "execution": {
     "iopub.execute_input": "2023-12-06T08:09:47.569278Z",
     "iopub.status.busy": "2023-12-06T08:09:47.568632Z",
     "iopub.status.idle": "2023-12-06T08:09:47.575478Z",
     "shell.execute_reply": "2023-12-06T08:09:47.573871Z"
    },
    "papermill": {
     "duration": 0.014007,
     "end_time": "2023-12-06T08:09:47.577498",
     "exception": false,
     "start_time": "2023-12-06T08:09:47.563491",
     "status": "completed"
    },
    "tags": []
   },
   "outputs": [
    {
     "data": {
      "text/plain": [
       "['Time:        51     92     68     90',\n",
       " 'Distance:   222   2031   1126   1225']"
      ]
     },
     "execution_count": 2,
     "metadata": {},
     "output_type": "execute_result"
    }
   ],
   "source": [
    "lines"
   ]
  },
  {
   "cell_type": "code",
   "execution_count": 3,
   "id": "5e61e982",
   "metadata": {
    "execution": {
     "iopub.execute_input": "2023-12-06T08:09:47.589162Z",
     "iopub.status.busy": "2023-12-06T08:09:47.588760Z",
     "iopub.status.idle": "2023-12-06T08:09:47.594074Z",
     "shell.execute_reply": "2023-12-06T08:09:47.593095Z"
    },
    "papermill": {
     "duration": 0.013761,
     "end_time": "2023-12-06T08:09:47.595886",
     "exception": false,
     "start_time": "2023-12-06T08:09:47.582125",
     "status": "completed"
    },
    "tags": []
   },
   "outputs": [],
   "source": [
    "time = re.findall(r'\\d+', lines[0])\n",
    "distance = re.findall(r'\\d+', lines[1])"
   ]
  },
  {
   "cell_type": "code",
   "execution_count": 4,
   "id": "b40693c1",
   "metadata": {
    "execution": {
     "iopub.execute_input": "2023-12-06T08:09:47.607153Z",
     "iopub.status.busy": "2023-12-06T08:09:47.606818Z",
     "iopub.status.idle": "2023-12-06T08:09:47.610970Z",
     "shell.execute_reply": "2023-12-06T08:09:47.610411Z"
    },
    "papermill": {
     "duration": 0.012246,
     "end_time": "2023-12-06T08:09:47.613180",
     "exception": false,
     "start_time": "2023-12-06T08:09:47.600934",
     "status": "completed"
    },
    "tags": []
   },
   "outputs": [
    {
     "name": "stdout",
     "output_type": "stream",
     "text": [
      "['51', '92', '68', '90'] ['222', '2031', '1126', '1225']\n"
     ]
    }
   ],
   "source": [
    "print(time, distance)"
   ]
  },
  {
   "cell_type": "markdown",
   "id": "f08eeb84",
   "metadata": {
    "papermill": {
     "duration": 0.00411,
     "end_time": "2023-12-06T08:09:47.621849",
     "exception": false,
     "start_time": "2023-12-06T08:09:47.617739",
     "status": "completed"
    },
    "tags": []
   },
   "source": [
    "# **PART 1**"
   ]
  },
  {
   "cell_type": "code",
   "execution_count": 5,
   "id": "4ed5e548",
   "metadata": {
    "execution": {
     "iopub.execute_input": "2023-12-06T08:09:47.632935Z",
     "iopub.status.busy": "2023-12-06T08:09:47.632487Z",
     "iopub.status.idle": "2023-12-06T08:09:47.637640Z",
     "shell.execute_reply": "2023-12-06T08:09:47.636053Z"
    },
    "papermill": {
     "duration": 0.013167,
     "end_time": "2023-12-06T08:09:47.639398",
     "exception": false,
     "start_time": "2023-12-06T08:09:47.626231",
     "status": "completed"
    },
    "tags": []
   },
   "outputs": [],
   "source": [
    "wins = 0\n",
    "score = 1"
   ]
  },
  {
   "cell_type": "code",
   "execution_count": 6,
   "id": "ee0ee7ec",
   "metadata": {
    "execution": {
     "iopub.execute_input": "2023-12-06T08:09:47.650746Z",
     "iopub.status.busy": "2023-12-06T08:09:47.650387Z",
     "iopub.status.idle": "2023-12-06T08:09:47.656248Z",
     "shell.execute_reply": "2023-12-06T08:09:47.655364Z"
    },
    "papermill": {
     "duration": 0.013268,
     "end_time": "2023-12-06T08:09:47.657983",
     "exception": false,
     "start_time": "2023-12-06T08:09:47.644715",
     "status": "completed"
    },
    "tags": []
   },
   "outputs": [],
   "source": [
    "for raceid in range(len(time)):    \n",
    "    for currentspeed in range(int(time[raceid])):\n",
    "        speed = int(currentspeed)\n",
    "        travel_time = int(time[raceid]) - speed\n",
    "        travel = speed * travel_time\n",
    "        if(travel>int(distance[raceid])):\n",
    "            wins += 1\n",
    "    score = score * wins\n",
    "    wins = 0"
   ]
  },
  {
   "cell_type": "code",
   "execution_count": 7,
   "id": "9683daf2",
   "metadata": {
    "execution": {
     "iopub.execute_input": "2023-12-06T08:09:47.668402Z",
     "iopub.status.busy": "2023-12-06T08:09:47.668045Z",
     "iopub.status.idle": "2023-12-06T08:09:47.674138Z",
     "shell.execute_reply": "2023-12-06T08:09:47.672709Z"
    },
    "papermill": {
     "duration": 0.013669,
     "end_time": "2023-12-06T08:09:47.676186",
     "exception": false,
     "start_time": "2023-12-06T08:09:47.662517",
     "status": "completed"
    },
    "tags": []
   },
   "outputs": [
    {
     "data": {
      "text/plain": [
       "500346"
      ]
     },
     "execution_count": 7,
     "metadata": {},
     "output_type": "execute_result"
    }
   ],
   "source": [
    "score"
   ]
  },
  {
   "cell_type": "markdown",
   "id": "4176a331",
   "metadata": {
    "papermill": {
     "duration": 0.004253,
     "end_time": "2023-12-06T08:09:47.685406",
     "exception": false,
     "start_time": "2023-12-06T08:09:47.681153",
     "status": "completed"
    },
    "tags": []
   },
   "source": [
    "# **PART 2**"
   ]
  },
  {
   "cell_type": "code",
   "execution_count": 8,
   "id": "bf15539f",
   "metadata": {
    "execution": {
     "iopub.execute_input": "2023-12-06T08:09:47.696346Z",
     "iopub.status.busy": "2023-12-06T08:09:47.695932Z",
     "iopub.status.idle": "2023-12-06T08:09:47.700897Z",
     "shell.execute_reply": "2023-12-06T08:09:47.699781Z"
    },
    "papermill": {
     "duration": 0.013018,
     "end_time": "2023-12-06T08:09:47.702901",
     "exception": false,
     "start_time": "2023-12-06T08:09:47.689883",
     "status": "completed"
    },
    "tags": []
   },
   "outputs": [],
   "source": [
    "bigtime = int(''.join(time))\n",
    "bigdistc = int(''.join(distance))"
   ]
  },
  {
   "cell_type": "code",
   "execution_count": 9,
   "id": "07dce925",
   "metadata": {
    "execution": {
     "iopub.execute_input": "2023-12-06T08:09:47.713368Z",
     "iopub.status.busy": "2023-12-06T08:09:47.713036Z",
     "iopub.status.idle": "2023-12-06T08:09:47.718997Z",
     "shell.execute_reply": "2023-12-06T08:09:47.717123Z"
    },
    "papermill": {
     "duration": 0.013708,
     "end_time": "2023-12-06T08:09:47.721165",
     "exception": false,
     "start_time": "2023-12-06T08:09:47.707457",
     "status": "completed"
    },
    "tags": []
   },
   "outputs": [
    {
     "name": "stdout",
     "output_type": "stream",
     "text": [
      "51926890 222203111261225\n"
     ]
    }
   ],
   "source": [
    "print(bigtime, bigdistc)"
   ]
  },
  {
   "cell_type": "code",
   "execution_count": 10,
   "id": "bc8cd13f",
   "metadata": {
    "execution": {
     "iopub.execute_input": "2023-12-06T08:09:47.731779Z",
     "iopub.status.busy": "2023-12-06T08:09:47.731359Z",
     "iopub.status.idle": "2023-12-06T08:10:07.933134Z",
     "shell.execute_reply": "2023-12-06T08:10:07.931860Z"
    },
    "papermill": {
     "duration": 20.210066,
     "end_time": "2023-12-06T08:10:07.935684",
     "exception": false,
     "start_time": "2023-12-06T08:09:47.725618",
     "status": "completed"
    },
    "tags": []
   },
   "outputs": [],
   "source": [
    "wins = 0\n",
    "for currentspeed in range(bigtime):\n",
    "    speed = int(currentspeed)\n",
    "    travel_time = bigtime - speed\n",
    "    travel = speed * travel_time\n",
    "    if(travel>bigdistc):\n",
    "        wins += 1"
   ]
  },
  {
   "cell_type": "code",
   "execution_count": 11,
   "id": "1dc477d2",
   "metadata": {
    "execution": {
     "iopub.execute_input": "2023-12-06T08:10:07.946534Z",
     "iopub.status.busy": "2023-12-06T08:10:07.946061Z",
     "iopub.status.idle": "2023-12-06T08:10:07.953581Z",
     "shell.execute_reply": "2023-12-06T08:10:07.952841Z"
    },
    "papermill": {
     "duration": 0.014882,
     "end_time": "2023-12-06T08:10:07.955315",
     "exception": false,
     "start_time": "2023-12-06T08:10:07.940433",
     "status": "completed"
    },
    "tags": []
   },
   "outputs": [
    {
     "data": {
      "text/plain": [
       "42515755"
      ]
     },
     "execution_count": 11,
     "metadata": {},
     "output_type": "execute_result"
    }
   ],
   "source": [
    "wins"
   ]
  },
  {
   "cell_type": "markdown",
   "id": "2aae8f04",
   "metadata": {
    "papermill": {
     "duration": 0.004165,
     "end_time": "2023-12-06T08:10:07.964231",
     "exception": false,
     "start_time": "2023-12-06T08:10:07.960066",
     "status": "completed"
    },
    "tags": []
   },
   "source": [
    "# **PART 2 Efficient**"
   ]
  },
  {
   "cell_type": "code",
   "execution_count": 12,
   "id": "4bb2262d",
   "metadata": {
    "execution": {
     "iopub.execute_input": "2023-12-06T08:10:07.975616Z",
     "iopub.status.busy": "2023-12-06T08:10:07.974328Z",
     "iopub.status.idle": "2023-12-06T08:10:07.981062Z",
     "shell.execute_reply": "2023-12-06T08:10:07.979678Z"
    },
    "papermill": {
     "duration": 0.014247,
     "end_time": "2023-12-06T08:10:07.982840",
     "exception": false,
     "start_time": "2023-12-06T08:10:07.968593",
     "status": "completed"
    },
    "tags": []
   },
   "outputs": [
    {
     "name": "stdout",
     "output_type": "stream",
     "text": [
      "51926890 222203111261225\n"
     ]
    }
   ],
   "source": [
    "print(bigtime, bigdistc)"
   ]
  },
  {
   "cell_type": "code",
   "execution_count": 13,
   "id": "e5647426",
   "metadata": {
    "execution": {
     "iopub.execute_input": "2023-12-06T08:10:07.993968Z",
     "iopub.status.busy": "2023-12-06T08:10:07.993111Z",
     "iopub.status.idle": "2023-12-06T08:10:07.999765Z",
     "shell.execute_reply": "2023-12-06T08:10:07.998550Z"
    },
    "papermill": {
     "duration": 0.015319,
     "end_time": "2023-12-06T08:10:08.002734",
     "exception": false,
     "start_time": "2023-12-06T08:10:07.987415",
     "status": "completed"
    },
    "tags": []
   },
   "outputs": [],
   "source": [
    "import math\n",
    "def solve_for_tp(bigdistc, bigtime):\n",
    "    # Calculate the discriminant\n",
    "    discriminant = bigtime ** 2 - 4 * 1 * bigdistc\n",
    "    sqrt_discriminant = math.sqrt(discriminant)\n",
    "        \n",
    "    # Calculate the two possible solutions for tp\n",
    "    tp1 = (bigtime + sqrt_discriminant) / 2\n",
    "    tp2 = (bigtime - sqrt_discriminant) / 2\n",
    "        \n",
    "    return tp1, tp2\n"
   ]
  },
  {
   "cell_type": "code",
   "execution_count": 14,
   "id": "b91d117b",
   "metadata": {
    "execution": {
     "iopub.execute_input": "2023-12-06T08:10:08.014961Z",
     "iopub.status.busy": "2023-12-06T08:10:08.014580Z",
     "iopub.status.idle": "2023-12-06T08:10:08.020459Z",
     "shell.execute_reply": "2023-12-06T08:10:08.018948Z"
    },
    "papermill": {
     "duration": 0.014596,
     "end_time": "2023-12-06T08:10:08.022867",
     "exception": false,
     "start_time": "2023-12-06T08:10:08.008271",
     "status": "completed"
    },
    "tags": []
   },
   "outputs": [],
   "source": [
    "result = solve_for_tp(bigdistc, bigtime)"
   ]
  },
  {
   "cell_type": "code",
   "execution_count": 15,
   "id": "b3a9a76e",
   "metadata": {
    "execution": {
     "iopub.execute_input": "2023-12-06T08:10:08.036143Z",
     "iopub.status.busy": "2023-12-06T08:10:08.035723Z",
     "iopub.status.idle": "2023-12-06T08:10:08.041399Z",
     "shell.execute_reply": "2023-12-06T08:10:08.039951Z"
    },
    "papermill": {
     "duration": 0.014993,
     "end_time": "2023-12-06T08:10:08.043466",
     "exception": false,
     "start_time": "2023-12-06T08:10:08.028473",
     "status": "completed"
    },
    "tags": []
   },
   "outputs": [
    {
     "name": "stdout",
     "output_type": "stream",
     "text": [
      "42515755\n"
     ]
    }
   ],
   "source": [
    "print(round(result[0]-result[1]))"
   ]
  }
 ],
 "metadata": {
  "kaggle": {
   "accelerator": "none",
   "dataSources": [
    {
     "datasetId": 4117222,
     "sourceId": 7135414,
     "sourceType": "datasetVersion"
    }
   ],
   "dockerImageVersionId": 30587,
   "isGpuEnabled": false,
   "isInternetEnabled": true,
   "language": "python",
   "sourceType": "notebook"
  },
  "kernelspec": {
   "display_name": "Python 3",
   "language": "python",
   "name": "python3"
  },
  "language_info": {
   "codemirror_mode": {
    "name": "ipython",
    "version": 3
   },
   "file_extension": ".py",
   "mimetype": "text/x-python",
   "name": "python",
   "nbconvert_exporter": "python",
   "pygments_lexer": "ipython3",
   "version": "3.10.12"
  },
  "papermill": {
   "default_parameters": {},
   "duration": 23.478907,
   "end_time": "2023-12-06T08:10:08.370002",
   "environment_variables": {},
   "exception": null,
   "input_path": "__notebook__.ipynb",
   "output_path": "__notebook__.ipynb",
   "parameters": {},
   "start_time": "2023-12-06T08:09:44.891095",
   "version": "2.4.0"
  }
 },
 "nbformat": 4,
 "nbformat_minor": 5
}
