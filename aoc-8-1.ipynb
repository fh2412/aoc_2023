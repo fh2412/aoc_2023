{
 "cells": [
  {
   "cell_type": "markdown",
   "id": "24581d81",
   "metadata": {
    "papermill": {
     "duration": 0.005936,
     "end_time": "2023-12-08T08:45:06.724994",
     "exception": false,
     "start_time": "2023-12-08T08:45:06.719058",
     "status": "completed"
    },
    "tags": []
   },
   "source": [
    "# **GET DATA**"
   ]
  },
  {
   "cell_type": "code",
   "execution_count": 1,
   "id": "3e09c4e6",
   "metadata": {
    "execution": {
     "iopub.execute_input": "2023-12-08T08:45:06.738931Z",
     "iopub.status.busy": "2023-12-08T08:45:06.738522Z",
     "iopub.status.idle": "2023-12-08T08:45:06.767891Z",
     "shell.execute_reply": "2023-12-08T08:45:06.766800Z"
    },
    "papermill": {
     "duration": 0.039785,
     "end_time": "2023-12-08T08:45:06.770807",
     "exception": false,
     "start_time": "2023-12-08T08:45:06.731022",
     "status": "completed"
    },
    "tags": []
   },
   "outputs": [],
   "source": [
    "from collections import Counter\n",
    "\n",
    "blobs = open(\"/kaggle/input/aoc-8-fh/aoc_8.txt\", \"r\").read()[:-1].split('\\n\\n')"
   ]
  },
  {
   "cell_type": "code",
   "execution_count": 2,
   "id": "3d32259a",
   "metadata": {
    "execution": {
     "iopub.execute_input": "2023-12-08T08:45:06.784803Z",
     "iopub.status.busy": "2023-12-08T08:45:06.783679Z",
     "iopub.status.idle": "2023-12-08T08:45:06.789262Z",
     "shell.execute_reply": "2023-12-08T08:45:06.788365Z"
    },
    "papermill": {
     "duration": 0.015162,
     "end_time": "2023-12-08T08:45:06.791789",
     "exception": false,
     "start_time": "2023-12-08T08:45:06.776627",
     "status": "completed"
    },
    "tags": []
   },
   "outputs": [
    {
     "name": "stdout",
     "output_type": "stream",
     "text": [
      "LLRRRLLRLRRRLLRLRLRLRLRRRLRRLRRLRLLLRRLLRRLRRLRRLRRRLLLRRLRLRRRLRRRLRLRRLRRRLRLRRRLRLRLLLRLRRLRLRRLRRRLRLRRRLRRRLRRRLRRRLRLRRRLRRRLRLLRRLRLRLRRRLRRLRRRLRRRLRRRLRRRLLLLRRLLRLRRLRRLRRRLRRRLLLRRLRRLRLRRLRRRLRRLRLRRRLRLRRLLRLLRRLRLRRRLRRLRRLRLRRLLLRRRLRLRRRLRLRLLRLRLRRRLRLRLRRRLRRLRRLRRRLRRLLRRRR\n"
     ]
    }
   ],
   "source": [
    "left_right = blobs[0]\n",
    "print(left_right)"
   ]
  },
  {
   "cell_type": "code",
   "execution_count": 3,
   "id": "01602c5d",
   "metadata": {
    "execution": {
     "iopub.execute_input": "2023-12-08T08:45:06.805187Z",
     "iopub.status.busy": "2023-12-08T08:45:06.804770Z",
     "iopub.status.idle": "2023-12-08T08:45:06.813095Z",
     "shell.execute_reply": "2023-12-08T08:45:06.811924Z"
    },
    "papermill": {
     "duration": 0.017847,
     "end_time": "2023-12-08T08:45:06.815436",
     "exception": false,
     "start_time": "2023-12-08T08:45:06.797589",
     "status": "completed"
    },
    "tags": []
   },
   "outputs": [
    {
     "data": {
      "text/plain": [
       "774"
      ]
     },
     "execution_count": 3,
     "metadata": {},
     "output_type": "execute_result"
    }
   ],
   "source": [
    "lines = blobs[1].split('\\n')\n",
    "len(lines)"
   ]
  },
  {
   "cell_type": "markdown",
   "id": "3940d4f5",
   "metadata": {
    "papermill": {
     "duration": 0.005615,
     "end_time": "2023-12-08T08:45:06.827347",
     "exception": false,
     "start_time": "2023-12-08T08:45:06.821732",
     "status": "completed"
    },
    "tags": []
   },
   "source": [
    "# **PART 1**"
   ]
  },
  {
   "cell_type": "code",
   "execution_count": 4,
   "id": "e64d2e71",
   "metadata": {
    "execution": {
     "iopub.execute_input": "2023-12-08T08:45:06.841095Z",
     "iopub.status.busy": "2023-12-08T08:45:06.840663Z",
     "iopub.status.idle": "2023-12-08T08:45:06.847936Z",
     "shell.execute_reply": "2023-12-08T08:45:06.846765Z"
    },
    "papermill": {
     "duration": 0.016953,
     "end_time": "2023-12-08T08:45:06.850298",
     "exception": false,
     "start_time": "2023-12-08T08:45:06.833345",
     "status": "completed"
    },
    "tags": []
   },
   "outputs": [],
   "source": [
    "class StringObject:\n",
    "    def __init__(self, left, right):\n",
    "        self.left = left\n",
    "        self.right = right\n",
    "\n",
    "def parse_strings(strings):\n",
    "    objects = {}\n",
    "    for string in strings:\n",
    "        key, values = string.split(' = ')\n",
    "        left, right = values[1:-1].split(', ')\n",
    "        objects[key] = StringObject(left, right)\n",
    "    return objects\n",
    "\n",
    "# Parse the strings to create objects\n",
    "\n",
    "#print(result[test].left)  # Output: 'VPB'\n",
    "#print(result[test].right)  # Output: 'NKT'\n"
   ]
  },
  {
   "cell_type": "code",
   "execution_count": 5,
   "id": "71d3ba7c",
   "metadata": {
    "execution": {
     "iopub.execute_input": "2023-12-08T08:45:06.864026Z",
     "iopub.status.busy": "2023-12-08T08:45:06.863628Z",
     "iopub.status.idle": "2023-12-08T08:45:06.869997Z",
     "shell.execute_reply": "2023-12-08T08:45:06.868837Z"
    },
    "papermill": {
     "duration": 0.0164,
     "end_time": "2023-12-08T08:45:06.872646",
     "exception": false,
     "start_time": "2023-12-08T08:45:06.856246",
     "status": "completed"
    },
    "tags": []
   },
   "outputs": [],
   "source": [
    "lines = parse_strings(lines)"
   ]
  },
  {
   "cell_type": "code",
   "execution_count": 6,
   "id": "15637b52",
   "metadata": {
    "execution": {
     "iopub.execute_input": "2023-12-08T08:45:06.886448Z",
     "iopub.status.busy": "2023-12-08T08:45:06.886071Z",
     "iopub.status.idle": "2023-12-08T08:45:06.903115Z",
     "shell.execute_reply": "2023-12-08T08:45:06.901662Z"
    },
    "papermill": {
     "duration": 0.027043,
     "end_time": "2023-12-08T08:45:06.905597",
     "exception": false,
     "start_time": "2023-12-08T08:45:06.878554",
     "status": "completed"
    },
    "tags": []
   },
   "outputs": [
    {
     "name": "stdout",
     "output_type": "stream",
     "text": [
      "Finished in: 17287\n"
     ]
    }
   ],
   "source": [
    "current_loc = 'AAA'\n",
    "loopcounter = 0\n",
    "steps = 0\n",
    "while(1):\n",
    "    for direction in left_right:\n",
    "        if(direction == 'L'):\n",
    "            current_loc = lines[current_loc].left\n",
    "        else:\n",
    "            current_loc = lines[current_loc].right\n",
    "        steps += 1\n",
    "        if(current_loc == 'ZZZ'):\n",
    "            print('Finished in:', steps)\n",
    "            break\n",
    "    if(current_loc == 'ZZZ'):\n",
    "        break    \n",
    "    loopcounter += 1"
   ]
  },
  {
   "cell_type": "markdown",
   "id": "ed1f0149",
   "metadata": {
    "papermill": {
     "duration": 0.005631,
     "end_time": "2023-12-08T08:45:06.917239",
     "exception": false,
     "start_time": "2023-12-08T08:45:06.911608",
     "status": "completed"
    },
    "tags": []
   },
   "source": [
    "# **PART 2**"
   ]
  },
  {
   "cell_type": "code",
   "execution_count": 7,
   "id": "11f56639",
   "metadata": {
    "execution": {
     "iopub.execute_input": "2023-12-08T08:45:06.931037Z",
     "iopub.status.busy": "2023-12-08T08:45:06.930641Z",
     "iopub.status.idle": "2023-12-08T08:45:06.939208Z",
     "shell.execute_reply": "2023-12-08T08:45:06.937987Z"
    },
    "papermill": {
     "duration": 0.018512,
     "end_time": "2023-12-08T08:45:06.941618",
     "exception": false,
     "start_time": "2023-12-08T08:45:06.923106",
     "status": "completed"
    },
    "tags": []
   },
   "outputs": [
    {
     "data": {
      "text/plain": [
       "6"
      ]
     },
     "execution_count": 7,
     "metadata": {},
     "output_type": "execute_result"
    }
   ],
   "source": [
    "lines['JDH'].right = 'MVG'\n",
    "start_positions = [key for key in lines.keys() if key.endswith('A')]\n",
    "len(start_positions)"
   ]
  },
  {
   "cell_type": "code",
   "execution_count": 8,
   "id": "d3d37b32",
   "metadata": {
    "execution": {
     "iopub.execute_input": "2023-12-08T08:45:06.956460Z",
     "iopub.status.busy": "2023-12-08T08:45:06.955389Z",
     "iopub.status.idle": "2023-12-08T08:45:06.962872Z",
     "shell.execute_reply": "2023-12-08T08:45:06.961698Z"
    },
    "papermill": {
     "duration": 0.017429,
     "end_time": "2023-12-08T08:45:06.965277",
     "exception": false,
     "start_time": "2023-12-08T08:45:06.947848",
     "status": "completed"
    },
    "tags": []
   },
   "outputs": [
    {
     "data": {
      "text/plain": [
       "['GPA', 'GTA', 'VDA', 'BBA', 'AAA', 'VSA']"
      ]
     },
     "execution_count": 8,
     "metadata": {},
     "output_type": "execute_result"
    }
   ],
   "source": [
    "start_positions"
   ]
  },
  {
   "cell_type": "code",
   "execution_count": 9,
   "id": "1c0a203d",
   "metadata": {
    "execution": {
     "iopub.execute_input": "2023-12-08T08:45:06.980091Z",
     "iopub.status.busy": "2023-12-08T08:45:06.979330Z",
     "iopub.status.idle": "2023-12-08T08:45:06.988658Z",
     "shell.execute_reply": "2023-12-08T08:45:06.987366Z"
    },
    "papermill": {
     "duration": 0.020163,
     "end_time": "2023-12-08T08:45:06.991816",
     "exception": false,
     "start_time": "2023-12-08T08:45:06.971653",
     "status": "completed"
    },
    "tags": []
   },
   "outputs": [
    {
     "name": "stdout",
     "output_type": "stream",
     "text": [
      "GPA\n"
     ]
    },
    {
     "data": {
      "text/plain": [
       "6"
      ]
     },
     "execution_count": 9,
     "metadata": {},
     "output_type": "execute_result"
    }
   ],
   "source": [
    "current_pos = start_positions\n",
    "loopcounter = 0\n",
    "steps = 0\n",
    "done = 0\n",
    "print(current_pos[0])\n",
    "len(current_pos)"
   ]
  },
  {
   "cell_type": "code",
   "execution_count": 10,
   "id": "16a7b971",
   "metadata": {
    "execution": {
     "iopub.execute_input": "2023-12-08T08:45:07.007057Z",
     "iopub.status.busy": "2023-12-08T08:45:07.006326Z",
     "iopub.status.idle": "2023-12-08T08:45:07.121247Z",
     "shell.execute_reply": "2023-12-08T08:45:07.120068Z"
    },
    "papermill": {
     "duration": 0.125811,
     "end_time": "2023-12-08T08:45:07.124173",
     "exception": false,
     "start_time": "2023-12-08T08:45:06.998362",
     "status": "completed"
    },
    "tags": []
   },
   "outputs": [
    {
     "name": "stdout",
     "output_type": "stream",
     "text": [
      "Finished in: 13771 ['CVZ', 'TNP', 'LMX', 'BBQ', 'DVS', 'NSK']\n",
      "Finished in: 17287 ['BGD', 'LLG', 'VLF', 'ZZZ', 'JPT']\n",
      "Finished in: 17873 ['XMG', 'HNB', 'SLB', 'MKZ']\n",
      "Finished in: 19631 ['KNV', 'KMM', 'SKZ']\n",
      "Finished in: 20803 ['FPZ', 'GBT']\n",
      "Finished in: 23147 ['STZ']\n"
     ]
    }
   ],
   "source": [
    "while(1):\n",
    "    for direction in left_right:\n",
    "        if(direction == 'L'):\n",
    "            for pos in range(len(current_pos)):\n",
    "                current_pos[pos] = lines[current_pos[pos]].left\n",
    "        else:\n",
    "            for pos in range(len(current_pos)):\n",
    "                current_pos[pos] = lines[current_pos[pos]].right\n",
    "        steps += 1\n",
    "        if(any(s.endswith('Z') for s in current_pos)):\n",
    "            print('Finished in:', steps, current_pos)\n",
    "            current_pos = [string for string in current_pos if not string.endswith('Z')]\n",
    "            if(len(current_pos)==0):\n",
    "                done = 1\n",
    "                break\n",
    "    if(done == 1):\n",
    "        break    \n",
    "    loopcounter += 1"
   ]
  },
  {
   "cell_type": "code",
   "execution_count": 11,
   "id": "3035f37e",
   "metadata": {
    "execution": {
     "iopub.execute_input": "2023-12-08T08:45:07.139537Z",
     "iopub.status.busy": "2023-12-08T08:45:07.139115Z",
     "iopub.status.idle": "2023-12-08T08:45:07.146758Z",
     "shell.execute_reply": "2023-12-08T08:45:07.145546Z"
    },
    "papermill": {
     "duration": 0.018442,
     "end_time": "2023-12-08T08:45:07.149402",
     "exception": false,
     "start_time": "2023-12-08T08:45:07.130960",
     "status": "completed"
    },
    "tags": []
   },
   "outputs": [],
   "source": [
    "import math\n",
    "\n",
    "def lcm_of_six_numbers(a, b, c, d, e, f):\n",
    "    lcm_ab = (a * b) // math.gcd(a, b)\n",
    "    lcm_abc = (lcm_ab * c) // math.gcd(lcm_ab, c)\n",
    "    lcm_abcd = (lcm_abc * d) // math.gcd(lcm_abc, d)\n",
    "    lcm_abcde = (lcm_abcd * e) // math.gcd(lcm_abcd, e)\n",
    "    lcm_abcdef = (lcm_abcde * f) // math.gcd(lcm_abcde, f)\n",
    "    return lcm_abcdef"
   ]
  },
  {
   "cell_type": "code",
   "execution_count": 12,
   "id": "a9ca095f",
   "metadata": {
    "execution": {
     "iopub.execute_input": "2023-12-08T08:45:07.165268Z",
     "iopub.status.busy": "2023-12-08T08:45:07.164429Z",
     "iopub.status.idle": "2023-12-08T08:45:07.170210Z",
     "shell.execute_reply": "2023-12-08T08:45:07.169374Z"
    },
    "papermill": {
     "duration": 0.016875,
     "end_time": "2023-12-08T08:45:07.173051",
     "exception": false,
     "start_time": "2023-12-08T08:45:07.156176",
     "status": "completed"
    },
    "tags": []
   },
   "outputs": [
    {
     "name": "stdout",
     "output_type": "stream",
     "text": [
      "18625484023687\n"
     ]
    }
   ],
   "source": [
    "result = lcm_of_six_numbers(13771, 17287, 17873, 19631, 20803, 23147)\n",
    "print(result)"
   ]
  }
 ],
 "metadata": {
  "kaggle": {
   "accelerator": "none",
   "dataSources": [
    {
     "datasetId": 4129900,
     "sourceId": 7152477,
     "sourceType": "datasetVersion"
    }
   ],
   "dockerImageVersionId": 30615,
   "isGpuEnabled": false,
   "isInternetEnabled": true,
   "language": "python",
   "sourceType": "notebook"
  },
  "kernelspec": {
   "display_name": "Python 3",
   "language": "python",
   "name": "python3"
  },
  "language_info": {
   "codemirror_mode": {
    "name": "ipython",
    "version": 3
   },
   "file_extension": ".py",
   "mimetype": "text/x-python",
   "name": "python",
   "nbconvert_exporter": "python",
   "pygments_lexer": "ipython3",
   "version": "3.10.12"
  },
  "papermill": {
   "default_parameters": {},
   "duration": 4.441834,
   "end_time": "2023-12-08T08:45:07.601874",
   "environment_variables": {},
   "exception": null,
   "input_path": "__notebook__.ipynb",
   "output_path": "__notebook__.ipynb",
   "parameters": {},
   "start_time": "2023-12-08T08:45:03.160040",
   "version": "2.4.0"
  }
 },
 "nbformat": 4,
 "nbformat_minor": 5
}
