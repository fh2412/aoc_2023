{
 "cells": [
  {
   "cell_type": "code",
   "execution_count": 1,
   "id": "8bc4c1b4",
   "metadata": {
    "_cell_guid": "b1076dfc-b9ad-4769-8c92-a6c4dae69d19",
    "_uuid": "8f2839f25d086af736a60e9eeb907d3b93b6e0e5",
    "execution": {
     "iopub.execute_input": "2023-12-09T12:17:17.230742Z",
     "iopub.status.busy": "2023-12-09T12:17:17.229804Z",
     "iopub.status.idle": "2023-12-09T12:17:17.258510Z",
     "shell.execute_reply": "2023-12-09T12:17:17.257331Z"
    },
    "papermill": {
     "duration": 0.038445,
     "end_time": "2023-12-09T12:17:17.261443",
     "exception": false,
     "start_time": "2023-12-09T12:17:17.222998",
     "status": "completed"
    },
    "tags": []
   },
   "outputs": [
    {
     "data": {
      "text/plain": [
       "200"
      ]
     },
     "execution_count": 1,
     "metadata": {},
     "output_type": "execute_result"
    }
   ],
   "source": [
    "with open('/kaggle/input/aoc-9-1-fh/aoc_9_input.txt', 'r') as file:\n",
    "    # Read the lines and store them in an array\n",
    "    lines = file.readlines()\n",
    "\n",
    "lines = [s.rstrip('\\n') for s in lines]\n",
    "len(lines)"
   ]
  },
  {
   "cell_type": "markdown",
   "id": "b7f9f15e",
   "metadata": {
    "papermill": {
     "duration": 0.003595,
     "end_time": "2023-12-09T12:17:17.269361",
     "exception": false,
     "start_time": "2023-12-09T12:17:17.265766",
     "status": "completed"
    },
    "tags": []
   },
   "source": [
    "# **PART 1**"
   ]
  },
  {
   "cell_type": "code",
   "execution_count": 2,
   "id": "763f453e",
   "metadata": {
    "execution": {
     "iopub.execute_input": "2023-12-09T12:17:17.279815Z",
     "iopub.status.busy": "2023-12-09T12:17:17.278379Z",
     "iopub.status.idle": "2023-12-09T12:17:17.304091Z",
     "shell.execute_reply": "2023-12-09T12:17:17.302870Z"
    },
    "papermill": {
     "duration": 0.033742,
     "end_time": "2023-12-09T12:17:17.306947",
     "exception": false,
     "start_time": "2023-12-09T12:17:17.273205",
     "status": "completed"
    },
    "tags": []
   },
   "outputs": [],
   "source": [
    "result = 0\n",
    "\n",
    "for line in lines:\n",
    "    numbers = [int(num) for num in line.split()]\n",
    "    sequence = [numbers]\n",
    "\n",
    "    while True:\n",
    "        differences = [sequence[-1][i] - sequence[-1][i - 1] for i in range(1, len(sequence[-1]))]\n",
    "        sequence.append(differences)\n",
    "        if all(num == 0 for num in differences):\n",
    "            break\n",
    "\n",
    "    val = 0\n",
    "    for i in range(len(sequence) - 1, 0, -1):\n",
    "        val = val + sequence[i - 1][-1]\n",
    "\n",
    "    result += val"
   ]
  },
  {
   "cell_type": "code",
   "execution_count": 3,
   "id": "f26a4aeb",
   "metadata": {
    "execution": {
     "iopub.execute_input": "2023-12-09T12:17:17.317003Z",
     "iopub.status.busy": "2023-12-09T12:17:17.316576Z",
     "iopub.status.idle": "2023-12-09T12:17:17.323072Z",
     "shell.execute_reply": "2023-12-09T12:17:17.321697Z"
    },
    "papermill": {
     "duration": 0.016306,
     "end_time": "2023-12-09T12:17:17.327204",
     "exception": false,
     "start_time": "2023-12-09T12:17:17.310898",
     "status": "completed"
    },
    "tags": []
   },
   "outputs": [
    {
     "name": "stdout",
     "output_type": "stream",
     "text": [
      "1904165718\n"
     ]
    }
   ],
   "source": [
    "print(result)"
   ]
  },
  {
   "cell_type": "markdown",
   "id": "a63cf946",
   "metadata": {
    "papermill": {
     "duration": 0.004578,
     "end_time": "2023-12-09T12:17:17.336615",
     "exception": false,
     "start_time": "2023-12-09T12:17:17.332037",
     "status": "completed"
    },
    "tags": []
   },
   "source": [
    "# **PART 2**"
   ]
  },
  {
   "cell_type": "code",
   "execution_count": 4,
   "id": "437e8d9e",
   "metadata": {
    "execution": {
     "iopub.execute_input": "2023-12-09T12:17:17.347139Z",
     "iopub.status.busy": "2023-12-09T12:17:17.346710Z",
     "iopub.status.idle": "2023-12-09T12:17:17.376005Z",
     "shell.execute_reply": "2023-12-09T12:17:17.374663Z"
    },
    "papermill": {
     "duration": 0.038805,
     "end_time": "2023-12-09T12:17:17.379596",
     "exception": false,
     "start_time": "2023-12-09T12:17:17.340791",
     "status": "completed"
    },
    "tags": []
   },
   "outputs": [],
   "source": [
    "result = 0\n",
    "\n",
    "for line in lines:\n",
    "    numbers = [int(num) for num in line.split()]\n",
    "    sequence = [numbers]\n",
    "\n",
    "    while True:\n",
    "        differences = [sequence[-1][i] - sequence[-1][i - 1] for i in range(1, len(sequence[-1]))]\n",
    "        sequence.append(differences)\n",
    "        if all(num == 0 for num in differences):\n",
    "            break\n",
    "\n",
    "    val = 0\n",
    "    for i in range(len(sequence) - 1, 0, -1):\n",
    "        val = sequence[i - 1][0] - val\n",
    "\n",
    "    result += val"
   ]
  },
  {
   "cell_type": "code",
   "execution_count": 5,
   "id": "9ff9c430",
   "metadata": {
    "execution": {
     "iopub.execute_input": "2023-12-09T12:17:17.390101Z",
     "iopub.status.busy": "2023-12-09T12:17:17.389685Z",
     "iopub.status.idle": "2023-12-09T12:17:17.395857Z",
     "shell.execute_reply": "2023-12-09T12:17:17.394459Z"
    },
    "papermill": {
     "duration": 0.015967,
     "end_time": "2023-12-09T12:17:17.399671",
     "exception": false,
     "start_time": "2023-12-09T12:17:17.383704",
     "status": "completed"
    },
    "tags": []
   },
   "outputs": [
    {
     "name": "stdout",
     "output_type": "stream",
     "text": [
      "964\n"
     ]
    }
   ],
   "source": [
    "print(result)"
   ]
  },
  {
   "cell_type": "code",
   "execution_count": null,
   "id": "ab24d358",
   "metadata": {
    "papermill": {
     "duration": 0.003737,
     "end_time": "2023-12-09T12:17:17.407577",
     "exception": false,
     "start_time": "2023-12-09T12:17:17.403840",
     "status": "completed"
    },
    "tags": []
   },
   "outputs": [],
   "source": []
  }
 ],
 "metadata": {
  "kaggle": {
   "accelerator": "none",
   "dataSources": [
    {
     "datasetId": 4135775,
     "sourceId": 7160617,
     "sourceType": "datasetVersion"
    }
   ],
   "dockerImageVersionId": 30615,
   "isGpuEnabled": false,
   "isInternetEnabled": true,
   "language": "python",
   "sourceType": "notebook"
  },
  "kernelspec": {
   "display_name": "Python 3",
   "language": "python",
   "name": "python3"
  },
  "language_info": {
   "codemirror_mode": {
    "name": "ipython",
    "version": 3
   },
   "file_extension": ".py",
   "mimetype": "text/x-python",
   "name": "python",
   "nbconvert_exporter": "python",
   "pygments_lexer": "ipython3",
   "version": "3.10.12"
  },
  "papermill": {
   "default_parameters": {},
   "duration": 6.00815,
   "end_time": "2023-12-09T12:17:17.836836",
   "environment_variables": {},
   "exception": null,
   "input_path": "__notebook__.ipynb",
   "output_path": "__notebook__.ipynb",
   "parameters": {},
   "start_time": "2023-12-09T12:17:11.828686",
   "version": "2.4.0"
  }
 },
 "nbformat": 4,
 "nbformat_minor": 5
}
